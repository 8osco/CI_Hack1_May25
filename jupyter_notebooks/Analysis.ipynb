{
 "cells": [
  {
   "cell_type": "markdown",
   "id": "902f24dd",
   "metadata": {},
   "source": [
    "# **Analysis**"
   ]
  },
  {
   "cell_type": "markdown",
   "id": "5edf2303",
   "metadata": {},
   "source": [
    "## Objectives\n",
    "\n",
    "* Data analysis following the data preparation executed under Data_ETL.ipynb\n",
    "\n",
    "## Inputs\n",
    "\n",
    "* Cleaned data processed under Data_ETL.ipynb\n",
    "\n",
    "## Outputs\n",
    "\n",
    "* Statistics and visualisations for the business requirements\n"
   ]
  },
  {
   "cell_type": "markdown",
   "id": "74ed84b1",
   "metadata": {},
   "source": [
    "# 1 Import packages"
   ]
  },
  {
   "cell_type": "markdown",
   "id": "58748a7d",
   "metadata": {},
   "source": [
    "Import relevant packages required for data analysis and visualisation"
   ]
  },
  {
   "cell_type": "markdown",
   "id": "8d00ddfb",
   "metadata": {},
   "source": [
    "Import NumPy, Pandas, Matplotlib, Seaborn and Plotly:"
   ]
  },
  {
   "cell_type": "code",
   "execution_count": 1,
   "id": "818d838d",
   "metadata": {},
   "outputs": [],
   "source": [
    "import numpy as np\n",
    "import pandas as pd\n",
    "import matplotlib.pyplot as plt\n",
    "import seaborn as sns\n",
    "import plotly.express as px"
   ]
  },
  {
   "cell_type": "markdown",
   "id": "4b9d8108",
   "metadata": {},
   "source": [
    "# 2 Data extract and familiarisation"
   ]
  },
  {
   "cell_type": "markdown",
   "id": "ebe54595",
   "metadata": {},
   "source": [
    "Read in csv file and familiarise with the file structure at a high level, through use of various dataframe methods:"
   ]
  },
  {
   "cell_type": "code",
   "execution_count": 2,
   "id": "31ddf03b",
   "metadata": {},
   "outputs": [
    {
     "data": {
      "text/html": [
       "<div>\n",
       "<style scoped>\n",
       "    .dataframe tbody tr th:only-of-type {\n",
       "        vertical-align: middle;\n",
       "    }\n",
       "\n",
       "    .dataframe tbody tr th {\n",
       "        vertical-align: top;\n",
       "    }\n",
       "\n",
       "    .dataframe thead th {\n",
       "        text-align: right;\n",
       "    }\n",
       "</style>\n",
       "<table border=\"1\" class=\"dataframe\">\n",
       "  <thead>\n",
       "    <tr style=\"text-align: right;\">\n",
       "      <th></th>\n",
       "      <th>age</th>\n",
       "      <th>sex</th>\n",
       "      <th>bmi</th>\n",
       "      <th>children</th>\n",
       "      <th>smoker</th>\n",
       "      <th>region</th>\n",
       "      <th>charges</th>\n",
       "      <th>weight_group</th>\n",
       "    </tr>\n",
       "  </thead>\n",
       "  <tbody>\n",
       "    <tr>\n",
       "      <th>0</th>\n",
       "      <td>19</td>\n",
       "      <td>female</td>\n",
       "      <td>27.900</td>\n",
       "      <td>0</td>\n",
       "      <td>yes</td>\n",
       "      <td>southwest</td>\n",
       "      <td>16884.92400</td>\n",
       "      <td>Overweight</td>\n",
       "    </tr>\n",
       "    <tr>\n",
       "      <th>1</th>\n",
       "      <td>18</td>\n",
       "      <td>male</td>\n",
       "      <td>33.770</td>\n",
       "      <td>1</td>\n",
       "      <td>no</td>\n",
       "      <td>southeast</td>\n",
       "      <td>1725.55230</td>\n",
       "      <td>Obese</td>\n",
       "    </tr>\n",
       "    <tr>\n",
       "      <th>2</th>\n",
       "      <td>28</td>\n",
       "      <td>male</td>\n",
       "      <td>33.000</td>\n",
       "      <td>3</td>\n",
       "      <td>no</td>\n",
       "      <td>southeast</td>\n",
       "      <td>4449.46200</td>\n",
       "      <td>Obese</td>\n",
       "    </tr>\n",
       "    <tr>\n",
       "      <th>3</th>\n",
       "      <td>33</td>\n",
       "      <td>male</td>\n",
       "      <td>22.705</td>\n",
       "      <td>0</td>\n",
       "      <td>no</td>\n",
       "      <td>northwest</td>\n",
       "      <td>21984.47061</td>\n",
       "      <td>Normal_weight</td>\n",
       "    </tr>\n",
       "    <tr>\n",
       "      <th>4</th>\n",
       "      <td>32</td>\n",
       "      <td>male</td>\n",
       "      <td>28.880</td>\n",
       "      <td>0</td>\n",
       "      <td>no</td>\n",
       "      <td>northwest</td>\n",
       "      <td>3866.85520</td>\n",
       "      <td>Overweight</td>\n",
       "    </tr>\n",
       "  </tbody>\n",
       "</table>\n",
       "</div>"
      ],
      "text/plain": [
       "   age     sex     bmi  children smoker     region      charges   weight_group\n",
       "0   19  female  27.900         0    yes  southwest  16884.92400     Overweight\n",
       "1   18    male  33.770         1     no  southeast   1725.55230          Obese\n",
       "2   28    male  33.000         3     no  southeast   4449.46200          Obese\n",
       "3   33    male  22.705         0     no  northwest  21984.47061  Normal_weight\n",
       "4   32    male  28.880         0     no  northwest   3866.85520     Overweight"
      ]
     },
     "execution_count": 2,
     "metadata": {},
     "output_type": "execute_result"
    }
   ],
   "source": [
    "df = pd.read_csv('../data/inputs/cleaned/insurance_data_cleaned.csv')\n",
    "df.head()"
   ]
  },
  {
   "cell_type": "code",
   "execution_count": 3,
   "id": "94f5f161",
   "metadata": {},
   "outputs": [
    {
     "data": {
      "text/plain": [
       "(1337, 8)"
      ]
     },
     "execution_count": 3,
     "metadata": {},
     "output_type": "execute_result"
    }
   ],
   "source": [
    "df.shape"
   ]
  },
  {
   "cell_type": "code",
   "execution_count": 4,
   "id": "43c77a95",
   "metadata": {},
   "outputs": [
    {
     "name": "stdout",
     "output_type": "stream",
     "text": [
      "<class 'pandas.core.frame.DataFrame'>\n",
      "RangeIndex: 1337 entries, 0 to 1336\n",
      "Data columns (total 8 columns):\n",
      " #   Column        Non-Null Count  Dtype  \n",
      "---  ------        --------------  -----  \n",
      " 0   age           1337 non-null   int64  \n",
      " 1   sex           1337 non-null   object \n",
      " 2   bmi           1337 non-null   float64\n",
      " 3   children      1337 non-null   int64  \n",
      " 4   smoker        1337 non-null   object \n",
      " 5   region        1337 non-null   object \n",
      " 6   charges       1337 non-null   float64\n",
      " 7   weight_group  1337 non-null   object \n",
      "dtypes: float64(2), int64(2), object(4)\n",
      "memory usage: 83.7+ KB\n"
     ]
    }
   ],
   "source": [
    "df.info()"
   ]
  },
  {
   "cell_type": "markdown",
   "id": "f57b24c2",
   "metadata": {},
   "source": [
    "The dataset is as expected, 1337 rows and 8 columns with the \"weight_group\" field that was added.  Data types for the columns look fine."
   ]
  },
  {
   "cell_type": "markdown",
   "id": "33d7ddd8",
   "metadata": {},
   "source": [
    "Drilling into the data a bit more to get a sense of the data distribution.\n",
    "\n",
    "Seaborn Displot offers a good visualisation of the population split by multiple attributes.\n",
    "In the visualisation below, we have the population of females and males (split into smoker and non-smoker) plotted in each bar chart.\n",
    "Regions are plotted across the columns and weight_groups are plotted across the rows."
   ]
  },
  {
   "cell_type": "code",
   "execution_count": 5,
   "id": "f7648c08",
   "metadata": {},
   "outputs": [
    {
     "data": {
      "image/png": "[encoded data removed]",
      "text/plain": [
       "<Figure size 2073.88x2000 with 16 Axes>"
      ]
     },
     "metadata": {},
     "output_type": "display_data"
    }
   ],
   "source": [
    "# Define the order of the weight groups to give a more logical flow in our presentation:\n",
    "weight_order = ['Underweight', 'Normal_weight', 'Overweight', 'Obese']\n",
    "df['weight_group'] = pd.Categorical(df['weight_group'], categories=weight_order, ordered=True)\n",
    "\n",
    "# Leave gap between the bars using the \"shrink\" parameter\n",
    "datadist_plot = sns.displot(df, x=\"sex\", col=\"region\", row=\"weight_group\", hue=\"smoker\", multiple='stack', shrink=0.8)\n",
    "\n",
    "# Add a title for the plot\n",
    "datadist_plot.fig.suptitle('Data Distribution Analysis', fontsize=16)\n",
    "\n",
    "# Adjust layout to avoid overlapping between the title and the charts\n",
    "datadist_plot.fig.subplots_adjust(top=0.95)\n",
    "\n",
    "plt.show()"
   ]
  },
  {
   "cell_type": "markdown",
   "id": "f8e5f533",
   "metadata": {},
   "source": [
    "### Observations:\n",
    "1) Distributions of the insured populations in the dataset are broadly similar across all regions.  Most of the population falls under the obese category for all regions, followed by overweight.  There are relatively few counts in the normal and almost negligible in underweight.\n",
    "2) Non-smoker dominates in the dataset.  There are noticeably more smokers in the obese and overweight categories, particularly in the Southwest and Southeast regions.\n",
    "3) Male and female populations are roughly the same across all regions.  Southeast has higher overall population relative to other regions, as well as the biggest male vs female population differential.  See Pivot Table below."
   ]
  },
  {
   "cell_type": "code",
   "execution_count": 6,
   "id": "2da8143c",
   "metadata": {},
   "outputs": [
    {
     "data": {
      "text/html": [
       "<div>\n",
       "<style scoped>\n",
       "    .dataframe tbody tr th:only-of-type {\n",
       "        vertical-align: middle;\n",
       "    }\n",
       "\n",
       "    .dataframe tbody tr th {\n",
       "        vertical-align: top;\n",
       "    }\n",
       "\n",
       "    .dataframe thead th {\n",
       "        text-align: right;\n",
       "    }\n",
       "</style>\n",
       "<table border=\"1\" class=\"dataframe\">\n",
       "  <thead>\n",
       "    <tr style=\"text-align: right;\">\n",
       "      <th>sex</th>\n",
       "      <th>female</th>\n",
       "      <th>male</th>\n",
       "    </tr>\n",
       "    <tr>\n",
       "      <th>region</th>\n",
       "      <th></th>\n",
       "      <th></th>\n",
       "    </tr>\n",
       "  </thead>\n",
       "  <tbody>\n",
       "    <tr>\n",
       "      <th>northeast</th>\n",
       "      <td>161</td>\n",
       "      <td>163</td>\n",
       "    </tr>\n",
       "    <tr>\n",
       "      <th>northwest</th>\n",
       "      <td>164</td>\n",
       "      <td>160</td>\n",
       "    </tr>\n",
       "    <tr>\n",
       "      <th>southeast</th>\n",
       "      <td>175</td>\n",
       "      <td>189</td>\n",
       "    </tr>\n",
       "    <tr>\n",
       "      <th>southwest</th>\n",
       "      <td>162</td>\n",
       "      <td>163</td>\n",
       "    </tr>\n",
       "  </tbody>\n",
       "</table>\n",
       "</div>"
      ],
      "text/plain": [
       "sex        female  male\n",
       "region                 \n",
       "northeast     161   163\n",
       "northwest     164   160\n",
       "southeast     175   189\n",
       "southwest     162   163"
      ]
     },
     "execution_count": 6,
     "metadata": {},
     "output_type": "execute_result"
    }
   ],
   "source": [
    "pd.pivot_table(data=df,index='region',columns='sex',aggfunc='size')\n"
   ]
  },
  {
   "cell_type": "markdown",
   "id": "126b2319",
   "metadata": {},
   "source": [
    "# 3 Basic statistics"
   ]
  },
  {
   "cell_type": "markdown",
   "id": "27e95002",
   "metadata": {},
   "source": [
    "We shall examine average charges by age, gender and region, in turn for each individual attribute initially.\n"
   ]
  },
  {
   "cell_type": "markdown",
   "id": "3e64b878",
   "metadata": {},
   "source": [
    "Average charges by age:"
   ]
  },
  {
   "cell_type": "code",
   "execution_count": 7,
   "id": "cf101aa6",
   "metadata": {},
   "outputs": [
    {
     "data": {
      "text/html": [
       "<div>\n",
       "<style scoped>\n",
       "    .dataframe tbody tr th:only-of-type {\n",
       "        vertical-align: middle;\n",
       "    }\n",
       "\n",
       "    .dataframe tbody tr th {\n",
       "        vertical-align: top;\n",
       "    }\n",
       "\n",
       "    .dataframe thead th {\n",
       "        text-align: right;\n",
       "    }\n",
       "</style>\n",
       "<table border=\"1\" class=\"dataframe\">\n",
       "  <thead>\n",
       "    <tr style=\"text-align: right;\">\n",
       "      <th></th>\n",
       "      <th>age</th>\n",
       "      <th>charges</th>\n",
       "    </tr>\n",
       "  </thead>\n",
       "  <tbody>\n",
       "    <tr>\n",
       "      <th>0</th>\n",
       "      <td>18</td>\n",
       "      <td>7086.22</td>\n",
       "    </tr>\n",
       "    <tr>\n",
       "      <th>1</th>\n",
       "      <td>19</td>\n",
       "      <td>9868.93</td>\n",
       "    </tr>\n",
       "    <tr>\n",
       "      <th>2</th>\n",
       "      <td>20</td>\n",
       "      <td>10159.70</td>\n",
       "    </tr>\n",
       "    <tr>\n",
       "      <th>3</th>\n",
       "      <td>21</td>\n",
       "      <td>4730.46</td>\n",
       "    </tr>\n",
       "    <tr>\n",
       "      <th>4</th>\n",
       "      <td>22</td>\n",
       "      <td>10012.93</td>\n",
       "    </tr>\n",
       "    <tr>\n",
       "      <th>5</th>\n",
       "      <td>23</td>\n",
       "      <td>12419.82</td>\n",
       "    </tr>\n",
       "    <tr>\n",
       "      <th>6</th>\n",
       "      <td>24</td>\n",
       "      <td>10648.02</td>\n",
       "    </tr>\n",
       "    <tr>\n",
       "      <th>7</th>\n",
       "      <td>25</td>\n",
       "      <td>9838.37</td>\n",
       "    </tr>\n",
       "    <tr>\n",
       "      <th>8</th>\n",
       "      <td>26</td>\n",
       "      <td>6133.83</td>\n",
       "    </tr>\n",
       "    <tr>\n",
       "      <th>9</th>\n",
       "      <td>27</td>\n",
       "      <td>12184.70</td>\n",
       "    </tr>\n",
       "    <tr>\n",
       "      <th>10</th>\n",
       "      <td>28</td>\n",
       "      <td>9069.19</td>\n",
       "    </tr>\n",
       "    <tr>\n",
       "      <th>11</th>\n",
       "      <td>29</td>\n",
       "      <td>10430.16</td>\n",
       "    </tr>\n",
       "    <tr>\n",
       "      <th>12</th>\n",
       "      <td>30</td>\n",
       "      <td>12719.11</td>\n",
       "    </tr>\n",
       "    <tr>\n",
       "      <th>13</th>\n",
       "      <td>31</td>\n",
       "      <td>10196.98</td>\n",
       "    </tr>\n",
       "    <tr>\n",
       "      <th>14</th>\n",
       "      <td>32</td>\n",
       "      <td>9220.30</td>\n",
       "    </tr>\n",
       "    <tr>\n",
       "      <th>15</th>\n",
       "      <td>33</td>\n",
       "      <td>12351.53</td>\n",
       "    </tr>\n",
       "    <tr>\n",
       "      <th>16</th>\n",
       "      <td>34</td>\n",
       "      <td>11613.53</td>\n",
       "    </tr>\n",
       "    <tr>\n",
       "      <th>17</th>\n",
       "      <td>35</td>\n",
       "      <td>11307.18</td>\n",
       "    </tr>\n",
       "    <tr>\n",
       "      <th>18</th>\n",
       "      <td>36</td>\n",
       "      <td>12204.48</td>\n",
       "    </tr>\n",
       "    <tr>\n",
       "      <th>19</th>\n",
       "      <td>37</td>\n",
       "      <td>18019.91</td>\n",
       "    </tr>\n",
       "    <tr>\n",
       "      <th>20</th>\n",
       "      <td>38</td>\n",
       "      <td>8102.73</td>\n",
       "    </tr>\n",
       "    <tr>\n",
       "      <th>21</th>\n",
       "      <td>39</td>\n",
       "      <td>11778.24</td>\n",
       "    </tr>\n",
       "    <tr>\n",
       "      <th>22</th>\n",
       "      <td>40</td>\n",
       "      <td>11772.25</td>\n",
       "    </tr>\n",
       "    <tr>\n",
       "      <th>23</th>\n",
       "      <td>41</td>\n",
       "      <td>9653.75</td>\n",
       "    </tr>\n",
       "    <tr>\n",
       "      <th>24</th>\n",
       "      <td>42</td>\n",
       "      <td>13061.04</td>\n",
       "    </tr>\n",
       "    <tr>\n",
       "      <th>25</th>\n",
       "      <td>43</td>\n",
       "      <td>19267.28</td>\n",
       "    </tr>\n",
       "    <tr>\n",
       "      <th>26</th>\n",
       "      <td>44</td>\n",
       "      <td>15859.40</td>\n",
       "    </tr>\n",
       "    <tr>\n",
       "      <th>27</th>\n",
       "      <td>45</td>\n",
       "      <td>14830.20</td>\n",
       "    </tr>\n",
       "    <tr>\n",
       "      <th>28</th>\n",
       "      <td>46</td>\n",
       "      <td>14342.59</td>\n",
       "    </tr>\n",
       "    <tr>\n",
       "      <th>29</th>\n",
       "      <td>47</td>\n",
       "      <td>17654.00</td>\n",
       "    </tr>\n",
       "    <tr>\n",
       "      <th>30</th>\n",
       "      <td>48</td>\n",
       "      <td>14632.50</td>\n",
       "    </tr>\n",
       "    <tr>\n",
       "      <th>31</th>\n",
       "      <td>49</td>\n",
       "      <td>12696.01</td>\n",
       "    </tr>\n",
       "    <tr>\n",
       "      <th>32</th>\n",
       "      <td>50</td>\n",
       "      <td>15663.00</td>\n",
       "    </tr>\n",
       "    <tr>\n",
       "      <th>33</th>\n",
       "      <td>51</td>\n",
       "      <td>15682.26</td>\n",
       "    </tr>\n",
       "    <tr>\n",
       "      <th>34</th>\n",
       "      <td>52</td>\n",
       "      <td>18256.27</td>\n",
       "    </tr>\n",
       "    <tr>\n",
       "      <th>35</th>\n",
       "      <td>53</td>\n",
       "      <td>16020.93</td>\n",
       "    </tr>\n",
       "    <tr>\n",
       "      <th>36</th>\n",
       "      <td>54</td>\n",
       "      <td>18758.55</td>\n",
       "    </tr>\n",
       "    <tr>\n",
       "      <th>37</th>\n",
       "      <td>55</td>\n",
       "      <td>16164.55</td>\n",
       "    </tr>\n",
       "    <tr>\n",
       "      <th>38</th>\n",
       "      <td>56</td>\n",
       "      <td>15025.52</td>\n",
       "    </tr>\n",
       "    <tr>\n",
       "      <th>39</th>\n",
       "      <td>57</td>\n",
       "      <td>16447.19</td>\n",
       "    </tr>\n",
       "    <tr>\n",
       "      <th>40</th>\n",
       "      <td>58</td>\n",
       "      <td>13878.93</td>\n",
       "    </tr>\n",
       "    <tr>\n",
       "      <th>41</th>\n",
       "      <td>59</td>\n",
       "      <td>18895.87</td>\n",
       "    </tr>\n",
       "    <tr>\n",
       "      <th>42</th>\n",
       "      <td>60</td>\n",
       "      <td>21979.42</td>\n",
       "    </tr>\n",
       "    <tr>\n",
       "      <th>43</th>\n",
       "      <td>61</td>\n",
       "      <td>22024.46</td>\n",
       "    </tr>\n",
       "    <tr>\n",
       "      <th>44</th>\n",
       "      <td>62</td>\n",
       "      <td>19163.86</td>\n",
       "    </tr>\n",
       "    <tr>\n",
       "      <th>45</th>\n",
       "      <td>63</td>\n",
       "      <td>19885.00</td>\n",
       "    </tr>\n",
       "    <tr>\n",
       "      <th>46</th>\n",
       "      <td>64</td>\n",
       "      <td>23275.53</td>\n",
       "    </tr>\n",
       "  </tbody>\n",
       "</table>\n",
       "</div>"
      ],
      "text/plain": [
       "    age   charges\n",
       "0    18   7086.22\n",
       "1    19   9868.93\n",
       "2    20  10159.70\n",
       "3    21   4730.46\n",
       "4    22  10012.93\n",
       "5    23  12419.82\n",
       "6    24  10648.02\n",
       "7    25   9838.37\n",
       "8    26   6133.83\n",
       "9    27  12184.70\n",
       "10   28   9069.19\n",
       "11   29  10430.16\n",
       "12   30  12719.11\n",
       "13   31  10196.98\n",
       "14   32   9220.30\n",
       "15   33  12351.53\n",
       "16   34  11613.53\n",
       "17   35  11307.18\n",
       "18   36  12204.48\n",
       "19   37  18019.91\n",
       "20   38   8102.73\n",
       "21   39  11778.24\n",
       "22   40  11772.25\n",
       "23   41   9653.75\n",
       "24   42  13061.04\n",
       "25   43  19267.28\n",
       "26   44  15859.40\n",
       "27   45  14830.20\n",
       "28   46  14342.59\n",
       "29   47  17654.00\n",
       "30   48  14632.50\n",
       "31   49  12696.01\n",
       "32   50  15663.00\n",
       "33   51  15682.26\n",
       "34   52  18256.27\n",
       "35   53  16020.93\n",
       "36   54  18758.55\n",
       "37   55  16164.55\n",
       "38   56  15025.52\n",
       "39   57  16447.19\n",
       "40   58  13878.93\n",
       "41   59  18895.87\n",
       "42   60  21979.42\n",
       "43   61  22024.46\n",
       "44   62  19163.86\n",
       "45   63  19885.00\n",
       "46   64  23275.53"
      ]
     },
     "execution_count": 7,
     "metadata": {},
     "output_type": "execute_result"
    }
   ],
   "source": [
    "df_age_grouped = df.groupby(['age'])['charges'].mean().reset_index().round(2)\n",
    "df_age_grouped"
   ]
  },
  {
   "cell_type": "markdown",
   "id": "c9a4694c",
   "metadata": {},
   "source": [
    "A chart would be helpful to visualise the relationship between age and average charges.  We use Seaborn \"LM plot\":"
   ]
  },
  {
   "cell_type": "code",
   "execution_count": 8,
   "id": "6a620fb7",
   "metadata": {},
   "outputs": [
    {
     "data": {
      "image/png": "[encoded data removed]",
      "text/plain": [
       "<Figure size 500x500 with 1 Axes>"
      ]
     },
     "metadata": {},
     "output_type": "display_data"
    }
   ],
   "source": [
    "avg_charge_age_chart = sns.lmplot(data=df_age_grouped, x=\"age\", y=\"charges\")\n",
    "\n",
    "# Update labels and title\n",
    "avg_charge_age_chart.set_axis_labels('Age', 'Average Charges')\n",
    "plt.title('Average Charges by Age')\n",
    "\n",
    "plt.show()"
   ]
  },
  {
   "cell_type": "markdown",
   "id": "98eaaaae",
   "metadata": {},
   "source": [
    "Average charges by gender:"
   ]
  },
  {
   "cell_type": "code",
   "execution_count": 9,
   "id": "8fc7c1d9",
   "metadata": {},
   "outputs": [
    {
     "data": {
      "text/html": [
       "<div>\n",
       "<style scoped>\n",
       "    .dataframe tbody tr th:only-of-type {\n",
       "        vertical-align: middle;\n",
       "    }\n",
       "\n",
       "    .dataframe tbody tr th {\n",
       "        vertical-align: top;\n",
       "    }\n",
       "\n",
       "    .dataframe thead th {\n",
       "        text-align: right;\n",
       "    }\n",
       "</style>\n",
       "<table border=\"1\" class=\"dataframe\">\n",
       "  <thead>\n",
       "    <tr style=\"text-align: right;\">\n",
       "      <th></th>\n",
       "      <th>sex</th>\n",
       "      <th>charges</th>\n",
       "    </tr>\n",
       "  </thead>\n",
       "  <tbody>\n",
       "    <tr>\n",
       "      <th>0</th>\n",
       "      <td>female</td>\n",
       "      <td>12569.58</td>\n",
       "    </tr>\n",
       "    <tr>\n",
       "      <th>1</th>\n",
       "      <td>male</td>\n",
       "      <td>13975.00</td>\n",
       "    </tr>\n",
       "  </tbody>\n",
       "</table>\n",
       "</div>"
      ],
      "text/plain": [
       "      sex   charges\n",
       "0  female  12569.58\n",
       "1    male  13975.00"
      ]
     },
     "execution_count": 9,
     "metadata": {},
     "output_type": "execute_result"
    }
   ],
   "source": [
    "df_sex_grouped = df.groupby(['sex'])['charges'].mean().reset_index().round(2)\n",
    "df_sex_grouped"
   ]
  },
  {
   "cell_type": "markdown",
   "id": "1cc86b45",
   "metadata": {},
   "source": [
    "Average charges by region:"
   ]
  },
  {
   "cell_type": "code",
   "execution_count": 10,
   "id": "c59b5be4",
   "metadata": {},
   "outputs": [
    {
     "data": {
      "text/html": [
       "<div>\n",
       "<style scoped>\n",
       "    .dataframe tbody tr th:only-of-type {\n",
       "        vertical-align: middle;\n",
       "    }\n",
       "\n",
       "    .dataframe tbody tr th {\n",
       "        vertical-align: top;\n",
       "    }\n",
       "\n",
       "    .dataframe thead th {\n",
       "        text-align: right;\n",
       "    }\n",
       "</style>\n",
       "<table border=\"1\" class=\"dataframe\">\n",
       "  <thead>\n",
       "    <tr style=\"text-align: right;\">\n",
       "      <th></th>\n",
       "      <th>region</th>\n",
       "      <th>charges</th>\n",
       "    </tr>\n",
       "  </thead>\n",
       "  <tbody>\n",
       "    <tr>\n",
       "      <th>0</th>\n",
       "      <td>northeast</td>\n",
       "      <td>13406.38</td>\n",
       "    </tr>\n",
       "    <tr>\n",
       "      <th>1</th>\n",
       "      <td>northwest</td>\n",
       "      <td>12450.84</td>\n",
       "    </tr>\n",
       "    <tr>\n",
       "      <th>2</th>\n",
       "      <td>southeast</td>\n",
       "      <td>14735.41</td>\n",
       "    </tr>\n",
       "    <tr>\n",
       "      <th>3</th>\n",
       "      <td>southwest</td>\n",
       "      <td>12346.94</td>\n",
       "    </tr>\n",
       "  </tbody>\n",
       "</table>\n",
       "</div>"
      ],
      "text/plain": [
       "      region   charges\n",
       "0  northeast  13406.38\n",
       "1  northwest  12450.84\n",
       "2  southeast  14735.41\n",
       "3  southwest  12346.94"
      ]
     },
     "execution_count": 10,
     "metadata": {},
     "output_type": "execute_result"
    }
   ],
   "source": [
    "df_region_grouped = df.groupby(['region'])['charges'].mean().reset_index().round(2)\n",
    "df_region_grouped"
   ]
  },
  {
   "cell_type": "markdown",
   "id": "6d329b75",
   "metadata": {},
   "source": [
    "Observations:\n",
    "\n",
    "1) Average charges broadly increase with age.  There is a fairly wide dispersion from the tram line, which is likely to be driven by other factors such as gender, smoker status, region, BMI category.\n",
    "2) Average overall female charges are lower than male.  Further breakdown by other factors may provide greater insight.\n",
    "3) Southeast region has the highest average charge.  This could be a reflection of the region having the highest count of obese population."
   ]
  },
  {
   "cell_type": "markdown",
   "id": "e5fd7cd7",
   "metadata": {},
   "source": [
    "# 4 Correlations between different attributes and average charges"
   ]
  },
  {
   "cell_type": "markdown",
   "id": "e5b34942",
   "metadata": {},
   "source": [
    "We extend from the previous section and examine the impact of region, gender, age and smoker status on average charges with visualisation."
   ]
  },
  {
   "cell_type": "markdown",
   "id": "a9d5cd9c",
   "metadata": {},
   "source": [
    "We first use the \"groupby\" function to create a Pivot Table, which shows average charges for each of the combinations across region, gender, age and smoker status:"
   ]
  },
  {
   "cell_type": "code",
   "execution_count": 11,
   "id": "7f0c41b3",
   "metadata": {},
   "outputs": [
    {
     "data": {
      "text/html": [
       "<div>\n",
       "<style scoped>\n",
       "    .dataframe tbody tr th:only-of-type {\n",
       "        vertical-align: middle;\n",
       "    }\n",
       "\n",
       "    .dataframe tbody tr th {\n",
       "        vertical-align: top;\n",
       "    }\n",
       "\n",
       "    .dataframe thead th {\n",
       "        text-align: right;\n",
       "    }\n",
       "</style>\n",
       "<table border=\"1\" class=\"dataframe\">\n",
       "  <thead>\n",
       "    <tr style=\"text-align: right;\">\n",
       "      <th></th>\n",
       "      <th>region</th>\n",
       "      <th>sex</th>\n",
       "      <th>age</th>\n",
       "      <th>smoker</th>\n",
       "      <th>charges</th>\n",
       "    </tr>\n",
       "  </thead>\n",
       "  <tbody>\n",
       "    <tr>\n",
       "      <th>0</th>\n",
       "      <td>northeast</td>\n",
       "      <td>female</td>\n",
       "      <td>18</td>\n",
       "      <td>no</td>\n",
       "      <td>4191.84</td>\n",
       "    </tr>\n",
       "    <tr>\n",
       "      <th>1</th>\n",
       "      <td>northeast</td>\n",
       "      <td>female</td>\n",
       "      <td>18</td>\n",
       "      <td>yes</td>\n",
       "      <td>14283.46</td>\n",
       "    </tr>\n",
       "    <tr>\n",
       "      <th>2</th>\n",
       "      <td>northeast</td>\n",
       "      <td>female</td>\n",
       "      <td>20</td>\n",
       "      <td>no</td>\n",
       "      <td>2458.47</td>\n",
       "    </tr>\n",
       "    <tr>\n",
       "      <th>3</th>\n",
       "      <td>northeast</td>\n",
       "      <td>female</td>\n",
       "      <td>21</td>\n",
       "      <td>no</td>\n",
       "      <td>2876.65</td>\n",
       "    </tr>\n",
       "    <tr>\n",
       "      <th>4</th>\n",
       "      <td>northeast</td>\n",
       "      <td>female</td>\n",
       "      <td>21</td>\n",
       "      <td>yes</td>\n",
       "      <td>15359.10</td>\n",
       "    </tr>\n",
       "    <tr>\n",
       "      <th>...</th>\n",
       "      <td>...</td>\n",
       "      <td>...</td>\n",
       "      <td>...</td>\n",
       "      <td>...</td>\n",
       "      <td>...</td>\n",
       "    </tr>\n",
       "    <tr>\n",
       "      <th>561</th>\n",
       "      <td>southwest</td>\n",
       "      <td>male</td>\n",
       "      <td>61</td>\n",
       "      <td>no</td>\n",
       "      <td>20257.67</td>\n",
       "    </tr>\n",
       "    <tr>\n",
       "      <th>562</th>\n",
       "      <td>southwest</td>\n",
       "      <td>male</td>\n",
       "      <td>61</td>\n",
       "      <td>yes</td>\n",
       "      <td>47403.88</td>\n",
       "    </tr>\n",
       "    <tr>\n",
       "      <th>563</th>\n",
       "      <td>southwest</td>\n",
       "      <td>male</td>\n",
       "      <td>62</td>\n",
       "      <td>no</td>\n",
       "      <td>12968.24</td>\n",
       "    </tr>\n",
       "    <tr>\n",
       "      <th>564</th>\n",
       "      <td>southwest</td>\n",
       "      <td>male</td>\n",
       "      <td>63</td>\n",
       "      <td>no</td>\n",
       "      <td>13984.79</td>\n",
       "    </tr>\n",
       "    <tr>\n",
       "      <th>565</th>\n",
       "      <td>southwest</td>\n",
       "      <td>male</td>\n",
       "      <td>64</td>\n",
       "      <td>no</td>\n",
       "      <td>14405.62</td>\n",
       "    </tr>\n",
       "  </tbody>\n",
       "</table>\n",
       "<p>566 rows × 5 columns</p>\n",
       "</div>"
      ],
      "text/plain": [
       "        region     sex  age smoker   charges\n",
       "0    northeast  female   18     no   4191.84\n",
       "1    northeast  female   18    yes  14283.46\n",
       "2    northeast  female   20     no   2458.47\n",
       "3    northeast  female   21     no   2876.65\n",
       "4    northeast  female   21    yes  15359.10\n",
       "..         ...     ...  ...    ...       ...\n",
       "561  southwest    male   61     no  20257.67\n",
       "562  southwest    male   61    yes  47403.88\n",
       "563  southwest    male   62     no  12968.24\n",
       "564  southwest    male   63     no  13984.79\n",
       "565  southwest    male   64     no  14405.62\n",
       "\n",
       "[566 rows x 5 columns]"
      ]
     },
     "execution_count": 11,
     "metadata": {},
     "output_type": "execute_result"
    }
   ],
   "source": [
    "df_multi_grouped = df.groupby(['region','sex','age','smoker'])['charges'].mean().reset_index().round(2)\n",
    "df_multi_grouped"
   ]
  },
  {
   "cell_type": "markdown",
   "id": "d4c01ff5",
   "metadata": {},
   "source": [
    "In the Seaborn LM plot below, we have the relationship between age and average charges (split into smoker and non-smoker) plotted in each chart.\n",
    "Regions are plotted across the columns and genders are plotted across the rows."
   ]
  },
  {
   "cell_type": "code",
   "execution_count": 12,
   "id": "8d3fe727",
   "metadata": {},
   "outputs": [
    {
     "data": {
      "image/png": "[encoded data removed]",
      "text/plain": [
       "<Figure size 2073.88x1000 with 8 Axes>"
      ]
     },
     "metadata": {},
     "output_type": "display_data"
    }
   ],
   "source": [
    "age_avg_charge_plot = sns.lmplot(data=df, x=\"age\", y=\"charges\", col=\"region\",row='sex', hue=\"smoker\", ci=None)\n",
    "\n",
    "# Update labels and title\n",
    "age_avg_charge_plot.set_axis_labels('Age', 'Average Charges')\n",
    "age_avg_charge_plot.fig.suptitle('Average Charges by Age', fontsize=16)\n",
    "\n",
    "# Adjust layout to avoid overlapping between the title and the charts\n",
    "age_avg_charge_plot.fig.subplots_adjust(top=0.9)\n",
    "\n",
    "plt.show()\n"
   ]
  },
  {
   "cell_type": "markdown",
   "id": "ee000e00",
   "metadata": {},
   "source": [
    "Observations:\n",
    "1) Charges generally increase with age\n",
    "2) Smoker charges are higher than non-smoker\n",
    "3) Non-smoker charges have similar trends for all regions, both for male and female.  Trends for the smoker charges are more varied amongst the regions.  This could be linked to the lower population size of the smokers relative to the non-smokers in the dataset"
   ]
  },
  {
   "cell_type": "markdown",
   "id": "be3ade32",
   "metadata": {},
   "source": [
    "# 5 Additional visualisation"
   ]
  },
  {
   "cell_type": "markdown",
   "id": "60f59efd",
   "metadata": {},
   "source": [
    "We will create an additional visualisation to help examine:\n",
    "\n",
    "1) how charges are impacted by BMI grouping, in addition to the other attributes that have been considered so far (region, age, gender, smoker status);\n",
    "2) if there are notable differences in charges between female and male\n",
    "\n",
    "We will proceed with the analysis on charges, instead of average charges, here."
   ]
  },
  {
   "cell_type": "markdown",
   "id": "d8f96bb5",
   "metadata": {},
   "source": [
    "An interactive visualisation would be helpful for this purpose, enabling us to compare across different combinations of attributes.\n",
    "\n",
    "We will first create a new field in the new dataframe to hold the combined attribute for gender and weight_group:"
   ]
  },
  {
   "cell_type": "code",
   "execution_count": 13,
   "id": "347b5ebe",
   "metadata": {},
   "outputs": [
    {
     "data": {
      "text/html": [
       "<div>\n",
       "<style scoped>\n",
       "    .dataframe tbody tr th:only-of-type {\n",
       "        vertical-align: middle;\n",
       "    }\n",
       "\n",
       "    .dataframe tbody tr th {\n",
       "        vertical-align: top;\n",
       "    }\n",
       "\n",
       "    .dataframe thead th {\n",
       "        text-align: right;\n",
       "    }\n",
       "</style>\n",
       "<table border=\"1\" class=\"dataframe\">\n",
       "  <thead>\n",
       "    <tr style=\"text-align: right;\">\n",
       "      <th></th>\n",
       "      <th>age</th>\n",
       "      <th>sex</th>\n",
       "      <th>bmi</th>\n",
       "      <th>children</th>\n",
       "      <th>smoker</th>\n",
       "      <th>region</th>\n",
       "      <th>charges</th>\n",
       "      <th>weight_group</th>\n",
       "      <th>sex_weight</th>\n",
       "    </tr>\n",
       "  </thead>\n",
       "  <tbody>\n",
       "    <tr>\n",
       "      <th>0</th>\n",
       "      <td>19</td>\n",
       "      <td>female</td>\n",
       "      <td>27.900</td>\n",
       "      <td>0</td>\n",
       "      <td>yes</td>\n",
       "      <td>southwest</td>\n",
       "      <td>16884.92400</td>\n",
       "      <td>Overweight</td>\n",
       "      <td>female / Overweight</td>\n",
       "    </tr>\n",
       "    <tr>\n",
       "      <th>1</th>\n",
       "      <td>18</td>\n",
       "      <td>male</td>\n",
       "      <td>33.770</td>\n",
       "      <td>1</td>\n",
       "      <td>no</td>\n",
       "      <td>southeast</td>\n",
       "      <td>1725.55230</td>\n",
       "      <td>Obese</td>\n",
       "      <td>male / Obese</td>\n",
       "    </tr>\n",
       "    <tr>\n",
       "      <th>2</th>\n",
       "      <td>28</td>\n",
       "      <td>male</td>\n",
       "      <td>33.000</td>\n",
       "      <td>3</td>\n",
       "      <td>no</td>\n",
       "      <td>southeast</td>\n",
       "      <td>4449.46200</td>\n",
       "      <td>Obese</td>\n",
       "      <td>male / Obese</td>\n",
       "    </tr>\n",
       "    <tr>\n",
       "      <th>3</th>\n",
       "      <td>33</td>\n",
       "      <td>male</td>\n",
       "      <td>22.705</td>\n",
       "      <td>0</td>\n",
       "      <td>no</td>\n",
       "      <td>northwest</td>\n",
       "      <td>21984.47061</td>\n",
       "      <td>Normal_weight</td>\n",
       "      <td>male / Normal_weight</td>\n",
       "    </tr>\n",
       "    <tr>\n",
       "      <th>4</th>\n",
       "      <td>32</td>\n",
       "      <td>male</td>\n",
       "      <td>28.880</td>\n",
       "      <td>0</td>\n",
       "      <td>no</td>\n",
       "      <td>northwest</td>\n",
       "      <td>3866.85520</td>\n",
       "      <td>Overweight</td>\n",
       "      <td>male / Overweight</td>\n",
       "    </tr>\n",
       "  </tbody>\n",
       "</table>\n",
       "</div>"
      ],
      "text/plain": [
       "   age     sex     bmi  children smoker     region      charges  \\\n",
       "0   19  female  27.900         0    yes  southwest  16884.92400   \n",
       "1   18    male  33.770         1     no  southeast   1725.55230   \n",
       "2   28    male  33.000         3     no  southeast   4449.46200   \n",
       "3   33    male  22.705         0     no  northwest  21984.47061   \n",
       "4   32    male  28.880         0     no  northwest   3866.85520   \n",
       "\n",
       "    weight_group            sex_weight  \n",
       "0     Overweight   female / Overweight  \n",
       "1          Obese          male / Obese  \n",
       "2          Obese          male / Obese  \n",
       "3  Normal_weight  male / Normal_weight  \n",
       "4     Overweight     male / Overweight  "
      ]
     },
     "execution_count": 13,
     "metadata": {},
     "output_type": "execute_result"
    }
   ],
   "source": [
    "df_new = df\n",
    "df_new[\"sex_weight\"] = df_new[\"sex\"].astype(str) + \" / \" + df_new[\"weight_group\"].astype(str)\n",
    "df_new.head()"
   ]
  },
  {
   "cell_type": "markdown",
   "id": "4f3af9a1",
   "metadata": {},
   "source": [
    "We will use the Plotly scatterplot to set out charts showing \"charges vs age\" for all regions, separating smoker and non-smoker.\n",
    "\n",
    "We then use the interactive legend, which was built from the newly created combined gender and weight_group field, for the additional analyses."
   ]
  },
  {
   "cell_type": "code",
   "execution_count": 14,
   "id": "d13d110d",
   "metadata": {},
   "outputs": [
    {
     "data": {
      "application/vnd.plotly.v1+json": {
       "config": {
        "plotlyServerURL": "https://plot.ly"
       },
       "data": [
        {
         "hovertemplate": "<b>%{hovertext}</b><br><br>sex_weight=female / Underweight<br>smoker=yes<br>region=southwest<br>age=%{x}<br>charges=%{y}<extra></extra>",
         "hovertext": [
          "female / Underweight"
         ],
         "legendgroup": "female / Underweight",
         "marker": {
          "color": "#636efa",
          "symbol": "circle"
         },
         "mode": "markers",
         "name": "female / Underweight",
         "showlegend": true,
         "type": "scattergl",
         "x": {
          "bdata": "Jw==",
          "dtype": "i1"
         },
         "xaxis": "x5",
         "y": {
          "bdata": "PQrXo9CT0kA=",
          "dtype": "f8"
         },
         "yaxis": "y5"
        },
        {
         "hovertemplate": "sex_weight=female / Underweight<br>smoker=yes<br>region=southwest<extra></extra>",
         "legendgroup": "female / Underweight",
         "marker": {
          "color": "#636efa",
          "symbol": "circle"
         },
         "mode": "lines",
         "name": "female / Underweight",
         "showlegend": false,
         "type": "scattergl",
         "xaxis": "x5",
         "yaxis": "y5"
        },
        {
         "hovertemplate": "<b>%{hovertext}</b><br><br>sex_weight=female / Underweight<br>smoker=yes<br>region=northwest<br>age=%{x}<br>charges=%{y}<extra></extra>",
         "hovertext": [
          "female / Underweight"
         ],
         "legendgroup": "female / Underweight",
         "marker": {
          "color": "#636efa",
          "symbol": "circle"
         },
         "mode": "markers",
         "name": "female / Underweight",
         "showlegend": false,
         "type": "scattergl",
         "x": {
          "bdata": "IA==",
          "dtype": "i1"
         },
         "xaxis": "x7",
         "y": {
          "bdata": "0NVW7Iv330A=",
          "dtype": "f8"
         },
         "yaxis": "y7"
        },
        {
         "hovertemplate": "sex_weight=female / Underweight<br>smoker=yes<br>region=northwest<extra></extra>",
         "legendgroup": "female / Underweight",
         "marker": {
          "color": "#636efa",
          "symbol": "circle"
         },
         "mode": "lines",
         "name": "female / Underweight",
         "showlegend": false,
         "type": "scattergl",
         "xaxis": "x7",
         "yaxis": "y7"
        },
        {
         "hovertemplate": "<b>%{hovertext}</b><br><br>sex_weight=female / Underweight<br>smoker=yes<br>region=northeast<br>age=%{x}<br>charges=%{y}<extra></extra>",
         "hovertext": [
          "female / Underweight",
          "female / Underweight"
         ],
         "legendgroup": "female / Underweight",
         "marker": {
          "color": "#636efa",
          "symbol": "circle"
         },
         "mode": "markers",
         "name": "female / Underweight",
         "showlegend": false,
         "type": "scattergl",
         "x": {
          "bdata": "Gxo=",
          "dtype": "i1"
         },
         "xaxis": "x8",
         "y": {
          "bdata": "1edqK0pPzUB/+zpw0jvMQA==",
          "dtype": "f8"
         },
         "yaxis": "y8"
        },
        {
         "hovertemplate": "<b>OLS trendline</b><br>charges = 550.935 * age + 131.324<br>R<sup>2</sup>=1.000000<br><br>sex_weight=female / Underweight<br>smoker=yes<br>region=northeast<br>age=%{x}<br>charges=%{y} <b>(trend)</b><extra></extra>",
         "legendgroup": "female / Underweight",
         "marker": {
          "color": "#636efa",
          "symbol": "circle"
         },
         "mode": "lines",
         "name": "female / Underweight",
         "showlegend": false,
         "type": "scattergl",
         "x": {
          "bdata": "Ghs=",
          "dtype": "i1"
         },
         "xaxis": "x8",
         "y": {
          "bdata": "Pvs6cNI7zECS52orSk/NQA==",
          "dtype": "f8"
         },
         "yaxis": "y8"
        },
        {
         "hovertemplate": "<b>%{hovertext}</b><br><br>sex_weight=female / Underweight<br>smoker=no<br>region=southwest<br>age=%{x}<br>charges=%{y}<extra></extra>",
         "hovertext": [
          "female / Underweight",
          "female / Underweight"
         ],
         "legendgroup": "female / Underweight",
         "marker": {
          "color": "#636efa",
          "symbol": "circle"
         },
         "mode": "markers",
         "name": "female / Underweight",
         "showlegend": false,
         "type": "scattergl",
         "x": {
          "bdata": "ExU=",
          "dtype": "i1"
         },
         "xaxis": "x",
         "y": {
          "bdata": "cT0K1yP/mkA/NV66iTKkQA==",
          "dtype": "f8"
         },
         "yaxis": "y"
        },
        {
         "hovertemplate": "<b>OLS trendline</b><br>charges = 428.742 * age + -6418.31<br>R<sup>2</sup>=1.000000<br><br>sex_weight=female / Underweight<br>smoker=no<br>region=southwest<br>age=%{x}<br>charges=%{y} <b>(trend)</b><extra></extra>",
         "legendgroup": "female / Underweight",
         "marker": {
          "color": "#636efa",
          "symbol": "circle"
         },
         "mode": "lines",
         "name": "female / Underweight",
         "showlegend": false,
         "type": "scattergl",
         "x": {
          "bdata": "ExU=",
          "dtype": "i1"
         },
         "xaxis": "x",
         "y": {
          "bdata": "hD0K1yP/mkBENV66iTKkQA==",
          "dtype": "f8"
         },
         "yaxis": "y"
        },
        {
         "hovertemplate": "<b>%{hovertext}</b><br><br>sex_weight=female / Underweight<br>smoker=no<br>region=northwest<br>age=%{x}<br>charges=%{y}<extra></extra>",
         "hovertext": [
          "female / Underweight",
          "female / Underweight"
         ],
         "legendgroup": "female / Underweight",
         "marker": {
          "color": "#636efa",
          "symbol": "circle"
         },
         "mode": "markers",
         "name": "female / Underweight",
         "showlegend": false,
         "type": "scattergl",
         "x": {
          "bdata": "MzQ=",
          "dtype": "i1"
         },
         "xaxis": "x3",
         "y": {
          "bdata": "H4XrUSDWwkBZF7fRhIPDQA==",
          "dtype": "f8"
         },
         "yaxis": "y3"
        },
        {
         "hovertemplate": "<b>OLS trendline</b><br>charges = 346.785 * age + -8041.79<br>R<sup>2</sup>=1.000000<br><br>sex_weight=female / Underweight<br>smoker=no<br>region=northwest<br>age=%{x}<br>charges=%{y} <b>(trend)</b><extra></extra>",
         "legendgroup": "female / Underweight",
         "marker": {
          "color": "#636efa",
          "symbol": "circle"
         },
         "mode": "lines",
         "name": "female / Underweight",
         "showlegend": false,
         "type": "scattergl",
         "x": {
          "bdata": "MzQ=",
          "dtype": "i1"
         },
         "xaxis": "x3",
         "y": {
          "bdata": "KIXrUSDWwkBgF7fRhIPDQA==",
          "dtype": "f8"
         },
         "yaxis": "y3"
        },
        {
         "hovertemplate": "<b>%{hovertext}</b><br><br>sex_weight=female / Underweight<br>smoker=no<br>region=northeast<br>age=%{x}<br>charges=%{y}<extra></extra>",
         "hovertext": [
          "female / Underweight",
          "female / Underweight",
          "female / Underweight",
          "female / Underweight"
         ],
         "legendgroup": "female / Underweight",
         "marker": {
          "color": "#636efa",
          "symbol": "circle"
         },
         "mode": "markers",
         "name": "female / Underweight",
         "showlegend": false,
         "type": "scattergl",
         "x": {
          "bdata": "FSU8HA==",
          "dtype": "i1"
         },
         "xaxis": "x4",
         "y": {
          "bdata": "w9MrZem+qEDPZtXn+t26QA3gLZAkyslAdnEbDUAprUA=",
          "dtype": "f8"
         },
         "yaxis": "y4"
        },
        {
         "hovertemplate": "<b>OLS trendline</b><br>charges = 269.268 * age + -3082.7<br>R<sup>2</sup>=0.985911<br><br>sex_weight=female / Underweight<br>smoker=no<br>region=northeast<br>age=%{x}<br>charges=%{y} <b>(trend)</b><extra></extra>",
         "legendgroup": "female / Underweight",
         "marker": {
          "color": "#636efa",
          "symbol": "circle"
         },
         "mode": "lines",
         "name": "female / Underweight",
         "showlegend": false,
         "type": "scattergl",
         "x": {
          "bdata": "FRwlPA==",
          "dtype": "i1"
         },
         "xaxis": "x4",
         "y": {
          "bdata": "mA+nft0XpECMq+ACz2ixQBT+TH444LpADsxpQLGIyUA=",
          "dtype": "f8"
         },
         "yaxis": "y4"
        },
        {
         "hovertemplate": "<b>%{hovertext}</b><br><br>sex_weight=female / Normal_weight<br>smoker=yes<br>region=southwest<br>age=%{x}<br>charges=%{y}<extra></extra>",
         "hovertext": [
          "female / Normal_weight",
          "female / Normal_weight",
          "female / Normal_weight",
          "female / Normal_weight"
         ],
         "legendgroup": "female / Normal_weight",
         "marker": {
          "color": "#EF553B",
          "symbol": "circle"
         },
         "mode": "markers",
         "name": "female / Normal_weight",
         "showlegend": true,
         "type": "scattergl",
         "x": {
          "bdata": "EyQgFA==",
          "dtype": "i1"
         },
         "xaxis": "x5",
         "y": {
          "bdata": "46WbxEAKy0DjpZvEECzSQCUGgZUTFtFAHvmDgdWx00A=",
          "dtype": "f8"
         },
         "yaxis": "y5"
        },
        {
         "hovertemplate": "<b>OLS trendline</b><br>charges = 93.9776 * age + 15015.2<br>R<sup>2</sup>=0.089021<br><br>sex_weight=female / Normal_weight<br>smoker=yes<br>region=southwest<br>age=%{x}<br>charges=%{y} <b>(trend)</b><extra></extra>",
         "legendgroup": "female / Normal_weight",
         "marker": {
          "color": "#EF553B",
          "symbol": "circle"
         },
         "mode": "lines",
         "name": "female / Normal_weight",
         "showlegend": false,
         "type": "scattergl",
         "x": {
          "bdata": "ExQgJA==",
          "dtype": "i1"
         },
         "xaxis": "x5",
         "y": {
          "bdata": "1JBgsTFo0EDsHqZBsH/QQATI6ASfmdFAYgD/RZn30UA=",
          "dtype": "f8"
         },
         "yaxis": "y5"
        },
        {
         "hovertemplate": "<b>%{hovertext}</b><br><br>sex_weight=female / Normal_weight<br>smoker=yes<br>region=southeast<br>age=%{x}<br>charges=%{y}<extra></extra>",
         "hovertext": [
          "female / Normal_weight",
          "female / Normal_weight",
          "female / Normal_weight",
          "female / Normal_weight",
          "female / Normal_weight"
         ],
         "legendgroup": "female / Normal_weight",
         "marker": {
          "color": "#EF553B",
          "symbol": "circle"
         },
         "mode": "markers",
         "name": "female / Normal_weight",
         "showlegend": false,
         "type": "scattergl",
         "x": {
          "bdata": "NRsoQBQ=",
          "dtype": "i1"
         },
         "xaxis": "x6",
         "y": {
          "bdata": "UwWjkjKz1kDP91PjcTDQQNIA3gIR/dJAUkmdgHpn2kCVgm4va4PZQA==",
          "dtype": "f8"
         },
         "yaxis": "y6"
        },
        {
         "hovertemplate": "<b>OLS trendline</b><br>charges = 93.9298 * age + 18653.7<br>R<sup>2</sup>=0.146946<br><br>sex_weight=female / Normal_weight<br>smoker=yes<br>region=southeast<br>age=%{x}<br>charges=%{y} <b>(trend)</b><extra></extra>",
         "legendgroup": "female / Normal_weight",
         "marker": {
          "color": "#EF553B",
          "symbol": "circle"
         },
         "mode": "lines",
         "name": "female / Normal_weight",
         "showlegend": false,
         "type": "scattergl",
         "x": {
          "bdata": "FBsoNUA=",
          "dtype": "i1"
         },
         "xaxis": "x6",
         "y": {
          "bdata": "Bkg9BRYN1ECGU3WXdrHUQL4fSzm84tVA9+sg2wEU10CcIsJ3UBbYQA==",
          "dtype": "f8"
         },
         "yaxis": "y6"
        },
        {
         "hovertemplate": "<b>%{hovertext}</b><br><br>sex_weight=female / Normal_weight<br>smoker=yes<br>region=northwest<br>age=%{x}<br>charges=%{y}<extra></extra>",
         "hovertext": [
          "female / Normal_weight",
          "female / Normal_weight",
          "female / Normal_weight",
          "female / Normal_weight",
          "female / Normal_weight",
          "female / Normal_weight",
          "female / Normal_weight"
         ],
         "legendgroup": "female / Normal_weight",
         "marker": {
          "color": "#EF553B",
          "symbol": "circle"
         },
         "mode": "markers",
         "name": "female / Normal_weight",
         "showlegend": false,
         "type": "scattergl",
         "x": {
          "bdata": "FDsbLis0Hg==",
          "dtype": "i1"
         },
         "xaxis": "x7",
         "y": {
          "bdata": "YqHWNN+7zEDl8h/SsRPZQA8LtaYfCdBAA3gLJFIr1UCuR+F6NF7VQMRCrWnqU9dA0m9fB3hT0kA=",
          "dtype": "f8"
         },
         "yaxis": "y7"
        },
        {
         "hovertemplate": "<b>OLS trendline</b><br>charges = 276.083 * age + 9506.81<br>R<sup>2</sup>=0.980011<br><br>sex_weight=female / Normal_weight<br>smoker=yes<br>region=northwest<br>age=%{x}<br>charges=%{y} <b>(trend)</b><extra></extra>",
         "legendgroup": "female / Normal_weight",
         "marker": {
          "color": "#EF553B",
          "symbol": "circle"
         },
         "mode": "lines",
         "name": "female / Normal_weight",
         "showlegend": false,
         "type": "scattergl",
         "x": {
          "bdata": "FBseKy40Ow==",
          "dtype": "i1"
         },
         "xaxis": "x7",
         "y": {
          "bdata": "SUJb/ztazUCjtAs0Q5DQQJDh6iVTX9FA6U4HPpjg1EDWe+YvqK/VQLDVpBPITddAL+kCSO0w2UA=",
          "dtype": "f8"
         },
         "yaxis": "y7"
        },
        {
         "hovertemplate": "<b>%{hovertext}</b><br><br>sex_weight=female / Normal_weight<br>smoker=yes<br>region=northeast<br>age=%{x}<br>charges=%{y}<extra></extra>",
         "hovertext": [
          "female / Normal_weight",
          "female / Normal_weight",
          "female / Normal_weight",
          "female / Normal_weight",
          "female / Normal_weight",
          "female / Normal_weight",
          "female / Normal_weight",
          "female / Normal_weight",
          "female / Normal_weight",
          "female / Normal_weight",
          "female / Normal_weight",
          "female / Normal_weight"
         ],
         "legendgroup": "female / Normal_weight",
         "marker": {
          "color": "#EF553B",
          "symbol": "circle"
         },
         "mode": "markers",
         "name": "female / Normal_weight",
         "showlegend": false,
         "type": "scattergl",
         "x": {
          "bdata": "KjUnLBUdMSsYIRId",
          "dtype": "i1"
         },
         "xaxis": "x8",
         "y": {
          "bdata": "QBNhwy9/00APnDOiWErYQIEmwob7JtVAzTtO0bMi00A3iUFgjf/NQKFns+ptRNBAfh04Z7qK10CASL99g1XTQKMBvAXydcxAliGOdRNi0EDkg57NuuXLQNEi2/mmec9A",
          "dtype": "f8"
         },
         "yaxis": "y8"
        },
        {
         "hovertemplate": "<b>OLS trendline</b><br>charges = 300.165 * age + 8040.96<br>R<sup>2</sup>=0.895452<br><br>sex_weight=female / Normal_weight<br>smoker=yes<br>region=northeast<br>age=%{x}<br>charges=%{y} <b>(trend)</b><extra></extra>",
         "legendgroup": "female / Normal_weight",
         "marker": {
          "color": "#EF553B",
          "symbol": "circle"
         },
         "mode": "lines",
         "name": "female / Normal_weight",
         "showlegend": false,
         "type": "scattergl",
         "x": {
          "bdata": "EhUYHR0hJyorLDE1",
          "dtype": "i1"
         },
         "xaxis": "x8",
         "y": {
          "bdata": "Xvv0lfdBykBLtIIbNwTMQDhtEKF2xs1ADabTP3Ba0EANptM/cFrQQADM3JiahtFA7oRqHtpI00BkYTHh+SnUQOKqc3cEddRAXvS1DQ/A1EDPYwH9QzfWQMKJClZuY9dA",
          "dtype": "f8"
         },
         "yaxis": "y8"
        },
        {
         "hovertemplate": "<b>%{hovertext}</b><br><br>sex_weight=female / Normal_weight<br>smoker=no<br>region=southwest<br>age=%{x}<br>charges=%{y}<extra></extra>",
         "hovertext": [
          "female / Normal_weight",
          "female / Normal_weight",
          "female / Normal_weight",
          "female / Normal_weight",
          "female / Normal_weight",
          "female / Normal_weight",
          "female / Normal_weight",
          "female / Normal_weight",
          "female / Normal_weight",
          "female / Normal_weight",
          "female / Normal_weight",
          "female / Normal_weight",
          "female / Normal_weight",
          "female / Normal_weight",
          "female / Normal_weight",
          "female / Normal_weight",
          "female / Normal_weight",
          "female / Normal_weight",
          "female / Normal_weight",
          "female / Normal_weight"
         ],
         "legendgroup": "female / Normal_weight",
         "marker": {
          "color": "#EF553B",
          "symbol": "circle"
         },
         "mode": "markers",
         "name": "female / Normal_weight",
         "showlegend": false,
         "type": "scattergl",
         "x": {
          "bdata": "FhMzLx8xIS8YGxkTORowNhMdGRM=",
          "dtype": "i1"
         },
         "xaxis": "x",
         "y": {
          "bdata": "ppvEIPDMoEAv3SQGgSWbQHWTGARmGMJAz/dT49WtwECDwMqhpUOzQClcj8IV78FAg8DKoQWeskCqfToeJZ/ZQC/dJAYBM6NAmG4Sg0A8p0D+1HjppiexQNnO91Mjw6ZAPzVeuimAx0C4HoXr0WWqQIPAyqGFJsBAvp8aLz2fx0AMAiuHlgObQDEIrBx6sbFA5/up8ZIRqUCR7Xw/tQ6bQA==",
          "dtype": "f8"
         },
         "yaxis": "y"
        },
        {
         "hovertemplate": "<b>OLS trendline</b><br>charges = 323.361 * age + -4522.81<br>R<sup>2</sup>=0.563355<br><br>sex_weight=female / Normal_weight<br>smoker=no<br>region=southwest<br>age=%{x}<br>charges=%{y} <b>(trend)</b><extra></extra>",
         "legendgroup": "female / Normal_weight",
         "marker": {
          "color": "#EF553B",
          "symbol": "circle"
         },
         "mode": "lines",
         "name": "female / Normal_weight",
         "showlegend": false,
         "type": "scattergl",
         "x": {
          "bdata": "ExMTExYYGRkaGx0fIS8vMDEzNjk=",
          "dtype": "i1"
         },
         "xaxis": "x",
         "y": {
          "bdata": "eO58NDZUmUB47nw0NlSZQHjufDQ2VJlAeO58NDZUmUAsQSH0RT6kQHZyuNq3S6lAHAsEznDSq0AcCwTOcNKrQMCjT8EpWa5AMp5NWvFvsEDYNplNqvayQH7P5EBjfbVAImgwNBwEuEBUyqBtldnEQFTKoG2V2cRAfbBzqkN7xUCmlkbn8RzGQPhi7GBOYMdAdBVlF1lFyUDwx93NYyrLQA==",
          "dtype": "f8"
         },
         "yaxis": "y"
        },
        {
         "hovertemplate": "<b>%{hovertext}</b><br><br>sex_weight=female / Normal_weight<br>smoker=no<br>region=southeast<br>age=%{x}<br>charges=%{y}<extra></extra>",
         "hovertext": [
          "female / Normal_weight",
          "female / Normal_weight",
          "female / Normal_weight",
          "female / Normal_weight",
          "female / Normal_weight",
          "female / Normal_weight",
          "female / Normal_weight",
          "female / Normal_weight",
          "female / Normal_weight",
          "female / Normal_weight",
          "female / Normal_weight",
          "female / Normal_weight",
          "female / Normal_weight",
          "female / Normal_weight",
          "female / Normal_weight"
         ],
         "legendgroup": "female / Normal_weight",
         "marker": {
          "color": "#EF553B",
          "symbol": "circle"
         },
         "mode": "markers",
         "name": "female / Normal_weight",
         "showlegend": false,
         "type": "scattergl",
         "x": {
          "bdata": "PBgzGxIVIRIsIDkyOic0",
          "dtype": "i1"
         },
         "xaxis": "x2",
         "y": {
          "bdata": "KcsQx/KqyEAkYkokcX7YQFkXt9GQP8NA1JrmHcfTq0DChqdXCh6ZQGHD0ysF2ahAR3L5DxlZsEDiWBe3MTKhQIiFWtOMCcBARMAhVI820UCwOJz5G6zVQMDsnjycvcNA1QloIuQcx0DKMsSxJsPAQNttF5p/e9pA",
          "dtype": "f8"
         },
         "yaxis": "y2"
        },
        {
         "hovertemplate": "<b>OLS trendline</b><br>charges = 252.415 * age + 1370.92<br>R<sup>2</sup>=0.212197<br><br>sex_weight=female / Normal_weight<br>smoker=no<br>region=southeast<br>age=%{x}<br>charges=%{y} <b>(trend)</b><extra></extra>",
         "legendgroup": "female / Normal_weight",
         "marker": {
          "color": "#EF553B",
          "symbol": "circle"
         },
         "mode": "lines",
         "name": "female / Normal_weight",
         "showlegend": false,
         "type": "scattergl",
         "x": {
          "bdata": "EhIVGBsgIScsMjM0OTo8",
          "dtype": "i1"
         },
         "xaxis": "x2",
         "y": {
          "bdata": "lmDLT2Iat0CWYMtPYhq3QFXs38ygD7pAE3j0Sd8EvUDSAwnHHfq/QLJLwEsYdMJAqA2ZYE3ywkBmma3di+fFQDBj6UWVXshA7u79wtNTy0DksNbXCNLLQNhyr+w9UMxAojzrVEfHzkCW/sNpfEXPQEHBuknzINBA",
          "dtype": "f8"
         },
         "yaxis": "y2"
        },
        {
         "hovertemplate": "<b>%{hovertext}</b><br><br>sex_weight=female / Normal_weight<br>smoker=no<br>region=northwest<br>age=%{x}<br>charges=%{y}<extra></extra>",
         "hovertext": [
          "female / Normal_weight",
          "female / Normal_weight",
          "female / Normal_weight",
          "female / Normal_weight",
          "female / Normal_weight",
          "female / Normal_weight",
          "female / Normal_weight",
          "female / Normal_weight",
          "female / Normal_weight",
          "female / Normal_weight",
          "female / Normal_weight",
          "female / Normal_weight",
          "female / Normal_weight",
          "female / Normal_weight",
          "female / Normal_weight",
          "female / Normal_weight",
          "female / Normal_weight",
          "female / Normal_weight",
          "female / Normal_weight",
          "female / Normal_weight",
          "female / Normal_weight",
          "female / Normal_weight",
          "female / Normal_weight",
          "female / Normal_weight",
          "female / Normal_weight",
          "female / Normal_weight",
          "female / Normal_weight",
          "female / Normal_weight"
         ],
         "legendgroup": "female / Normal_weight",
         "marker": {
          "color": "#EF553B",
          "symbol": "circle"
         },
         "mode": "markers",
         "name": "female / Normal_weight",
         "showlegend": false,
         "type": "scattergl",
         "x": {
          "bdata": "NSU8OSo9Gh02LhMxMSYYHBMnFhMZGx4aFx82Fg==",
          "dtype": "i1"
         },
         "xaxis": "x3",
         "y": {
          "bdata": "uK8D5xBfxUDEQq1pbh66QCgPC7UaaslAEce6uE0bx0AnwoanD1G/QP32deCEM8pAnRGlvaHRqEDOiNLeaCqzQIv9ZfesXchA2c73U+v0wUDY8PRKOSqlQB3J5T9k1sNAzqrP1X6vwkB1kxgEPhW7QN0kBoGFNaZA3nGKjrxvskCASL99rYqgQOXQItvlgsFAvsEXJqO/o0C4rwPnfCqlQAu1pnlXFKxAnl4py/AyqkDufD81bj22QB4Wak2T0KhAaLPqcwktzECOdXEbFSawQECk377aX8hArfpcbUXIsEA=",
          "dtype": "f8"
         },
         "yaxis": "y3"
        },
        {
         "hovertemplate": "<b>OLS trendline</b><br>charges = 242.124 * age + -1651.6<br>R<sup>2</sup>=0.700492<br><br>sex_weight=female / Normal_weight<br>smoker=no<br>region=northwest<br>age=%{x}<br>charges=%{y} <b>(trend)</b><extra></extra>",
         "legendgroup": "female / Normal_weight",
         "marker": {
          "color": "#EF553B",
          "symbol": "circle"
         },
         "mode": "lines",
         "name": "female / Normal_weight",
         "showlegend": false,
         "type": "scattergl",
         "x": {
          "bdata": "ExMTFhYXGBkaGhscHR4fJSYnKi4xMTU2Njk8PQ==",
          "dtype": "i1"
         },
         "xaxis": "x3",
         "y": {
          "bdata": "Rp+04YEJp0BGn7ThgQmnQEaftOGBCadAZj21OEC2rEBmPbU4QLasQHLHCqt/mq5Avyiwjl8/sEDE7dpHfzGxQMqyBQGfI7JAyrIFAZ8jskDPdzC6vhWzQNU8W3PeB7RA2gGGLP75tEDgxrDlHey1QOWL25493rZAByrc9fuKvEAN7wavG329QBG0MWg7b75AkgHZSc2iwECdiy68DIfCQCWz7lE88sNAJbPuUTzyw0AwPUTEe9bFQLOf2aCLT8ZAs5/ZoItPxkA8x5k2u7rHQMTuWczqJclAR1HvqPqeyUA=",
          "dtype": "f8"
         },
         "yaxis": "y3"
        },
        {
         "hovertemplate": "<b>%{hovertext}</b><br><br>sex_weight=female / Normal_weight<br>smoker=no<br>region=northeast<br>age=%{x}<br>charges=%{y}<extra></extra>",
         "hovertext": [
          "female / Normal_weight",
          "female / Normal_weight",
          "female / Normal_weight",
          "female / Normal_weight",
          "female / Normal_weight",
          "female / Normal_weight",
          "female / Normal_weight",
          "female / Normal_weight",
          "female / Normal_weight",
          "female / Normal_weight",
          "female / Normal_weight",
          "female / Normal_weight",
          "female / Normal_weight",
          "female / Normal_weight",
          "female / Normal_weight",
          "female / Normal_weight",
          "female / Normal_weight",
          "female / Normal_weight",
          "female / Normal_weight",
          "female / Normal_weight",
          "female / Normal_weight",
          "female / Normal_weight",
          "female / Normal_weight",
          "female / Normal_weight",
          "female / Normal_weight",
          "female / Normal_weight"
         ],
         "legendgroup": "female / Normal_weight",
         "marker": {
          "color": "#EF553B",
          "symbol": "circle"
         },
         "mode": "markers",
         "name": "female / Normal_weight",
         "showlegend": false,
         "type": "scattergl",
         "x": {
          "bdata": "Pz0hORwZIignFh4jNSQVIickKR4/NCAvJhc=",
          "dtype": "i1"
         },
         "xaxis": "x4",
         "y": {
          "bdata": "ofgx5uo5zEAs1JrmLZjKQKUsQxwT6rRA4umVsqR+x0Bn1edqO77WQMcpOpL7DKlAPzVeuglhukAgQfFjJB7AQD0K16PQMb9A097gC9NXpUB4CyQohm+yQLHh6ZVKArlA0SLb+dboxkDmriXkC1K1QK+UZYizM6RANxrAW2CAs0Bt5/upeTK/QGKh1jQ3PLxAecxAZbzOykAaUdobNG6yQNqs+lztOMxA/Bhz1+Lqw0AaUdobPMCxQLraiv1Vq8BApHA9Cufdu0AYz6Ch797VQA==",
          "dtype": "f8"
         },
         "yaxis": "y4"
        },
        {
         "hovertemplate": "<b>OLS trendline</b><br>charges = 152.802 * age + 3070.63<br>R<sup>2</sup>=0.123696<br><br>sex_weight=female / Normal_weight<br>smoker=no<br>region=northeast<br>age=%{x}<br>charges=%{y} <b>(trend)</b><extra></extra>",
         "legendgroup": "female / Normal_weight",
         "marker": {
          "color": "#EF553B",
          "symbol": "circle"
         },
         "mode": "lines",
         "name": "female / Normal_weight",
         "showlegend": false,
         "type": "scattergl",
         "x": {
          "bdata": "FRYXGRweHiAhIiIjJCQmJycoKS80NTk9Pz8=",
          "dtype": "i1"
         },
         "xaxis": "x4",
         "y": {
          "bdata": "RNHxCHqHuEDOor52RyC5QFh0i+QUublAbBclwK/qukAJjIsJGLW8QB0vJeWy5r1AHS8l5bLmvUAx0r7ATRi/QLujiy4bsb9AojosTvQkwECiOixO9CTAQGijEgVbccBALAz5u8G9wEAsDPm7wb3AQLbdxSmPVsFAe0as4PWiwUB7Rqzg9aLBQECvkpdc78FABRh5TsM7wkCijN+XKwbEQHyYXyothMVAQAFG4ZPQxUBUpN+8LgLHQGhHeZjJM8hA8hhGBpfMyEDyGEYGl8zIQA==",
          "dtype": "f8"
         },
         "yaxis": "y4"
        },
        {
         "hovertemplate": "<b>%{hovertext}</b><br><br>sex_weight=female / Overweight<br>smoker=yes<br>region=southwest<br>age=%{x}<br>charges=%{y}<extra></extra>",
         "hovertext": [
          "female / Overweight",
          "female / Overweight",
          "female / Overweight",
          "female / Overweight"
         ],
         "legendgroup": "female / Overweight",
         "marker": {
          "color": "#00cc96",
          "symbol": "circle"
         },
         "mode": "markers",
         "name": "female / Overweight",
         "showlegend": true,
         "type": "scattergl",
         "x": {
          "bdata": "ExMyKw==",
          "dtype": "i1"
         },
         "xaxis": "x5",
         "y": {
          "bdata": "YOXQIjt90EDsUbgeRa7QQIlBYOUQ8tdAZmZmZqbz1UA=",
          "dtype": "f8"
         },
         "yaxis": "y5"
        },
        {
         "hovertemplate": "<b>OLS trendline</b><br>charges = 238.678 * age + 12424.5<br>R<sup>2</sup>=0.997975<br><br>sex_weight=female / Overweight<br>smoker=yes<br>region=southwest<br>age=%{x}<br>charges=%{y} <b>(trend)</b><extra></extra>",
         "legendgroup": "female / Overweight",
         "marker": {
          "color": "#00cc96",
          "symbol": "circle"
         },
         "mode": "lines",
         "name": "female / Overweight",
         "showlegend": false,
         "type": "scattergl",
         "x": {
          "bdata": "ExMrMg==",
          "dtype": "i1"
         },
         "xaxis": "x5",
         "y": {
          "bdata": "SmYNedmP0EBKZg152Y/QQBA/Bn3qJ9ZAn9MuHprJ10A=",
          "dtype": "f8"
         },
         "yaxis": "y5"
        },
        {
         "hovertemplate": "<b>%{hovertext}</b><br><br>sex_weight=female / Overweight<br>smoker=yes<br>region=southeast<br>age=%{x}<br>charges=%{y}<extra></extra>",
         "hovertext": [
          "female / Overweight",
          "female / Overweight",
          "female / Overweight",
          "female / Overweight",
          "female / Overweight",
          "female / Overweight",
          "female / Overweight",
          "female / Overweight",
          "female / Overweight",
          "female / Overweight",
          "female / Overweight",
          "female / Overweight"
         ],
         "legendgroup": "female / Overweight",
         "marker": {
          "color": "#00cc96",
          "symbol": "circle"
         },
         "mode": "markers",
         "name": "female / Overweight",
         "showlegend": false,
         "type": "scattergl",
         "x": {
          "bdata": "Pj0dFB40JS85MBcS",
          "dtype": "i1"
         },
         "xaxis": "x6",
         "y": {
          "bdata": "ldQJaC4o20DYgXNGjDfeQP5l9+TxqNJAGsBbIFGv0ED/If32fRDTQEJg5dDaFthAO99Pjc8U00Bbsb/sWobWQCEf9Gx649pAtMh2vjud10BLyAc9D+bRQP32deDcy9FA",
          "dtype": "f8"
         },
         "yaxis": "y6"
        },
        {
         "hovertemplate": "<b>OLS trendline</b><br>charges = 268.859 * age + 11656.4<br>R<sup>2</sup>=0.915611<br><br>sex_weight=female / Overweight<br>smoker=yes<br>region=southeast<br>age=%{x}<br>charges=%{y} <b>(trend)</b><extra></extra>",
         "legendgroup": "female / Overweight",
         "marker": {
          "color": "#00cc96",
          "symbol": "circle"
         },
         "mode": "lines",
         "name": "female / Overweight",
         "showlegend": false,
         "type": "scattergl",
         "x": {
          "bdata": "EhQXHR4lLzA0OT0+",
          "dtype": "i1"
         },
         "xaxis": "x6",
         "y": {
          "bdata": "zDvouvYb0ECkkAK4ZKLQQOgPqrMJbNFAbg75qlP/0kDaOIapikLTQM1hYp8LGdVAAwrmkDG510BvNHOPaPzXQB7ep4lECdlAOrJpgldZ2kDpW558M2bbQFSGK3tqqdtA",
          "dtype": "f8"
         },
         "yaxis": "y6"
        },
        {
         "hovertemplate": "<b>%{hovertext}</b><br><br>sex_weight=female / Overweight<br>smoker=yes<br>region=northwest<br>age=%{x}<br>charges=%{y}<extra></extra>",
         "hovertext": [
          "female / Overweight",
          "female / Overweight",
          "female / Overweight",
          "female / Overweight",
          "female / Overweight",
          "female / Overweight",
          "female / Overweight",
          "female / Overweight",
          "female / Overweight",
          "female / Overweight"
         ],
         "legendgroup": "female / Overweight",
         "marker": {
          "color": "#00cc96",
          "symbol": "circle"
         },
         "mode": "markers",
         "name": "female / Overweight",
         "showlegend": false,
         "type": "scattergl",
         "x": {
          "bdata": "Khc/ExNAKyMvPQ==",
          "dtype": "i1"
         },
         "xaxis": "x7",
         "y": {
          "bdata": "vp8aLy3Z1EBz1xLyfZzRQNJvXweeRdxAorQ3+D4P0UBPr5RlIFXRQET67eu+pNxAmggbnpRD1UAQWDm0tsLTQCgPC7Xs9ddAMLsnD1d13EA=",
          "dtype": "f8"
         },
         "yaxis": "y7"
        },
        {
         "hovertemplate": "<b>OLS trendline</b><br>charges = 269.405 * age + 11649.5<br>R<sup>2</sup>=0.959956<br><br>sex_weight=female / Overweight<br>smoker=yes<br>region=northwest<br>age=%{x}<br>charges=%{y} <b>(trend)</b><extra></extra>",
         "legendgroup": "female / Overweight",
         "marker": {
          "color": "#00cc96",
          "symbol": "circle"
         },
         "mode": "lines",
         "name": "female / Overweight",
         "showlegend": false,
         "type": "scattergl",
         "x": {
          "bdata": "ExMXIyorLz0/QA==",
          "dtype": "i1"
         },
         "xaxis": "x7",
         "y": {
          "bdata": "i069cw5g0ECLTr1zDmDQQIDBXTR2bdFAXBo/dq2V1ECI41cHI23WQEQAgPd8sNZAOXMguOS910CQBVLaz2zbQAo/orqD89tAx1vKqt023EA=",
          "dtype": "f8"
         },
         "yaxis": "y7"
        },
        {
         "hovertemplate": "<b>%{hovertext}</b><br><br>sex_weight=female / Overweight<br>smoker=yes<br>region=northeast<br>age=%{x}<br>charges=%{y}<extra></extra>",
         "hovertext": [
          "female / Overweight",
          "female / Overweight",
          "female / Overweight",
          "female / Overweight",
          "female / Overweight"
         ],
         "legendgroup": "female / Overweight",
         "marker": {
          "color": "#00cc96",
          "symbol": "circle"
         },
         "mode": "markers",
         "name": "female / Overweight",
         "showlegend": false,
         "type": "scattergl",
         "x": {
          "bdata": "PygvKyU=",
          "dtype": "i1"
         },
         "xaxis": "x8",
         "y": {
          "bdata": "Dr4wmcrU3EDYgXNG5M7VQLByaJFT2tZAW0I+6NVC1UDvycNCN9LTQA==",
          "dtype": "f8"
         },
         "yaxis": "y8"
        },
        {
         "hovertemplate": "<b>OLS trendline</b><br>charges = 344.519 * age + 7616.97<br>R<sup>2</sup>=0.970150<br><br>sex_weight=female / Overweight<br>smoker=yes<br>region=northeast<br>age=%{x}<br>charges=%{y} <b>(trend)</b><extra></extra>",
         "legendgroup": "female / Overweight",
         "marker": {
          "color": "#00cc96",
          "symbol": "circle"
         },
         "mode": "lines",
         "name": "female / Overweight",
         "showlegend": false,
         "type": "scattergl",
         "x": {
          "bdata": "JSgrLz8=",
          "dtype": "i1"
         },
         "xaxis": "x8",
         "y": {
          "bdata": "odtLWgvj00A2sFUCb+XUQMyEX6rS59VAPaBsildA10AEDqEKa6LcQA==",
          "dtype": "f8"
         },
         "yaxis": "y8"
        },
        {
         "hovertemplate": "<b>%{hovertext}</b><br><br>sex_weight=female / Overweight<br>smoker=no<br>region=southwest<br>age=%{x}<br>charges=%{y}<extra></extra>",
         "hovertext": [
          "female / Overweight",
          "female / Overweight",
          "female / Overweight",
          "female / Overweight",
          "female / Overweight",
          "female / Overweight",
          "female / Overweight",
          "female / Overweight",
          "female / Overweight",
          "female / Overweight",
          "female / Overweight",
          "female / Overweight",
          "female / Overweight",
          "female / Overweight",
          "female / Overweight",
          "female / Overweight",
          "female / Overweight",
          "female / Overweight",
          "female / Overweight",
          "female / Overweight",
          "female / Overweight",
          "female / Overweight",
          "female / Overweight",
          "female / Overweight",
          "female / Overweight",
          "female / Overweight",
          "female / Overweight",
          "female / Overweight",
          "female / Overweight",
          "female / Overweight",
          "female / Overweight",
          "female / Overweight",
          "female / Overweight",
          "female / Overweight",
          "female / Overweight",
          "female / Overweight",
          "female / Overweight",
          "female / Overweight",
          "female / Overweight",
          "female / Overweight",
          "female / Overweight",
          "female / Overweight",
          "female / Overweight",
          "female / Overweight",
          "female / Overweight",
          "female / Overweight",
          "female / Overweight",
          "female / Overweight",
          "female / Overweight",
          "female / Overweight",
          "female / Overweight",
          "female / Overweight",
          "female / Overweight"
         ],
         "legendgroup": "female / Overweight",
         "marker": {
          "color": "#00cc96",
          "symbol": "circle"
         },
         "mode": "markers",
         "name": "female / Overweight",
         "showlegend": false,
         "type": "scattergl",
         "x": {
          "bdata": "ExM1OCITNyAuJDc6HBgyHhUoPBM5Mx86OCo1IxQmMSUsPT47HSwmHDAdKiwWKBcfLSgrJBU=",
          "dtype": "i1"
         },
         "xaxis": "x",
         "y": {
          "bdata": "6SYxCMxPskBg5dAi2zybQHNoke3c7sZADAIrh5agxUB9PzVe2ouzQD81XroJN6JA/Knx0q00x0Cq8dJNIiC0QMuhRbajO8FAVg4tst0Ts0ChvmVOBCvhQK5H4XqUHsdAVz7L82q000Bk6UMXzoLSQG8Sg8AKcsFALbKd72fEq0ArhxbZjkukQG3n+6nxFrdAEFg5tFjUyUCPwvUo3EGbQHE9CtejX8ZAMzMzM4NCw0DdJAaBlWKtQGq8dJM4IcdArkfhekSfxUAIrBxapIq7QHE9Ctdjx8VAsHJokS0OuUBMN4lBYE2dQDvfT40X77tAMLsnDxeH2UDLoUW286e4QO58PzX+yr1Az/dT4/V4yUAOLbKdj0XKQIts5/vp5MdAIbByaJEyqkB7FK5Hoci9QKjGSzeJB7VAxSCwcuiyqEDn+6nxwirAQKJFtvPdTLZAtMh2vn+Fu0BU46WbhMe9QLbz/dS41KBAQmDl0OJguUBWfa62VqPJQK5H4Xq0RrNAGy/dJObGwUAS2nIuaerOQGiR7Xy/qbxA5/up8XJgtUDhehSux1+fQA==",
          "dtype": "f8"
         },
         "yaxis": "y"
        },
        {
         "hovertemplate": "<b>OLS trendline</b><br>charges = 249.519 * age + -1169.61<br>R<sup>2</sup>=0.283127<br><br>sex_weight=female / Overweight<br>smoker=no<br>region=southwest<br>age=%{x}<br>charges=%{y} <b>(trend)</b><extra></extra>",
         "legendgroup": "female / Overweight",
         "marker": {
          "color": "#00cc96",
          "symbol": "circle"
         },
         "mode": "lines",
         "name": "female / Overweight",
         "showlegend": false,
         "type": "scattergl",
         "x": {
          "bdata": "ExMTExQVFRYXGBwcHR0eHx8gIiMkJCUmJigoKCoqKywsLC0uMDEyMzU1Nzc4ODk6Ojs8PT4=",
          "dtype": "i1"
         },
         "xaxis": "x",
         "y": {
          "bdata": "ieQir3vmq0CJ5CKve+arQInkIq975qtAieQir3vmq0CLnJMuhdmtQItUBK6OzK9Ai1QEro7Mr0BGhroWzN+wQEbictZQ2bFARj4rltXSskBIrgyV6Li2QEiuDJXouLZASArFVG2yt0BICsVUbbK3QEhmfRTyq7hASMI11HaluUBIwjXUdqW5QEge7pP7nrpAStZeEwWSvEBKMhfTiYu9QEqOz5IOhb5ASo7Pkg6FvkBK6odSk36/QCUjIAkMPMBAJSMgCQw8wEAmf9jIkDXBQCZ/2MiQNcFAJn/YyJA1wUAm25CIFS/CQCbbkIgVL8JAJglt6NerwkAmN0lImijDQCY3SUiaKMNAJjdJSJoow0AmZSWoXKXDQCaTAQgfIsRAJ++5x6MbxUAnHZYnZpjFQCdLcocoFcZAJ3lO5+qRxkAn1Qanb4vHQCfVBqdvi8dAKDG/ZvSEyEAoMb9m9ITIQChfm8a2AclAKF+bxrYByUAojXcmeX7JQCi7U4Y7+8lAKLtThjv7yUAo6S/m/XfKQCgXDEbA9MpAKUXopYJxy0Apc8QFRe7LQA==",
          "dtype": "f8"
         },
         "yaxis": "y"
        },
        {
         "hovertemplate": "<b>%{hovertext}</b><br><br>sex_weight=female / Overweight<br>smoker=no<br>region=southeast<br>age=%{x}<br>charges=%{y}<extra></extra>",
         "hovertext": [
          "female / Overweight",
          "female / Overweight",
          "female / Overweight",
          "female / Overweight",
          "female / Overweight",
          "female / Overweight",
          "female / Overweight",
          "female / Overweight",
          "female / Overweight",
          "female / Overweight",
          "female / Overweight",
          "female / Overweight",
          "female / Overweight",
          "female / Overweight",
          "female / Overweight",
          "female / Overweight",
          "female / Overweight",
          "female / Overweight",
          "female / Overweight",
          "female / Overweight",
          "female / Overweight",
          "female / Overweight",
          "female / Overweight",
          "female / Overweight",
          "female / Overweight",
          "female / Overweight",
          "female / Overweight",
          "female / Overweight",
          "female / Overweight",
          "female / Overweight",
          "female / Overweight",
          "female / Overweight",
          "female / Overweight",
          "female / Overweight",
          "female / Overweight",
          "female / Overweight",
          "female / Overweight",
          "female / Overweight",
          "female / Overweight",
          "female / Overweight"
         ],
         "legendgroup": "female / Overweight",
         "marker": {
          "color": "#00cc96",
          "symbol": "circle"
         },
         "mode": "markers",
         "name": "female / Overweight",
         "showlegend": false,
         "type": "scattergl",
         "x": {
          "bdata": "HzsdMRYyGi0iGjsSFi4iJD0mLiAhKi8oHx8+KiwaJDIkIC0iKRwYOQ==",
          "dtype": "i1"
         },
         "xaxis": "x2",
         "y": {
          "bdata": "Y+5aQj5ZrUAawFsgkVjLQPXb14HT1q5ASZ2AJqrMwEBzaJHtXNegQHxETIlYSdNAdy0hH/Qbr0AxCKwcaqLAQJT2Bl/IirNAdy0hH/SBqkDi6ZWypFjLQF8HzhkRP5lARPrt64DZoEBYyjLEURTAQGx4eqVMKLhAfoy5awlmtUDcLjTXRfDXQMX+sntiVrdArkfheowUwEA5RUdy2QmvQGEyVTCaq7JA7C+7J0/YvUDdtYR82LHAQCBB8WM8ZLlAUiegibBbrUAQ6bevg/6wQACRfvv6SMpALGUZ4riGu0DUK2UZmg3AQACRfvu6gKpAB/AWSNBLvEB6xyk6UufEQH6MuWsJGbNA9pfdk9fSsUC94xQd4aHAQJvmHacoP7FAexSuRzFyukDOiNLecPSwQIiFWtM8QaNAHHxhMpWqyEA=",
          "dtype": "f8"
         },
         "yaxis": "y2"
        },
        {
         "hovertemplate": "<b>OLS trendline</b><br>charges = 363.046 * age + -6821.22<br>R<sup>2</sup>=0.769539<br><br>sex_weight=female / Overweight<br>smoker=no<br>region=southeast<br>age=%{x}<br>charges=%{y} <b>(trend)</b><extra></extra>",
         "legendgroup": "female / Overweight",
         "marker": {
          "color": "#00cc96",
          "symbol": "circle"
         },
         "mode": "lines",
         "name": "female / Overweight",
         "showlegend": false,
         "type": "scattergl",
         "x": {
          "bdata": "EhYWGBoaGhwdHx8fICAhIiIiJCQkJigpKiosLS0uLi8xMjI5Ozs9Pg==",
          "dtype": "i1"
         },
         "xaxis": "x2",
         "y": {
          "bdata": "UILAsTXmccDIQP64LzeSQMhA/rgvN5JAeHG1S46PnUAQUTZv9nOkQBBRNm/2c6RAEFE2b/ZzpEBo6ZG4JSCqQJS1P1099qxA9KZNUzZRsUD0pk1TNlGxQPSmTVM2UbFACo2kJUK8skAKjaQlQryyQCBz+/dNJ7RANllSylmStUA2WVLKWZK1QDZZUspZkrVAYCUAb3FouEBgJQBvcWi4QGAlAG9xaLhAjPGtE4k+u0C2vVu4oBS+QMyjsoqsf79A8cSELlx1wEDxxIQuXHXAQAer2wBo4MFAEh4H6u2VwkASHgfq7ZXCQB2RMtNzS8NAHZEy03NLw0AnBF68+QDEQD3qtI4FbMVAR13gd4shxkBHXeB3iyHGQJOCENg0GMtAqWhnqkCDzECpaGeqQIPMQL9OvnxM7s1AycHpZdKjzkA=",
          "dtype": "f8"
         },
         "yaxis": "y2"
        },
        {
         "hovertemplate": "<b>%{hovertext}</b><br><br>sex_weight=female / Overweight<br>smoker=no<br>region=northwest<br>age=%{x}<br>charges=%{y}<extra></extra>",
         "hovertext": [
          "female / Overweight",
          "female / Overweight",
          "female / Overweight",
          "female / Overweight",
          "female / Overweight",
          "female / Overweight",
          "female / Overweight",
          "female / Overweight",
          "female / Overweight",
          "female / Overweight",
          "female / Overweight",
          "female / Overweight",
          "female / Overweight",
          "female / Overweight",
          "female / Overweight",
          "female / Overweight",
          "female / Overweight",
          "female / Overweight",
          "female / Overweight",
          "female / Overweight",
          "female / Overweight",
          "female / Overweight",
          "female / Overweight",
          "female / Overweight",
          "female / Overweight",
          "female / Overweight",
          "female / Overweight",
          "female / Overweight",
          "female / Overweight",
          "female / Overweight",
          "female / Overweight",
          "female / Overweight",
          "female / Overweight",
          "female / Overweight",
          "female / Overweight",
          "female / Overweight",
          "female / Overweight",
          "female / Overweight",
          "female / Overweight",
          "female / Overweight"
         ],
         "legendgroup": "female / Overweight",
         "marker": {
          "color": "#00cc96",
          "symbol": "circle"
         },
         "mode": "markers",
         "name": "female / Overweight",
         "showlegend": false,
         "type": "scattergl",
         "x": {
          "bdata": "JTwoHC43FCw4NT8wLDg6HSIvJBc7Hi0kMTIcPzIwKRgTOjYgGRMhJw==",
          "dtype": "i1"
         },
         "xaxis": "x3",
         "y": {
          "bdata": "3GgAb4FxvECLGkzDyD7cQLdif9mte79AeqUsQ6QlsECDL0ymqlq/QKCJsOFJpcVA2c73U/OioUDChqdXevu8QJ7vp8YrhsdAXrpJDNI5xEBWn6utGNjLQH2utmK/EMJAcF8HzjH9vEBvEoPAAl/GQACRfvty38dA54wo7e0wrUBSSZ2AVgm1QD2bVZ93ccFAayv2l12StECSXP5DOgSlQJ2AJsJaF8xAzqrP1S6vsUB2Tx4WDK3bQDlFR3LRk7RAH4XrURSOwUBHcvkP+X7EQDojSnsrwLRAt2J/2U3Xy0ClLEMcy6bFQE7RkVyWg8VAQfFjzI3xu0BI4XoUXkWmQODzwwitZdJA5x2n6Czgx0A9m1Wf9xTGQHh6pSwLBbFALSEf9BxdsEA0orQ3qC2lQJ0Rpb1p27FAZ9XnarMhvEA=",
          "dtype": "f8"
         },
         "yaxis": "y3"
        },
        {
         "hovertemplate": "<b>OLS trendline</b><br>charges = 269.333 * age + -2073.56<br>R<sup>2</sup>=0.353743<br><br>sex_weight=female / Overweight<br>smoker=no<br>region=northwest<br>age=%{x}<br>charges=%{y} <b>(trend)</b><extra></extra>",
         "legendgroup": "female / Overweight",
         "marker": {
          "color": "#00cc96",
          "symbol": "circle"
         },
         "mode": "lines",
         "name": "female / Overweight",
         "showlegend": false,
         "type": "scattergl",
         "x": {
          "bdata": "ExMUFxgZHBwdHiAhIiQkJScoKSwsLS4vMDAxMjI1Njc4ODo6Ozw/Pw==",
          "dtype": "i1"
         },
         "xaxis": "x3",
         "y": {
          "bdata": "Vca+jorHp0BVxr6OisenQFvbSyc14qlAOI15eBoZsEC8F8DEbyaxQD6iBhHFM7JAyEHa9cRbtUDIQdr1xFu1QEzMIEIaabZAzlZnjm92t0DWa/QmGpG5QFr2OnNvnrpA3ICBv8Sru0DklQ5Yb8a9QOSVDlhvxr1AZiBVpMTTvkC3GnGeN3fAQPhflETi/cBAOqW36oyEwUD/dCHdjBjDQP90Id2MGMNAQbpEgzefw0CC/2cp4iXEQMREi8+MrMRABoqudTczxUAGiq51NzPFQEfP0RviucVAiRT1wYxAxkCJFPXBjEDGQE7kXrSM1MdAjymCWjdbyEDRbqUA4uHIQBO0yKaMaMlAE7TIpoxoyUCWPg/z4XXKQJY+D/PhdcpA2IMymYz8ykAZyVU/N4PLQN6YvzE3F81A3pi/MTcXzUA=",
          "dtype": "f8"
         },
         "yaxis": "y3"
        },
        {
         "hovertemplate": "<b>%{hovertext}</b><br><br>sex_weight=female / Overweight<br>smoker=no<br>region=northeast<br>age=%{x}<br>charges=%{y}<extra></extra>",
         "hovertext": [
          "female / Overweight",
          "female / Overweight",
          "female / Overweight",
          "female / Overweight",
          "female / Overweight",
          "female / Overweight",
          "female / Overweight",
          "female / Overweight",
          "female / Overweight",
          "female / Overweight",
          "female / Overweight",
          "female / Overweight",
          "female / Overweight",
          "female / Overweight",
          "female / Overweight",
          "female / Overweight",
          "female / Overweight",
          "female / Overweight",
          "female / Overweight",
          "female / Overweight",
          "female / Overweight",
          "female / Overweight",
          "female / Overweight",
          "female / Overweight",
          "female / Overweight",
          "female / Overweight",
          "female / Overweight",
          "female / Overweight",
          "female / Overweight",
          "female / Overweight",
          "female / Overweight",
          "female / Overweight",
          "female / Overweight",
          "female / Overweight",
          "female / Overweight"
         ],
         "legendgroup": "female / Overweight",
         "marker": {
          "color": "#00cc96",
          "symbol": "circle"
         },
         "mode": "markers",
         "name": "female / Overweight",
         "showlegend": false,
         "type": "scattergl",
         "x": {
          "bdata": "EhgaOxQoHDcvGjg8JhISGDIZGzg5JDIwLTgaJh4rNjcSIzA=",
          "dtype": "i1"
         },
         "xaxis": "x4",
         "y": {
          "bdata": "S+oENGEsoUC0yHa+H8ynQGaIY13McqpALSEf9LgHyUAaUdobbDKjQN21hHwwpbtABTQRNrzxsEBq3nGKqnvJQPhT46Xr+cJAiJ0pdOoX2EAkufyHMMXGQLx0kxiM0MlARiV1AhKbuUB7FRkdvJu8QO84RUfyKKFAeVioNW3Ip0CtUQ/RJA7ZQPRsVn0+G6lAsHJokT3Nq0C0WfW5DsXGQHRGlPYyHcxAJ6CJsAFdtUC+nxovEb3DQEcDeAugc8JA+n5qvIjDwUCMSuoE3MTGQNIA3gIx1LFA5WGh1tzou0CfzarPhSmwQKvP1VYMnbxAlIeFWlOgx0AtIR/0RAvGQMPTK2WpMaFA7FG4Hv1rtED/snvysHPCQA==",
          "dtype": "f8"
         },
         "yaxis": "y4"
        },
        {
         "hovertemplate": "<b>OLS trendline</b><br>charges = 245.748 * age + -1094.51<br>R<sup>2</sup>=0.386310<br><br>sex_weight=female / Overweight<br>smoker=no<br>region=northeast<br>age=%{x}<br>charges=%{y} <b>(trend)</b><extra></extra>",
         "legendgroup": "female / Overweight",
         "marker": {
          "color": "#00cc96",
          "symbol": "circle"
         },
         "mode": "lines",
         "name": "female / Overweight",
         "showlegend": false,
         "type": "scattergl",
         "x": {
          "bdata": "EhISEhQYGBkaGhobHB4jJCYmKCstLzAwMjI2Nzc4ODg5Ozw=",
          "dtype": "i1"
         },
         "xaxis": "x4",
         "y": {
          "bdata": "cw+XAOUBqkBzD5cA5QGqQHMPlwDlAapAcw+XAOUBqkDpKCy/4titQOwtKx5vw7JA7C0rHm/DskBKdNCNLrmzQKa6df3trrRAprp1/e2utECmunX97a60QAQBG22tpLVAYkfA3GyatkAe1Aq864W4QPAzReqoUr1ATnrqWWhIvkCFg5qc8xnAQIWDmpzzGcBA4sk/DLMPwUBvs7czUoDCQM35XKMRdsNAKkACE9FrxEBZ49TKsObEQFnj1Mqw5sRAtyl6OnDcxUC3KXo6cNzFQHK2xBnvx8dAoVmX0c5CyEChWZfRzkLIQND8aYmuvchA0Pxpia69yEDQ/GmJrr3IQP6fPEGOOMlAXObhsE0uykCLibRoLanKQA==",
          "dtype": "f8"
         },
         "yaxis": "y4"
        },
        {
         "hovertemplate": "<b>%{hovertext}</b><br><br>sex_weight=female / Obese<br>smoker=yes<br>region=southwest<br>age=%{x}<br>charges=%{y}<extra></extra>",
         "hovertext": [
          "female / Obese",
          "female / Obese",
          "female / Obese",
          "female / Obese",
          "female / Obese",
          "female / Obese",
          "female / Obese",
          "female / Obese",
          "female / Obese",
          "female / Obese",
          "female / Obese",
          "female / Obese"
         ],
         "legendgroup": "female / Obese",
         "marker": {
          "color": "#ab63fa",
          "symbol": "circle"
         },
         "mode": "markers",
         "name": "female / Obese",
         "showlegend": true,
         "type": "scattergl",
         "x": {
          "bdata": "JUA/PxtAISUXLhkT",
          "dtype": "i1"
         },
         "xaxis": "x5",
         "y": {
          "bdata": "VOOlm5Bz40ApXI/CYRfnQGZmZmYO1+dAKVyPwikZ50Atsp3v2wLhQFyPwvUAZ+dARIts5+sa4kAIrBxaMITmQPp+arzIruBABoGVQ7NX5ECJQWDllI3gQFCNl26yxeFA",
          "dtype": "f8"
         },
         "yaxis": "y5"
        },
        {
         "hovertemplate": "<b>OLS trendline</b><br>charges = 310.379 * age + 28320.3<br>R<sup>2</sup>=0.846031<br><br>sex_weight=female / Obese<br>smoker=yes<br>region=southwest<br>age=%{x}<br>charges=%{y} <b>(trend)</b><extra></extra>",
         "legendgroup": "female / Obese",
         "marker": {
          "color": "#ab63fa",
          "symbol": "circle"
         },
         "mode": "lines",
         "name": "female / Obese",
         "showlegend": false,
         "type": "scattergl",
         "x": {
          "bdata": "ExcZGyElJS4/P0BA",
          "dtype": "i1"
         },
         "xaxis": "x5",
         "y": {
          "bdata": "y1qqoi+14EBbcmEYYFDhQCP+PFP4neFA64kYjpDr4UBDLas+WdTiQNREYrSJb+NA1ERitIlv40DYOT69tszkQPxdiLFEYOdA/F2IsURg50DgI/bOEIfnQOAj9s4Qh+dA",
          "dtype": "f8"
         },
         "yaxis": "y5"
        },
        {
         "hovertemplate": "<b>%{hovertext}</b><br><br>sex_weight=female / Obese<br>smoker=yes<br>region=southeast<br>age=%{x}<br>charges=%{y}<extra></extra>",
         "hovertext": [
          "female / Obese",
          "female / Obese",
          "female / Obese",
          "female / Obese",
          "female / Obese",
          "female / Obese",
          "female / Obese",
          "female / Obese",
          "female / Obese",
          "female / Obese",
          "female / Obese",
          "female / Obese",
          "female / Obese",
          "female / Obese",
          "female / Obese",
          "female / Obese",
          "female / Obese",
          "female / Obese",
          "female / Obese"
         ],
         "legendgroup": "female / Obese",
         "marker": {
          "color": "#ab63fa",
          "symbol": "circle"
         },
         "mode": "markers",
         "name": "female / Obese",
         "showlegend": false,
         "type": "scattergl",
         "x": {
          "bdata": "EhssNisvEywzHiUSFzwwFjcrKg==",
          "dtype": "i1"
         },
         "xaxis": "x6",
         "y": {
          "bdata": "9P3UeK+m4UAp7Q2+vCHiQGDI6lak3udADAdCsk0j70D2KFyP5mTmQKqCUUk7++RAlWWIY/vQ4EBpb/CFH4/mQKOSOgENruVAtMh2vo3840BrmnecYLzjQERpb/AV8eJANxrAW6CW4UBqvHSTHvrlQGRd3EbFAeRA5j+k33Jh4UBWDi2y+bDlQEku/yGp/eNAMEymCgxv5UA=",
          "dtype": "f8"
         },
         "yaxis": "y6"
        },
        {
         "hovertemplate": "<b>OLS trendline</b><br>charges = 344.665 * age + 29312.5<br>R<sup>2</sup>=0.507424<br><br>sex_weight=female / Obese<br>smoker=yes<br>region=southeast<br>age=%{x}<br>charges=%{y} <b>(trend)</b><extra></extra>",
         "legendgroup": "female / Obese",
         "marker": {
          "color": "#ab63fa",
          "symbol": "circle"
         },
         "mode": "lines",
         "name": "female / Obese",
         "showlegend": false,
         "type": "scattergl",
         "x": {
          "bdata": "EhITFhcbHiUqKyssLC8wMzY3PA==",
          "dtype": "i1"
         },
         "xaxis": "x6",
         "y": {
          "bdata": "XXURho1X4UBddRGGjVfhQEBpdMqiguFA6kSdl+ID4kDNOADc9y7iQFoIjO1M2+JABOS0uoxc40A8j2mZIYrkQKxSWO+LYeVAj0a7M6GM5UCPRrszoYzlQHI6Hni2t+VAcjoeeLa35UAcFkdF9jjmQAAKqokLZOZAquXSVkvl5kBUwfsji2bnQDe1XmigkedAqHhNvgpp6EA=",
          "dtype": "f8"
         },
         "yaxis": "y6"
        },
        {
         "hovertemplate": "<b>%{hovertext}</b><br><br>sex_weight=female / Obese<br>smoker=yes<br>region=northwest<br>age=%{x}<br>charges=%{y}<extra></extra>",
         "hovertext": [
          "female / Obese",
          "female / Obese",
          "female / Obese",
          "female / Obese",
          "female / Obese",
          "female / Obese",
          "female / Obese",
          "female / Obese",
          "female / Obese",
          "female / Obese",
          "female / Obese"
         ],
         "legendgroup": "female / Obese",
         "marker": {
          "color": "#ab63fa",
          "symbol": "circle"
         },
         "mode": "markers",
         "name": "female / Obese",
         "showlegend": false,
         "type": "scattergl",
         "x": {
          "bdata": "OSMiLCghLRY1ExM=",
          "dtype": "i1"
         },
         "xaxis": "x7",
         "y": {
          "bdata": "vJaQD15H5UD35GGh7YXjQAHeAgn8dOVAJzEIrO785ECDwMqhaojjQALZ693s6+pA9pfdk7Bl40DHSzeJcY7gQHgLJCiuyOZAKzBkdVcE4kBUUiegcUPgQA==",
          "dtype": "f8"
         },
         "yaxis": "y7"
        },
        {
         "hovertemplate": "<b>OLS trendline</b><br>charges = 239.151 * age + 32748.1<br>R<sup>2</sup>=0.253249<br><br>sex_weight=female / Obese<br>smoker=yes<br>region=northwest<br>age=%{x}<br>charges=%{y} <b>(trend)</b><extra></extra>",
         "legendgroup": "female / Obese",
         "marker": {
          "color": "#ab63fa",
          "symbol": "circle"
         },
         "mode": "lines",
         "name": "female / Obese",
         "showlegend": false,
         "type": "scattergl",
         "x": {
          "bdata": "ExMWISIjKCwtNTk=",
          "dtype": "i1"
         },
         "xaxis": "x7",
         "y": {
          "bdata": "O0Vuf4A14kA7RW5/gDXiQK0ziQYvj+JApUhBSwTY40B17fQi6fXjQEaSqPrNE+RAWsoqMUap5ECcXfmP2SDlQG0CrWe+PuVA8ihKJeUt5kA1vBiEeKXmQA==",
          "dtype": "f8"
         },
         "yaxis": "y7"
        },
        {
         "hovertemplate": "<b>%{hovertext}</b><br><br>sex_weight=female / Obese<br>smoker=yes<br>region=northeast<br>age=%{x}<br>charges=%{y}<extra></extra>",
         "hovertext": [
          "female / Obese",
          "female / Obese",
          "female / Obese",
          "female / Obese",
          "female / Obese",
          "female / Obese",
          "female / Obese",
          "female / Obese",
          "female / Obese",
          "female / Obese"
         ],
         "legendgroup": "female / Obese",
         "marker": {
          "color": "#ab63fa",
          "symbol": "circle"
         },
         "mode": "markers",
         "name": "female / Obese",
         "showlegend": false,
         "type": "scattergl",
         "x": {
          "bdata": "Ihc7PR8lLjMzFw==",
          "dtype": "i1"
         },
         "xaxis": "x8",
         "y": {
          "bdata": "pN++Drxo4kACmggb9M3iQDY8vVIZY+dAGCZTBbKw50CH4SNiYpnsQOVhodbEMuJANe84RfWP5ECamZmZ45XmQAfOGVEmzOVA8tJNYgb540A=",
          "dtype": "f8"
         },
         "yaxis": "y8"
        },
        {
         "hovertemplate": "<b>OLS trendline</b><br>charges = 146.95 * age + 38125<br>R<sup>2</sup>=0.099645<br><br>sex_weight=female / Obese<br>smoker=yes<br>region=northeast<br>age=%{x}<br>charges=%{y} <b>(trend)</b><extra></extra>",
         "legendgroup": "female / Obese",
         "marker": {
          "color": "#ab63fa",
          "symbol": "circle"
         },
         "mode": "lines",
         "name": "female / Obese",
         "showlegend": false,
         "type": "scattergl",
         "x": {
          "bdata": "FxcfIiUuMzM7PQ==",
          "dtype": "i1"
         },
         "xaxis": "x8",
         "y": {
          "bdata": "EaDwaxtE5EARoPBrG0TkQGFpqJsO1+RA31SNzSkO5UBdQHL/REXlQNcCIZWW6uVAqeDzkm5G5kCp4POSbkbmQPmpq8Jh2eZATZyZjh7+5kA=",
          "dtype": "f8"
         },
         "yaxis": "y8"
        },
        {
         "hovertemplate": "<b>%{hovertext}</b><br><br>sex_weight=female / Obese<br>smoker=no<br>region=southwest<br>age=%{x}<br>charges=%{y}<extra></extra>",
         "hovertext": [
          "female / Obese",
          "female / Obese",
          "female / Obese",
          "female / Obese",
          "female / Obese",
          "female / Obese",
          "female / Obese",
          "female / Obese",
          "female / Obese",
          "female / Obese",
          "female / Obese",
          "female / Obese",
          "female / Obese",
          "female / Obese",
          "female / Obese",
          "female / Obese",
          "female / Obese",
          "female / Obese",
          "female / Obese",
          "female / Obese",
          "female / Obese",
          "female / Obese",
          "female / Obese",
          "female / Obese",
          "female / Obese",
          "female / Obese",
          "female / Obese",
          "female / Obese",
          "female / Obese",
          "female / Obese",
          "female / Obese",
          "female / Obese",
          "female / Obese",
          "female / Obese",
          "female / Obese",
          "female / Obese",
          "female / Obese",
          "female / Obese",
          "female / Obese",
          "female / Obese",
          "female / Obese",
          "female / Obese",
          "female / Obese",
          "female / Obese",
          "female / Obese",
          "female / Obese",
          "female / Obese",
          "female / Obese",
          "female / Obese",
          "female / Obese",
          "female / Obese",
          "female / Obese",
          "female / Obese",
          "female / Obese",
          "female / Obese",
          "female / Obese",
          "female / Obese",
          "female / Obese",
          "female / Obese",
          "female / Obese",
          "female / Obese",
          "female / Obese",
          "female / Obese",
          "female / Obese",
          "female / Obese",
          "female / Obese"
         ],
         "legendgroup": "female / Obese",
         "marker": {
          "color": "#ab63fa",
          "symbol": "circle"
         },
         "mode": "markers",
         "name": "female / Obese",
         "showlegend": false,
         "type": "scattergl",
         "x": {
          "bdata": "Hj02KTQ1FhQjHiknPy0pIjQcOSs8LTMTPiMhLiI2MSY3GhshGDsvQDouMz08PictOBMyJxoVLzIpIBk7NCo3FBc0",
          "dtype": "i1"
         },
         "xaxis": "x",
         "y": {
          "bdata": "2/l+arw1sECoxks3ic3LQFyPwvWopMdAmG4SgyAquECgGi/dRNHCQBBYObTIzcVAWDm0yHbtoEB7FK5Hod6yQOkmMQgMfrRAsp3vp6bNtEB1kxgE9ne6QKRwPQq3EbZA9P3UeHkcy0DZzvdTA6TAQIPAyqHFy7xAarx0k3iUs0ApXI/C9czCQKjGSzcJyKhAI9v5fhqzyEDy0k1iAKXAQFyPwvUYr8hA3SQGgRWxvEAQWDm0CEzDQGq8dJMYU5tASOF6FG5PykBxPQrXw3i0QOOlm8RgVLdAukkMAos8wUCcxCCwcjS4QM/3U+M1icZAy6FFtnOQxkAGgZVDi6u5QFCNl27S7MRAz/dT46WkqkBoke18//OrQD81XroJ/7RAZDvfT+2KsEDb+X5qnFvLQLx0kxh0tsBAF9nO94P3y0BeukkMEiTHQClcj8J1Y8JAPzVeullIw0Av3SQG8YPJQKwcWmRLsshA9ihcj0JLykA1XrpJTF64QAisHFoktLxAPQrXoxDNxkAxCKwcWn2bQMHKoUU2w8NAg8DKoYX6vEAxCKwc2ievQJHtfD+1kJ9A2/l+aqyzwEBEi2znqxHGQAisHFqEEr9A30+Nl64rr0BEi2zn+5GkQKBU+3TTBeJArBxaZGsbxUDZzvdTA0q5QI/C9Sg86MRAnMQgsPJhnUDI72369xXFQOF6FK7XScZA",
          "dtype": "f8"
         },
         "yaxis": "y"
        },
        {
         "hovertemplate": "<b>OLS trendline</b><br>charges = 294.506 * age + -4070.54<br>R<sup>2</sup>=0.592357<br><br>sex_weight=female / Obese<br>smoker=no<br>region=southwest<br>age=%{x}<br>charges=%{y} <b>(trend)</b><extra></extra>",
         "legendgroup": "female / Obese",
         "marker": {
          "color": "#ab63fa",
          "symbol": "circle"
         },
         "mode": "lines",
         "name": "female / Obese",
         "showlegend": false,
         "type": "scattergl",
         "x": {
          "bdata": "ExMUFBUWFxgZGhobHB4eICEhIiIjIyYnJycpKSkpKistLS0uLi8vMTIyMzM0NDQ0NTY2Nzc4OTo7Ozw8PT0+Pj9A",
          "dtype": "i1"
         },
         "xaxis": "x",
         "y": {
          "bdata": "kASJI0nUl0CQBIkjSdSXQBSbAGdPbpxAFJsAZ09unEDOGDzVKoSgQBDk9/Yt0aJAVK+zGDEepUCYem86NGunQNpFK1w3uKlAHhHnfToFrEAeEed9OgWsQGDcop89Uq5A0lOvYKBPsEAUH2uCo5yyQBQfa4KjnLJAWOompKbptED6zwQ1KBC2QPrPBDUoELZAnLXixak2t0CcteLFqTa3QDybwFYrXbhAPJvAVitduEAiTFoJsNC7QMIxOJox97xAwjE4mjH3vEDCMTiaMfe8QAb987s0RL9ABv3zuzREv0AG/fO7NES/QAb987s0RL9AVPFoJls1wEAl5Nfum8jAQMbJtX8d78FAxsm1fx3vwUDGybV/He/BQJe8JEhegsJAl7wkSF6CwkBor5MQnxXDQGivkxCfFcNACZVxoSA8xEDah+BpYc/EQNqH4Glhz8RAq3pPMqJixUCrek8yomLFQHxtvvri9cVAfG2++uL1xUB8bb764vXFQHxtvvri9cVATGAtwyOJxkAdU5yLZBzHQB1TnItkHMdA7kULVKWvx0DuRQtUpa/HQL84ehzmQshAjyvp5CbWyEBhHlitZ2nJQDERx3Wo/MlAMRHHdaj8yUABBDY+6Y/KQAEENj7pj8pA0/akBiojy0DT9qQGKiPLQKPpE89qtstAo+kTz2q2y0B13IKXq0nMQEXP8V/s3MxA",
          "dtype": "f8"
         },
         "yaxis": "y"
        },
        {
         "hovertemplate": "<b>%{hovertext}</b><br><br>sex_weight=female / Obese<br>smoker=no<br>region=southeast<br>age=%{x}<br>charges=%{y}<extra></extra>",
         "hovertext": [
          "female / Obese",
          "female / Obese",
          "female / Obese",
          "female / Obese",
          "female / Obese",
          "female / Obese",
          "female / Obese",
          "female / Obese",
          "female / Obese",
          "female / Obese",
          "female / Obese",
          "female / Obese",
          "female / Obese",
          "female / Obese",
          "female / Obese",
          "female / Obese",
          "female / Obese",
          "female / Obese",
          "female / Obese",
          "female / Obese",
          "female / Obese",
          "female / Obese",
          "female / Obese",
          "female / Obese",
          "female / Obese",
          "female / Obese",
          "female / Obese",
          "female / Obese",
          "female / Obese",
          "female / Obese",
          "female / Obese",
          "female / Obese",
          "female / Obese",
          "female / Obese",
          "female / Obese",
          "female / Obese",
          "female / Obese",
          "female / Obese",
          "female / Obese",
          "female / Obese",
          "female / Obese",
          "female / Obese",
          "female / Obese",
          "female / Obese",
          "female / Obese",
          "female / Obese",
          "female / Obese",
          "female / Obese",
          "female / Obese",
          "female / Obese",
          "female / Obese",
          "female / Obese",
          "female / Obese",
          "female / Obese",
          "female / Obese",
          "female / Obese",
          "female / Obese",
          "female / Obese",
          "female / Obese",
          "female / Obese",
          "female / Obese",
          "female / Obese",
          "female / Obese",
          "female / Obese",
          "female / Obese",
          "female / Obese",
          "female / Obese",
          "female / Obese",
          "female / Obese",
          "female / Obese",
          "female / Obese",
          "female / Obese",
          "female / Obese",
          "female / Obese",
          "female / Obese",
          "female / Obese",
          "female / Obese",
          "female / Obese",
          "female / Obese",
          "female / Obese",
          "female / Obese",
          "female / Obese",
          "female / Obese",
          "female / Obese"
         ],
         "legendgroup": "female / Obese",
         "marker": {
          "color": "#ab63fa",
          "symbol": "circle"
         },
         "mode": "markers",
         "name": "female / Obese",
         "showlegend": false,
         "type": "scattergl",
         "x": {
          "bdata": "LjgfJSgVHDYdMxIwOjwmNTgcHjESIzoSKzQ7NygxEiAmEhQ/EhIeJhJAMxQdMTUwLTspNxcVKSdAFBIZEiwYIz4yPyc/PS8tGDYZNiM4IRkcEjAS",
          "dtype": "i1"
         },
         "xaxis": "x2",
         "y": {
          "bdata": "3EYDeEsYwECJ0t7gW6nFQHrHKTrCVbNAqvHSTcKpuECDL0ymGiC3QCJseHrlq59AaQBvgcRtrUD27o/3rq7aQOJYF7dBErRA5BQdyc1Kw0DnHafoSH+ZQGfV52qTU8FAuhRXldWo10AB3gIJWrTIQLpJDAL7GLVAIlSp2b/700AsZRniwPTHQMHKoUV2/bBAZRniWAc3sECV1AlomnDFQLbz/dSEmstAz2bV5+rWtkAnMQisNCjHQKvP1VasfplARiV1ArqxvEDb+X5qRJjIQLvtQnP5n9tAGlHaG/w0x0BSuB6FqwK+QEymCka9RsRAL90kBsFYmUB1ApoIWzSvQHEbDeCdFbVA78nDQlFtxkAoDwu1xuCnQDEIrByaH8tAaQBvgYTipUDmriXk41ahQBgmUwWjkbJAtTf4wtRYt0DFjzF3LYSZQB+F61GQas9ALbKd78chwkDhehSuR2CdQEMc6+JWTapAJ6CJsHEkw0C6SQwC26nEQJwzorRPLMBAvHSTGMSnwEAX2c73Q+rHQI/k8h9SKbhAryXkg+ZiyECutmJ/OVmrQFOWIY41kp9APujZrFp9ukCamZmZOR62QE3zjlPs9MtAnDOitLdXnUC4QILih1eZQPq4NlSKytFAG55eKUuKmUB/2T15uNG9QDC7Jw+rUqNAdk8eFjp9tEB0RpT2Zk/KQHxhMlXIpsJAZmZmZlZFzEDQs1n1acrAQBfZzvf7H8tAiGh0B4nc4UDZX3ZP7rzAQCYBampTgtFAB1+YTPVho0AnMQisbFjFQBe30QA+NqlAejarPncxxEDXNO84hcy2QFfsL7vPqsVAA3gLJKi7skC8BRIU30ypQJ88LNQ6x6hALGUZ4tiHmUAydy0h1y3AQN0kBoFVd5lA",
          "dtype": "f8"
         },
         "yaxis": "y2"
        },
        {
         "hovertemplate": "<b>OLS trendline</b><br>charges = 311.242 * age + -3696.59<br>R<sup>2</sup>=0.515209<br><br>sex_weight=female / Obese<br>smoker=no<br>region=southeast<br>age=%{x}<br>charges=%{y} <b>(trend)</b><extra></extra>",
         "legendgroup": "female / Obese",
         "marker": {
          "color": "#ab63fa",
          "symbol": "circle"
         },
         "mode": "lines",
         "name": "female / Obese",
         "showlegend": false,
         "type": "scattergl",
         "x": {
          "bdata": "EhISEhISEhISEhISFBQUFRUXGBgZGRkcHBwdHR4eHyAhIyMjJSYmJicnKCgpKSssLS0uLzAwMDExMTIzMzQ1NTY2Njc3ODg4Ojo7Ozw9Pj8/P0BA",
          "dtype": "i1"
         },
         "xaxis": "x2",
         "y": {
          "bdata": "gBeWuBjHnUCAF5a4GMedQIAXlrgYx51AgBeWuBjHnUCAF5a4GMedQIAXlrgYx51AgBeWuBjHnUCAF5a4GMedQIAXlrgYx51AgBeWuBjHnUCAF5a4GMedQIAXlrgYx51AHKrOhYTAo0Acqs6FhMCjQByqzoWEwKNASHmQmgAvpkBIeZCaAC+mQKQXFMT4C6tA0ubV2HR6rUDS5tXYdHqtQAC2l+3w6K9AALaX7fDor0AAtpft8OivQMSR7pUymrNAxJHulTKas0DEke6VMpqzQFx5T6Bw0bRAXHlPoHDRtEDyYLCqrgi2QPJgsKquCLZAikgRtew/t0AgMHK/Kne4QLYX08lorrlA5OaU3uQcvEDk5pTe5By8QOTmlN7kHLxAErZW82CLvkCqnbf9nsK/QKqdt/2ewr9Aqp23/Z7Cv0CgQgyE7nzAQKBCDITufMBAbLY8iY0YwUBstjyJjRjBQDcqbY4stMFANyptjiy0wUDOEc6YauvCQJmF/p0Jh8NAZfkuo6gixEBl+S6jqCLEQDBtX6hHvsRA/OCPreZZxUDHVMCyhfXFQMdUwLKF9cVAx1TAsoX1xUCSyPC3JJHGQJLI8LckkcZAksjwtySRxkBePCG9wyzHQCmwUcJiyMdAKbBRwmLIx0D1I4LHAWTIQMCXssyg/8hAwJeyzKD/yECMC+PRP5vJQIwL49E/m8lAjAvj0T+byUBYfxPX3jbKQFh/E9feNspAIvND3H3SykAi80PcfdLKQCLzQ9x90spAutqk5rsJzEC62qTmuwnMQIRO1etapcxAhE7V61qlzEBQwgXx+UDNQBw2NvaY3M1A6Klm+zd4zkCyHZcA1xPPQLIdlwDXE89Ash2XANcTz0B+kccFdq/PQH6RxwV2r89A",
          "dtype": "f8"
         },
         "yaxis": "y2"
        },
        {
         "hovertemplate": "<b>%{hovertext}</b><br><br>sex_weight=female / Obese<br>smoker=no<br>region=northwest<br>age=%{x}<br>charges=%{y}<extra></extra>",
         "hovertext": [
          "female / Obese",
          "female / Obese",
          "female / Obese",
          "female / Obese",
          "female / Obese",
          "female / Obese",
          "female / Obese",
          "female / Obese",
          "female / Obese",
          "female / Obese",
          "female / Obese",
          "female / Obese",
          "female / Obese",
          "female / Obese",
          "female / Obese",
          "female / Obese",
          "female / Obese",
          "female / Obese",
          "female / Obese",
          "female / Obese",
          "female / Obese",
          "female / Obese",
          "female / Obese",
          "female / Obese",
          "female / Obese",
          "female / Obese",
          "female / Obese",
          "female / Obese",
          "female / Obese",
          "female / Obese",
          "female / Obese",
          "female / Obese",
          "female / Obese",
          "female / Obese",
          "female / Obese",
          "female / Obese",
          "female / Obese",
          "female / Obese",
          "female / Obese",
          "female / Obese",
          "female / Obese",
          "female / Obese",
          "female / Obese",
          "female / Obese",
          "female / Obese",
          "female / Obese",
          "female / Obese",
          "female / Obese",
          "female / Obese",
          "female / Obese",
          "female / Obese",
          "female / Obese",
          "female / Obese",
          "female / Obese",
          "female / Obese",
          "female / Obese",
          "female / Obese",
          "female / Obese",
          "female / Obese",
          "female / Obese",
          "female / Obese",
          "female / Obese",
          "female / Obese",
          "female / Obese",
          "female / Obese"
         ],
         "legendgroup": "female / Obese",
         "marker": {
          "color": "#ab63fa",
          "symbol": "circle"
         },
         "mode": "markers",
         "name": "female / Obese",
         "showlegend": false,
         "type": "scattergl",
         "x": {
          "bdata": "Nz4cFSIpMBUvNSATGB0TKik9QBgTQBMbHzk4EzQTJjQXGiszOjEyOSctKBMhOzckEzYVLD4UOiMrJT4fMBsmMxk=",
          "dtype": "i1"
         },
         "xaxis": "x3",
         "y": {
          "bdata": "c2iR7VD2x0BXW7G/GH7OQDSitDfYyatAZMxdS6j3q0CNKO0NhmW3QKg1zTsGq7lA4umVstSMxUCcM6K0d8miQEku/yGBwcNARPrt69hnxUAy5q4lzPC3QB1aZDuPPqVAu7iNBuBOpkBoImx46jqzQLyWkA9apaBAsb/snqQTvUAYldQJKEW+QCS5/IeEOspAHhZqTe0R0EDzjlN0FAqyQKhXyjIktKBAysNCrVWyzECwcmiRza2gQGFUUicwXdJAylTBqESCskBiodY0YyDHQDcawFuwschARKM7iOt+10Ck374O1NnFQOLplbLcoKBAbVZ9ro7luECqDrkZ/1fgQLwFEhSfcrFAOwFNhH0CqUA4Z0RpazvAQO0NvjARMMVAat5xis7jx0DChqdX8rfCQLyWkA8uW8NAcT0K108hx0As1JrmfSm8QOC+DpzbM75AOX8TCi/P20DLoUW2w7GgQE7RkVz+2LhA0SLb+RanyEAy5q4l2PbHQKOSOgEtmLRAv30dODdUpUAFo5I6pWfIQIzWUdW8aNlAPujZrCJXv0CqglFJ4VXNQO7rwDkjq6FAZ9Xnauvlx0B5WKg1df61QFkXt9FAL75AIGPuWlrgt0AwTKYKZgrLQDm0yHZmz7RArkfhepjvwECZKhiVJOiuQNCzWfUpcb1Axf6ye15WxkAep+hInpunQA==",
          "dtype": "f8"
         },
         "yaxis": "y3"
        },
        {
         "hovertemplate": "<b>OLS trendline</b><br>charges = 219.79 * age + 509.299<br>R<sup>2</sup>=0.248962<br><br>sex_weight=female / Obese<br>smoker=no<br>region=northwest<br>age=%{x}<br>charges=%{y} <b>(trend)</b><extra></extra>",
         "legendgroup": "female / Obese",
         "marker": {
          "color": "#ab63fa",
          "symbol": "circle"
         },
         "mode": "lines",
         "name": "female / Obese",
         "showlegend": false,
         "type": "scattergl",
         "x": {
          "bdata": "ExMTExMTExMUFRUVFxgYGRobGxwdHx8gISIjJCUmJicoKSkqKyssLS8wMDEyMzM0NDU2Nzc4OTk6Ojs9Pj4+QEA=",
          "dtype": "i1"
         },
         "xaxis": "x3",
         "y": {
          "bdata": "JtqyyU5NskAm2rLJTk2yQCbasslOTbJAJtqyyU5NskAm2rLJTk2yQCbasslOTbJAJtqyyU5NskAm2rLJTk2yQEn96wEZKbNAayAlOuMEtEBrICU64wS0QGsgJTrjBLRAsGaXqne8tUDSidDiQZi2QNKJ0OJBmLZA9awJGwx0t0AX0EJT1k+4QDrze4ugK7lAOvN7i6AruUBcFrXDage6QH857vs047pAxH9gbMmavEDEf2BsyZq8QOaimaSTdr1ACMbS3F1SvkAr6QsVKC6/QCeGoib5BMBAuBe/Qt5ywEBJqdtew+DAQNo6+HqoTsFA2jr4eqhOwUBszBSXjbzBQP1dMbNyKsJAju9Nz1eYwkCO703PV5jCQB+Baus8BsNAsBKHByJ0w0CwEocHInTDQEKkoyMH4sNA0zXAP+xPxED1WPl3tivFQIbqFZSbmcVAhuoVlJuZxUAYfDKwgAfGQKkNT8xldcZAOp9r6ErjxkA6n2voSuPGQMswiAQwUcdAyzCIBDBRx0BdwqQgFb/HQO5TwTz6LMhAf+XdWN+ayEB/5d1Y35rIQBB3+nTECMlAoQgXkal2yUChCBeRqXbJQDOaM62O5MlAM5ozrY7kyUDEK1DJc1LKQOZOiQE+LstAeOClHSOcy0B44KUdI5zLQHjgpR0jnMtAmgPfVe13zECaA99V7XfMQA==",
          "dtype": "f8"
         },
         "yaxis": "y3"
        },
        {
         "hovertemplate": "<b>%{hovertext}</b><br><br>sex_weight=female / Obese<br>smoker=no<br>region=northeast<br>age=%{x}<br>charges=%{y}<extra></extra>",
         "hovertext": [
          "female / Obese",
          "female / Obese",
          "female / Obese",
          "female / Obese",
          "female / Obese",
          "female / Obese",
          "female / Obese",
          "female / Obese",
          "female / Obese",
          "female / Obese",
          "female / Obese",
          "female / Obese",
          "female / Obese",
          "female / Obese",
          "female / Obese",
          "female / Obese",
          "female / Obese",
          "female / Obese",
          "female / Obese",
          "female / Obese",
          "female / Obese",
          "female / Obese",
          "female / Obese",
          "female / Obese",
          "female / Obese",
          "female / Obese",
          "female / Obese",
          "female / Obese",
          "female / Obese",
          "female / Obese",
          "female / Obese",
          "female / Obese",
          "female / Obese",
          "female / Obese",
          "female / Obese",
          "female / Obese",
          "female / Obese",
          "female / Obese",
          "female / Obese",
          "female / Obese",
          "female / Obese",
          "female / Obese",
          "female / Obese",
          "female / Obese",
          "female / Obese",
          "female / Obese",
          "female / Obese",
          "female / Obese",
          "female / Obese",
          "female / Obese",
          "female / Obese",
          "female / Obese",
          "female / Obese",
          "female / Obese",
          "female / Obese",
          "female / Obese",
          "female / Obese",
          "female / Obese",
          "female / Obese",
          "female / Obese",
          "female / Obese",
          "female / Obese",
          "female / Obese",
          "female / Obese",
          "female / Obese",
          "female / Obese",
          "female / Obese"
         ],
         "legendgroup": "female / Obese",
         "marker": {
          "color": "#ab63fa",
          "symbol": "circle"
         },
         "mode": "markers",
         "name": "female / Obese",
         "showlegend": false,
         "type": "scattergl",
         "x": {
          "bdata": "NDwSEjoWLRIgKUA1KTs3LiswMTgqLjQ+Ei8fMz4ZNj45PS4iEiM6MCAdNTIfMxIWLEASLRshEjQ2GxIUFyo6MRYqEg==",
          "dtype": "i1"
         },
         "xaxis": "x4",
         "y": {
          "bdata": "dQKaCKsWxUCsi9tobNbJQNzXgXO2gqpA5/up8UJGoUAzMzMzr5PKQLRZ9bkKhqVAO3DOiEr/vkBhMlUwNtjUQIqO5PJXvrhARPrt6yStwEDswDkjwhrNQKjGSzdxosRAi/1l9yy+vEC4rwPnUH/MQJOpglGNM8dAf/s6cHZswkBfJLTlJLLSQFpkO9+fncNAlrIMcSwZw0C4HoXrITvKQLfRAN5q171APQrXo4BhwkDu68A5c0LGQCJseHopv81APL1SlvE2oUAA4xk0smPUQF3+Q/oF+7BAGCZTBSdFw0AAb4EEvW3LQAq6vaS5ddFAUPwYc/dVxUBV9l0RAOHeQB4Wak0H1MlADwu1ptGhykAEVg4t/jvBQMUgsHLY2rVAMZkqGGU/oUDHgOz1wlTYQNJvXwd6R8hAXmOXqBDG2UDFjzF3jRy0QBTQRNgwz65AOnr83p6A3EBeS8gH2aLCQL7BFyY74bdAGeJYF9dJw0C2hHzQM1OhQKhXyjKEq65ASwLU1Jr+yEArhxbZimLPQNbFbTTwUqFADJOpglX0wkD7ljldGmfQQLu4jQbAl7lATDeJQTDRsUATJ/c7ZIHWQHE9CtczfMZAu+1Cc9910kD7OnDOeDehQLN78rBwN6NAmEwVjPqmpkBI4XoUxuK9QINRSZ2UbclA+zpwznRBxEA3iUFg5WulQGiz6nMFirtA1edqK/Y7oUA=",
          "dtype": "f8"
         },
         "yaxis": "y4"
        },
        {
         "hovertemplate": "<b>OLS trendline</b><br>charges = 253.241 * age + 313.34<br>R<sup>2</sup>=0.309047<br><br>sex_weight=female / Obese<br>smoker=no<br>region=northeast<br>age=%{x}<br>charges=%{y} <b>(trend)</b><extra></extra>",
         "legendgroup": "female / Obese",
         "marker": {
          "color": "#ab63fa",
          "symbol": "circle"
         },
         "mode": "lines",
         "name": "female / Obese",
         "showlegend": false,
         "type": "scattergl",
         "x": {
          "bdata": "EhISEhISEhISEhQWFhYXGRsbHR8fICAhIiMpKSoqKissLS0uLi4vMDAxMTIzMzQ0NDU1NjY3ODk6Ojo7PD0+Pj5AQA==",
          "dtype": "i1"
         },
         "xaxis": "x4",
         "y": {
          "bdata": "eCraG64Hs0B4KtobrgezQHgq2huuB7NAeCraG64Hs0B4KtobrgezQHgq2huuB7NAeCraG64Hs0B4KtobrgezQHgq2huuB7NAeCraG64Hs0DyDnyOKQK1QGrzHQGl/LZAavMdAaX8tkBq8x0Bpfy2QKblbrri+bdAHsoQLV70uUCYrrKf2e67QJiusp/Z7rtAEJNUElXpvUCId/aE0OO/QIh39oTQ479A4rQjH4dwwEDitCMfh3DAQAEuzPsl78BAH6d02MRtwUA9IB21Y+zBQPL2D+Ec5MRA8vYP4RzkxEAQcLi9u2LFQBBwuL27YsVAEHC4vbtixUAu6WCaWuHFQExiCXf5X8ZAatuxU5jexkBq27FTmN7GQIhUWjA3XcdAiFRaMDddx0CIVFowN13HQKfNAg3W28dAxUar6XRayEDFRqvpdFrIQOO/U8YT2chA479TxhPZyEABOfyislfJQB+ypH9R1slAH7Kkf1HWyUA9K01c8FTKQD0rTVzwVMpAPStNXPBUykBbpPU4j9PKQFuk9TiP08pAeh2eFS5Sy0B6HZ4VLlLLQJiWRvLM0MtAtg/vzmtPzEDUiJerCs7MQPIBQIipTM1A8gFAiKlMzUDyAUCIqUzNQBB76GRIy81ALvSQQedJzkBNbTkehsjOQGvm4fokR89Aa+bh+iRHz0Br5uH6JEfPQFNsGVoxItBAU2wZWjEi0EA=",
          "dtype": "f8"
         },
         "yaxis": "y4"
        },
        {
         "hovertemplate": "<b>%{hovertext}</b><br><br>sex_weight=male / Underweight<br>smoker=yes<br>region=northeast<br>age=%{x}<br>charges=%{y}<extra></extra>",
         "hovertext": [
          "male / Underweight"
         ],
         "legendgroup": "male / Underweight",
         "marker": {
          "color": "#FFA15A",
          "symbol": "circle"
         },
         "mode": "markers",
         "name": "male / Underweight",
         "showlegend": true,
         "type": "scattergl",
         "x": {
          "bdata": "Eg==",
          "dtype": "i1"
         },
         "xaxis": "x8",
         "y": {
          "bdata": "NIC3QLoOyUA=",
          "dtype": "f8"
         },
         "yaxis": "y8"
        },
        {
         "hovertemplate": "sex_weight=male / Underweight<br>smoker=yes<br>region=northeast<extra></extra>",
         "legendgroup": "male / Underweight",
         "marker": {
          "color": "#FFA15A",
          "symbol": "circle"
         },
         "mode": "lines",
         "name": "male / Underweight",
         "showlegend": false,
         "type": "scattergl",
         "xaxis": "x8",
         "yaxis": "y8"
        },
        {
         "hovertemplate": "<b>%{hovertext}</b><br><br>sex_weight=male / Underweight<br>smoker=no<br>region=northwest<br>age=%{x}<br>charges=%{y}<extra></extra>",
         "hovertext": [
          "male / Underweight",
          "male / Underweight",
          "male / Underweight",
          "male / Underweight"
         ],
         "legendgroup": "male / Underweight",
         "marker": {
          "color": "#FFA15A",
          "symbol": "circle"
         },
         "mode": "markers",
         "name": "male / Underweight",
         "showlegend": false,
         "type": "scattergl",
         "x": {
          "bdata": "FxMaIw==",
          "dtype": "i1"
         },
         "xaxis": "x3",
         "y": {
          "bdata": "2ht8YWKupUBmiGNdXFWZQDBMpgrm8aRA6+I2GoD8s0A=",
          "dtype": "f8"
         },
         "yaxis": "y3"
        },
        {
         "hovertemplate": "<b>OLS trendline</b><br>charges = 212.051 * age + -2411.81<br>R<sup>2</sup>=0.956427<br><br>sex_weight=male / Underweight<br>smoker=no<br>region=northwest<br>age=%{x}<br>charges=%{y} <b>(trend)</b><extra></extra>",
         "legendgroup": "male / Underweight",
         "marker": {
          "color": "#FFA15A",
          "symbol": "circle"
         },
         "mode": "lines",
         "name": "male / Underweight",
         "showlegend": false,
         "type": "scattergl",
         "x": {
          "bdata": "ExcaIw==",
          "dtype": "i1"
         },
         "xaxis": "x3",
         "y": {
          "bdata": "6izAopxEmUBPlds/tkKjQHM0uDIEO6hA7ginBfeRs0A=",
          "dtype": "f8"
         },
         "yaxis": "y3"
        },
        {
         "hovertemplate": "<b>%{hovertext}</b><br><br>sex_weight=male / Underweight<br>smoker=no<br>region=northeast<br>age=%{x}<br>charges=%{y}<extra></extra>",
         "hovertext": [
          "male / Underweight",
          "male / Underweight",
          "male / Underweight"
         ],
         "legendgroup": "male / Underweight",
         "marker": {
          "color": "#FFA15A",
          "symbol": "circle"
         },
         "mode": "markers",
         "name": "male / Underweight",
         "showlegend": false,
         "type": "scattergl",
         "x": {
          "bdata": "Ejkm",
          "dtype": "i1"
         },
         "xaxis": "x4",
         "y": {
          "bdata": "I0p7gy97mkBtxf6yb4fGQDojSnuL8LlA",
          "dtype": "f8"
         },
         "yaxis": "y4"
        },
        {
         "hovertemplate": "<b>OLS trendline</b><br>charges = 252.266 * age + -2878.6<br>R<sup>2</sup>=0.999861<br><br>sex_weight=male / Underweight<br>smoker=no<br>region=northeast<br>age=%{x}<br>charges=%{y} <b>(trend)</b><extra></extra>",
         "legendgroup": "male / Underweight",
         "marker": {
          "color": "#FFA15A",
          "symbol": "circle"
         },
         "mode": "lines",
         "name": "male / Underweight",
         "showlegend": false,
         "type": "scattergl",
         "x": {
          "bdata": "EiY5",
          "dtype": "i1"
         },
         "xaxis": "x4",
         "y": {
          "bdata": "viyo4bj4mUCGhttAfjO6QHN3cCRFdsZA",
          "dtype": "f8"
         },
         "yaxis": "y4"
        },
        {
         "hovertemplate": "<b>%{hovertext}</b><br><br>sex_weight=male / Normal_weight<br>smoker=yes<br>region=southwest<br>age=%{x}<br>charges=%{y}<extra></extra>",
         "hovertext": [
          "male / Normal_weight",
          "male / Normal_weight"
         ],
         "legendgroup": "male / Normal_weight",
         "marker": {
          "color": "#19d3f3",
          "symbol": "circle"
         },
         "mode": "markers",
         "name": "male / Normal_weight",
         "showlegend": true,
         "type": "scattergl",
         "x": {
          "bdata": "Jh4=",
          "dtype": "i1"
         },
         "xaxis": "x5",
         "y": {
          "bdata": "9P3UeFnmzkD8qfHSzdTRQA==",
          "dtype": "f8"
         },
         "yaxis": "y5"
        },
        {
         "hovertemplate": "<b>OLS trendline</b><br>charges = -304.815 * age + 27403.7<br>R<sup>2</sup>=1.000000<br><br>sex_weight=male / Normal_weight<br>smoker=yes<br>region=southwest<br>age=%{x}<br>charges=%{y} <b>(trend)</b><extra></extra>",
         "legendgroup": "male / Normal_weight",
         "marker": {
          "color": "#19d3f3",
          "symbol": "circle"
         },
         "mode": "lines",
         "name": "male / Normal_weight",
         "showlegend": false,
         "type": "scattergl",
         "x": {
          "bdata": "HiY=",
          "dtype": "i1"
         },
         "xaxis": "x5",
         "y": {
          "bdata": "/anx0s3U0UD2/dR4WebOQA==",
          "dtype": "f8"
         },
         "yaxis": "y5"
        },
        {
         "hovertemplate": "<b>%{hovertext}</b><br><br>sex_weight=male / Normal_weight<br>smoker=yes<br>region=southeast<br>age=%{x}<br>charges=%{y}<extra></extra>",
         "hovertext": [
          "male / Normal_weight",
          "male / Normal_weight",
          "male / Normal_weight",
          "male / Normal_weight",
          "male / Normal_weight",
          "male / Normal_weight",
          "male / Normal_weight",
          "male / Normal_weight",
          "male / Normal_weight"
         ],
         "legendgroup": "male / Normal_weight",
         "marker": {
          "color": "#19d3f3",
          "symbol": "circle"
         },
         "mode": "markers",
         "name": "male / Normal_weight",
         "showlegend": false,
         "type": "scattergl",
         "x": {
          "bdata": "HDAqKDMjNStA",
          "dtype": "i1"
         },
         "xaxis": "x6",
         "y": {
          "bdata": "BaOSOsk/0UCppE5A67nUQOELk6niDtNAIbByaOHG0ECUh4Vah7LVQNDVVux/6NJACKwcWvSy1ECRD3o271PSQET67eugS9pA",
          "dtype": "f8"
         },
         "yaxis": "y6"
        },
        {
         "hovertemplate": "<b>OLS trendline</b><br>charges = 248.333 * age + 9302.84<br>R<sup>2</sup>=0.794967<br><br>sex_weight=male / Normal_weight<br>smoker=yes<br>region=southeast<br>age=%{x}<br>charges=%{y} <b>(trend)</b><extra></extra>",
         "legendgroup": "male / Normal_weight",
         "marker": {
          "color": "#19d3f3",
          "symbol": "circle"
         },
         "mode": "lines",
         "name": "male / Normal_weight",
         "showlegend": false,
         "type": "scattergl",
         "x": {
          "bdata": "HCMoKiswMzVA",
          "dtype": "i1"
         },
         "xaxis": "x6",
         "y": {
          "bdata": "SIykoBTAz0BWfjOAn5LRQOeBHRAKydJAiLYUsDRF00DYUBAASoPTQGlU+o+0udRAWiPtf/Rz1UD6V+QfH/DVQG75s48Jm9hA",
          "dtype": "f8"
         },
         "yaxis": "y6"
        },
        {
         "hovertemplate": "<b>%{hovertext}</b><br><br>sex_weight=male / Normal_weight<br>smoker=yes<br>region=northwest<br>age=%{x}<br>charges=%{y}<extra></extra>",
         "hovertext": [
          "male / Normal_weight",
          "male / Normal_weight",
          "male / Normal_weight",
          "male / Normal_weight"
         ],
         "legendgroup": "male / Normal_weight",
         "marker": {
          "color": "#19d3f3",
          "symbol": "circle"
         },
         "mode": "markers",
         "name": "male / Normal_weight",
         "showlegend": false,
         "type": "scattergl",
         "x": {
          "bdata": "LRkzHg==",
          "dtype": "i1"
         },
         "xaxis": "x7",
         "y": {
          "bdata": "liGOdaOa1EDV52or/uTOQK8l5IPYZ9dAXkvIB3H00EA=",
          "dtype": "f8"
         },
         "yaxis": "y7"
        },
        {
         "hovertemplate": "<b>OLS trendline</b><br>charges = 297.946 * age + 8313.95<br>R<sup>2</sup>=0.984910<br><br>sex_weight=male / Normal_weight<br>smoker=yes<br>region=northwest<br>age=%{x}<br>charges=%{y} <b>(trend)</b><extra></extra>",
         "legendgroup": "male / Normal_weight",
         "marker": {
          "color": "#19d3f3",
          "symbol": "circle"
         },
         "mode": "lines",
         "name": "male / Normal_weight",
         "showlegend": false,
         "type": "scattergl",
         "x": {
          "bdata": "GR4tMw==",
          "dtype": "i1"
         },
         "xaxis": "x7",
         "y": {
          "bdata": "Bv5ph03JzkBqX1icFdnQQJ6AQiZiNtVAgCegkE311kA=",
          "dtype": "f8"
         },
         "yaxis": "y7"
        },
        {
         "hovertemplate": "<b>%{hovertext}</b><br><br>sex_weight=male / Normal_weight<br>smoker=yes<br>region=northeast<br>age=%{x}<br>charges=%{y}<extra></extra>",
         "hovertext": [
          "male / Normal_weight",
          "male / Normal_weight",
          "male / Normal_weight",
          "male / Normal_weight",
          "male / Normal_weight",
          "male / Normal_weight",
          "male / Normal_weight"
         ],
         "legendgroup": "male / Normal_weight",
         "marker": {
          "color": "#19d3f3",
          "symbol": "circle"
         },
         "mode": "markers",
         "name": "male / Normal_weight",
         "showlegend": false,
         "type": "scattergl",
         "x": {
          "bdata": "ODQhLR0SKg==",
          "dtype": "i1"
         },
         "xaxis": "x8",
         "y": {
          "bdata": "3SQGgSnj1UBTliGOdUnYQFfsL7shfNFA9l0R/Ksf4UD1udqKYYXPQFUwKqnv2cpAYTJVMNjC1EA=",
          "dtype": "f8"
         },
         "yaxis": "y8"
        },
        {
         "hovertemplate": "<b>OLS trendline</b><br>charges = 349.944 * age + 7881.12<br>R<sup>2</sup>=0.443547<br><br>sex_weight=male / Normal_weight<br>smoker=yes<br>region=northeast<br>age=%{x}<br>charges=%{y} <b>(trend)</b><extra></extra>",
         "legendgroup": "male / Normal_weight",
         "marker": {
          "color": "#19d3f3",
          "symbol": "circle"
         },
         "mode": "lines",
         "name": "male / Normal_weight",
         "showlegend": false,
         "type": "scattergl",
         "x": {
          "bdata": "Eh0hKi00OA==",
          "dtype": "i1"
         },
         "xaxis": "x8",
         "y": {
          "bdata": "RlB3Fw6yy0AKiQZ+X5vRQOo38xtR+dJAYsFHv7AM1kCJRLn1JRPXQJF2F8qMd9lAcCUEaH7V2kA=",
          "dtype": "f8"
         },
         "yaxis": "y8"
        },
        {
         "hovertemplate": "<b>%{hovertext}</b><br><br>sex_weight=male / Normal_weight<br>smoker=no<br>region=southwest<br>age=%{x}<br>charges=%{y}<extra></extra>",
         "hovertext": [
          "male / Normal_weight",
          "male / Normal_weight",
          "male / Normal_weight",
          "male / Normal_weight",
          "male / Normal_weight",
          "male / Normal_weight",
          "male / Normal_weight",
          "male / Normal_weight",
          "male / Normal_weight",
          "male / Normal_weight",
          "male / Normal_weight",
          "male / Normal_weight",
          "male / Normal_weight",
          "male / Normal_weight",
          "male / Normal_weight",
          "male / Normal_weight",
          "male / Normal_weight",
          "male / Normal_weight",
          "male / Normal_weight",
          "male / Normal_weight",
          "male / Normal_weight",
          "male / Normal_weight"
         ],
         "legendgroup": "male / Normal_weight",
         "marker": {
          "color": "#19d3f3",
          "symbol": "circle"
         },
         "mode": "markers",
         "name": "male / Normal_weight",
         "showlegend": false,
         "type": "scattergl",
         "x": {
          "bdata": "ExouEx8ZGD4cExM1GhUrODc6HBM5FA==",
          "dtype": "i1"
         },
         "xaxis": "x",
         "y": {
          "bdata": "nMQgsPK0nECamZmZmfyhQBSuR+Ea67tATDeJQWCgnEDP91PjZXipQGq8dJMY2LNA+n5qvHTGnkB3vp8aj07JQAIrhxZZD65AJQaBlUNrk0DXo3A9CmmTQKAaL920qMNA9P3UeKk4q0Bcj8L1KG6gQMP1KFxvarhAYOXQIouoxEAUrkfh+hPFQFCNl27CKMZAObTIdl7vtUD2KFyPQmaTQNejcD2qZ8VAhetRuB6znkA=",
          "dtype": "f8"
         },
         "yaxis": "y"
        },
        {
         "hovertemplate": "<b>OLS trendline</b><br>charges = 246.999 * age + -3141.8<br>R<sup>2</sup>=0.956188<br><br>sex_weight=male / Normal_weight<br>smoker=no<br>region=southwest<br>age=%{x}<br>charges=%{y} <b>(trend)</b><extra></extra>",
         "legendgroup": "male / Normal_weight",
         "marker": {
          "color": "#19d3f3",
          "symbol": "circle"
         },
         "mode": "lines",
         "name": "male / Normal_weight",
         "showlegend": false,
         "type": "scattergl",
         "x": {
          "bdata": "ExMTExMUFRgZGhocHB8rLjU3ODk6Pg==",
          "dtype": "i1"
         },
         "xaxis": "x",
         "y": {
          "bdata": "mLsS7rE8mECYuxLusTyYQJi7Eu6xPJhAmLsS7rE8mECYuxLusTyYQMRqO5awGJxA9BlkPq/0n0DAE2+bVcSlQFhrg+9UsqdA8MKXQ1SgqUDwwpdDVKCpQB5ywOtSfK1AHnLA61J8rUByvP5zKKOxQP/JeGwkN71AsqZLtREOwED6P2+IkG7DQMZreTKQZcRArIF+BxDhxECSl4Pcj1zFQHitiLEP2MVADgWdBQ/Gx0A=",
          "dtype": "f8"
         },
         "yaxis": "y"
        },
        {
         "hovertemplate": "<b>%{hovertext}</b><br><br>sex_weight=male / Normal_weight<br>smoker=no<br>region=southeast<br>age=%{x}<br>charges=%{y}<extra></extra>",
         "hovertext": [
          "male / Normal_weight",
          "male / Normal_weight",
          "male / Normal_weight",
          "male / Normal_weight",
          "male / Normal_weight",
          "male / Normal_weight",
          "male / Normal_weight",
          "male / Normal_weight",
          "male / Normal_weight",
          "male / Normal_weight",
          "male / Normal_weight",
          "male / Normal_weight"
         ],
         "legendgroup": "male / Normal_weight",
         "marker": {
          "color": "#19d3f3",
          "symbol": "circle"
         },
         "mode": "markers",
         "name": "male / Normal_weight",
         "showlegend": false,
         "type": "scattergl",
         "x": {
          "bdata": "KRsmLTYqEhISLSgV",
          "dtype": "i1"
         },
         "xaxis": "x2",
         "y": {
          "bdata": "p3nHKXqAuEC28/3UeGejQCDSb1+H/LlAzqrP1W4ew0ADCYof24LFQHh6pSzjTrdA5j+k336HkUAijnVxG7yaQJ+T3jcGNsdAwcqhRa7OwECP5PIfgsG5QJAxdy1hrZdA",
          "dtype": "f8"
         },
         "yaxis": "y2"
        },
        {
         "hovertemplate": "<b>OLS trendline</b><br>charges = 175.135 * age + 194.134<br>R<sup>2</sup>=0.352047<br><br>sex_weight=male / Normal_weight<br>smoker=no<br>region=southeast<br>age=%{x}<br>charges=%{y} <b>(trend)</b><extra></extra>",
         "legendgroup": "male / Normal_weight",
         "marker": {
          "color": "#19d3f3",
          "symbol": "circle"
         },
         "mode": "lines",
         "name": "male / Normal_weight",
         "showlegend": false,
         "type": "scattergl",
         "x": {
          "bdata": "EhISFRsmKCkqLS02",
          "dtype": "i1"
         },
         "xaxis": "x2",
         "y": {
          "bdata": "SRMqxBwlqkBJEyrEHCWqQEkTKsQcJapADKYYa+s/rkDJ5XpcxDqzQC5IMDk/wbpAb85/G4QfvECPkaeMps68QLBUz/3Ifb1AEZ5GUTCLv0ARnkZRMIu/QBs91iWz2cJA",
          "dtype": "f8"
         },
         "yaxis": "y2"
        },
        {
         "hovertemplate": "<b>%{hovertext}</b><br><br>sex_weight=male / Normal_weight<br>smoker=no<br>region=northwest<br>age=%{x}<br>charges=%{y}<extra></extra>",
         "hovertext": [
          "male / Normal_weight",
          "male / Normal_weight",
          "male / Normal_weight",
          "male / Normal_weight",
          "male / Normal_weight",
          "male / Normal_weight",
          "male / Normal_weight",
          "male / Normal_weight",
          "male / Normal_weight",
          "male / Normal_weight",
          "male / Normal_weight",
          "male / Normal_weight",
          "male / Normal_weight",
          "male / Normal_weight",
          "male / Normal_weight",
          "male / Normal_weight",
          "male / Normal_weight",
          "male / Normal_weight",
          "male / Normal_weight",
          "male / Normal_weight",
          "male / Normal_weight",
          "male / Normal_weight",
          "male / Normal_weight",
          "male / Normal_weight"
         ],
         "legendgroup": "male / Normal_weight",
         "marker": {
          "color": "#19d3f3",
          "symbol": "circle"
         },
         "mode": "markers",
         "name": "male / Normal_weight",
         "showlegend": false,
         "type": "scattergl",
         "x": {
          "bdata": "IRNAIyczEy4eFS8tNRg8EzwnIRMXPyYl",
          "dtype": "i1"
         },
         "xaxis": "x3",
         "y": {
          "bdata": "y2d5Hh541UCPwvUovGWZQFjnGJCndd1Av30dODcFtEAawFsgMTa6QEGC4scMgMZAB1+YTGXnpUBCPujZtGa9QEvIBz17gK9AiUFg5TAKqEDOiNLeCHbAQHsUrkfJNrxAIEHxY7xDw0Cfq63Y72GiQE8eFmpNnMlABaOSOiFtmUBPHhZqzXXIQN9PjZd+5bdAAd4CCYKJtEC/Dpwz4nGZQOZ5cHfYFtVA2qz6XO0GzECkcD0K59+2QCL99nXANrhA",
          "dtype": "f8"
         },
         "yaxis": "y3"
        },
        {
         "hovertemplate": "<b>OLS trendline</b><br>charges = 275.529 * age + -1748.1<br>R<sup>2</sup>=0.322095<br><br>sex_weight=male / Normal_weight<br>smoker=no<br>region=northwest<br>age=%{x}<br>charges=%{y} <b>(trend)</b><extra></extra>",
         "legendgroup": "male / Normal_weight",
         "marker": {
          "color": "#19d3f3",
          "symbol": "circle"
         },
         "mode": "lines",
         "name": "male / Normal_weight",
         "showlegend": false,
         "type": "scattergl",
         "x": {
          "bdata": "ExMTExUXGB4hISMlJicnLS4vMzU8PD9A",
          "dtype": "i1"
         },
         "xaxis": "x3",
         "y": {
          "bdata": "AMmoHuk9q0AAyage6T2rQADJqB7pPatAAMmoHuk9q0AwU5YYB4yvQLDuQYkS7bFAPVG9B5oAs0CFoKH+xnW5QCnIE3pdsLxAKcgTel2wvEBBjQp3bNe+QCypALo9f8BAclo+eQEJwUC4C3w4xZLBQLgLfDjFksFAXDPus1vNxECi5CtzH1fFQOiVaTLj4MVAAVtgL/IHyECNvduteRvJQHeWi+jT38xAd5aL6NPfzEBJqkQmH33OQI9bguXiBs9A",
          "dtype": "f8"
         },
         "yaxis": "y3"
        },
        {
         "hovertemplate": "<b>%{hovertext}</b><br><br>sex_weight=male / Normal_weight<br>smoker=no<br>region=northeast<br>age=%{x}<br>charges=%{y}<extra></extra>",
         "hovertext": [
          "male / Normal_weight",
          "male / Normal_weight",
          "male / Normal_weight",
          "male / Normal_weight",
          "male / Normal_weight",
          "male / Normal_weight",
          "male / Normal_weight",
          "male / Normal_weight",
          "male / Normal_weight",
          "male / Normal_weight",
          "male / Normal_weight",
          "male / Normal_weight",
          "male / Normal_weight",
          "male / Normal_weight",
          "male / Normal_weight",
          "male / Normal_weight",
          "male / Normal_weight",
          "male / Normal_weight",
          "male / Normal_weight",
          "male / Normal_weight",
          "male / Normal_weight",
          "male / Normal_weight",
          "male / Normal_weight",
          "male / Normal_weight",
          "male / Normal_weight",
          "male / Normal_weight",
          "male / Normal_weight",
          "male / Normal_weight"
         ],
         "legendgroup": "male / Normal_weight",
         "marker": {
          "color": "#19d3f3",
          "symbol": "circle"
         },
         "mode": "markers",
         "name": "male / Normal_weight",
         "showlegend": false,
         "type": "scattergl",
         "x": {
          "bdata": "FxIiGxYSLDMVKC0dHDs9LDYxLiIvGRIXLRIpJQ==",
          "dtype": "i1"
         },
         "xaxis": "x4",
         "y": {
          "bdata": "Qs9m1Ve2okBoke18f6aaQIVf6uf5u9pAhJ7NqufbskAfhetR2EqvQG6jAbxFoppADeAtkEQ3wEArGJXUqUjCQDarPldrKq5AMuauJVwFvEBbQj7oPc7AQEp7gy+UWbRAwTkjSuNMsUCHFtnO9xHIQGN/2T3NpMlA5dAi25FdwUDwhclUdVvEQBb7y+5t+MBAfdCzWUmOwkArhxbZVpSxQO/Jw0LF2cBAvhOzXl6y1kAtIR/0zKKaQF8HzhkxuKJAw9MrZenNwEB6xyk60pmaQCnLEMd6yrpAtaZ5x4FJu0A=",
          "dtype": "f8"
         },
         "yaxis": "y4"
        },
        {
         "hovertemplate": "<b>OLS trendline</b><br>charges = 192.734 * age + 843.09<br>R<sup>2</sup>=0.185103<br><br>sex_weight=male / Normal_weight<br>smoker=no<br>region=northeast<br>age=%{x}<br>charges=%{y} <b>(trend)</b><extra></extra>",
         "legendgroup": "male / Normal_weight",
         "marker": {
          "color": "#19d3f3",
          "symbol": "circle"
         },
         "mode": "lines",
         "name": "male / Normal_weight",
         "showlegend": false,
         "type": "scattergl",
         "x": {
          "bdata": "EhISEhUWFxcZGxwdIiIlKCksLC0tLi8xMzY7PQ==",
          "dtype": "i1"
         },
         "xaxis": "x4",
         "y": {
          "bdata": "iRHAF07YsECJEcAXTtiwQIkRwBdO2LBAiRHAF07YsEC/i+HugRqzQNEJQuE927NA44ei0/mbtEDjh6LT+Zu0QAeEY7hxHbZAK4Aknemet0A9/oSPpV+4QE985YFhILlAqfLHPQ3kvECp8sc9DeS8QN9s6RRBJr9AinMFdjq0wECTsjVvmBTBQK5vxlqyNcJArm/GWrI1wkC3rvZTEJbCQLeu9lMQlsJAwO0mTW72wkDJLFdGzFbDQNuqtziIF8RA7SgYK0TYxEAI5qgWXvnFQDUhmvQz28dAR5/65u+byEA=",
          "dtype": "f8"
         },
         "yaxis": "y4"
        },
        {
         "hovertemplate": "<b>%{hovertext}</b><br><br>sex_weight=male / Overweight<br>smoker=yes<br>region=southwest<br>age=%{x}<br>charges=%{y}<extra></extra>",
         "hovertext": [
          "male / Overweight",
          "male / Overweight",
          "male / Overweight",
          "male / Overweight",
          "male / Overweight",
          "male / Overweight",
          "male / Overweight",
          "male / Overweight",
          "male / Overweight",
          "male / Overweight",
          "male / Overweight",
          "male / Overweight"
         ],
         "legendgroup": "male / Overweight",
         "marker": {
          "color": "#FF6692",
          "symbol": "circle"
         },
         "mode": "markers",
         "name": "male / Overweight",
         "showlegend": true,
         "type": "scattergl",
         "x": {
          "bdata": "MBM2FScxIRkfLxQr",
          "dtype": "i1"
         },
         "xaxis": "x5",
         "y": {
          "bdata": "IbByaBEE10A1XrpJ7NTPQLpJDAKTydhAWDm0yIaF0UDXo3A9ipbUQLpJDAKjwtZA001iEDiY0kBkO99PXXfTQNv5fmr8v9JA8KfGS1+32EDb+X5qbLTPQHh6pSy3eOJA",
          "dtype": "f8"
         },
         "yaxis": "y5"
        },
        {
         "hovertemplate": "<b>OLS trendline</b><br>charges = 308.643 * age + 11059.8<br>R<sup>2</sup>=0.435127<br><br>sex_weight=male / Overweight<br>smoker=yes<br>region=southwest<br>age=%{x}<br>charges=%{y} <b>(trend)</b><extra></extra>",
         "legendgroup": "male / Overweight",
         "marker": {
          "color": "#FF6692",
          "symbol": "circle"
         },
         "mode": "lines",
         "name": "male / Overweight",
         "showlegend": false,
         "type": "scattergl",
         "x": {
          "bdata": "ExQVGR8hJysvMDE2",
          "dtype": "i1"
         },
         "xaxis": "x5",
         "y": {
          "bdata": "9lpJPwKH0EB/qTJeK9TQQAj4G31UIdFAKjLB+PhV0kBdCTmy7yTUQG6mC/BBv9RAon2DqTiO1kDEtygl3cLXQObxzaCB99hAbkC3v6pE2UD3jqDe05HZQKIXL3mhE9tA",
          "dtype": "f8"
         },
         "yaxis": "y5"
        },
        {
         "hovertemplate": "<b>%{hovertext}</b><br><br>sex_weight=male / Overweight<br>smoker=yes<br>region=southeast<br>age=%{x}<br>charges=%{y}<extra></extra>",
         "hovertext": [
          "male / Overweight",
          "male / Overweight",
          "male / Overweight",
          "male / Overweight",
          "male / Overweight",
          "male / Overweight",
          "male / Overweight"
         ],
         "legendgroup": "male / Overweight",
         "marker": {
          "color": "#FF6692",
          "symbol": "circle"
         },
         "mode": "markers",
         "name": "male / Overweight",
         "showlegend": false,
         "type": "scattergl",
         "x": {
          "bdata": "Ii8qGyAfGg==",
          "dtype": "i1"
         },
         "xaxis": "x6",
         "y": {
          "bdata": "4XoUrh+H0kCqYFRSq3bVQPZdEfyyrOJAy6FFtp/R0UAi/fZ17EHTQOC+DpyX5dJAt2J/2dWk0EA=",
          "dtype": "f8"
         },
         "yaxis": "y6"
        },
        {
         "hovertemplate": "<b>OLS trendline</b><br>charges = 580.142 * age + 2128.95<br>R<sup>2</sup>=0.372849<br><br>sex_weight=male / Overweight<br>smoker=yes<br>region=southeast<br>age=%{x}<br>charges=%{y} <b>(trend)</b><extra></extra>",
         "legendgroup": "male / Overweight",
         "marker": {
          "color": "#FF6692",
          "symbol": "circle"
         },
         "mode": "lines",
         "name": "male / Overweight",
         "showlegend": false,
         "type": "scattergl",
         "x": {
          "bdata": "GhsfICIqLw==",
          "dtype": "i1"
         },
         "xaxis": "x6",
         "y": {
          "bdata": "Zft5rSnP0EAW1crHMmDRQNY7DjFXpNNAhhVfS2A11EDmyACAclfVQGeWh1K739lA2NYb1ui03EA=",
          "dtype": "f8"
         },
         "yaxis": "y6"
        },
        {
         "hovertemplate": "<b>%{hovertext}</b><br><br>sex_weight=male / Overweight<br>smoker=yes<br>region=northwest<br>age=%{x}<br>charges=%{y}<extra></extra>",
         "hovertext": [
          "male / Overweight",
          "male / Overweight",
          "male / Overweight",
          "male / Overweight",
          "male / Overweight",
          "male / Overweight",
          "male / Overweight",
          "male / Overweight",
          "male / Overweight",
          "male / Overweight",
          "male / Overweight",
          "male / Overweight",
          "male / Overweight"
         ],
         "legendgroup": "male / Overweight",
         "marker": {
          "color": "#FF6692",
          "symbol": "circle"
         },
         "mode": "markers",
         "name": "male / Overweight",
         "showlegend": false,
         "type": "scattergl",
         "x": {
          "bdata": "FB4TNDg9MSobIi8TIA==",
          "dtype": "i1"
         },
         "xaxis": "x7",
         "y": {
          "bdata": "qvHSTRgm0UAeFmpNf0LUQN4CCYor8tBAQs9m1WfS10AwuycPVX/ZQPRsVn0qMdxA24r9Zc8/10CJ78SsbgLgQGiR7Xyv4dFAx7q4jWiK00DVCWgizlTYQO/Jw0K5ENBAVcGopB741EA=",
          "dtype": "f8"
         },
         "yaxis": "y7"
        },
        {
         "hovertemplate": "<b>OLS trendline</b><br>charges = 272.155 * age + 12305.6<br>R<sup>2</sup>=0.659887<br><br>sex_weight=male / Overweight<br>smoker=yes<br>region=northwest<br>age=%{x}<br>charges=%{y} <b>(trend)</b><extra></extra>",
         "legendgroup": "male / Overweight",
         "marker": {
          "color": "#FF6692",
          "symbol": "circle"
         },
         "mode": "lines",
         "name": "male / Overweight",
         "showlegend": false,
         "type": "scattergl",
         "x": {
          "bdata": "ExMUGx4gIiovMTQ4PQ==",
          "dtype": "i1"
         },
         "xaxis": "x7",
         "y": {
          "bdata": "U/FbdiIR0UBT8Vt2IhHRQIlaa2AsVdFABDvXxnEx00CndgWFj/3TQBRJJFmjhdRAgBtDLbcN1UAyZb59Bi7XQEFzCxA4gthArUUq5EsK2UBQgViiadbZQCgmlkqR5tpAODTj3MI63EA=",
          "dtype": "f8"
         },
         "yaxis": "y7"
        },
        {
         "hovertemplate": "<b>%{hovertext}</b><br><br>sex_weight=male / Overweight<br>smoker=yes<br>region=northeast<br>age=%{x}<br>charges=%{y}<extra></extra>",
         "hovertext": [
          "male / Overweight",
          "male / Overweight",
          "male / Overweight",
          "male / Overweight",
          "male / Overweight",
          "male / Overweight",
          "male / Overweight",
          "male / Overweight",
          "male / Overweight",
          "male / Overweight",
          "male / Overweight"
         ],
         "legendgroup": "male / Overweight",
         "marker": {
          "color": "#FF6692",
          "symbol": "circle"
         },
         "mode": "markers",
         "name": "male / Overweight",
         "showlegend": false,
         "type": "scattergl",
         "x": {
          "bdata": "OxIjGCckORIYJz4=",
          "dtype": "i1"
         },
         "xaxis": "x8",
         "y": {
          "bdata": "io7k8jt63UCNl24SF0/OQLraiv0FftRAk+NO6XAp4UD4wmSqVK3TQARWDi1oSdRAi2zn+5uU2kCzDHGsq8bQQC7/If0aNtJAzczMzILv1UB88rBQVXHbQA==",
          "dtype": "f8"
         },
         "yaxis": "y8"
        },
        {
         "hovertemplate": "<b>OLS trendline</b><br>charges = 201.368 * age + 15782.2<br>R<sup>2</sup>=0.284181<br><br>sex_weight=male / Overweight<br>smoker=yes<br>region=northeast<br>age=%{x}<br>charges=%{y} <b>(trend)</b><extra></extra>",
         "legendgroup": "male / Overweight",
         "marker": {
          "color": "#FF6692",
          "symbol": "circle"
         },
         "mode": "lines",
         "name": "male / Overweight",
         "showlegend": false,
         "type": "scattergl",
         "x": {
          "bdata": "EhIYGCMkJyc5Oz4=",
          "dtype": "i1"
         },
         "xaxis": "x8",
         "y": {
          "bdata": "OHCvfrXz0kA4cK9+tfPSQGdIINzCIdRAZ0gg3MIh1EASKm8HhkvWQMX4AZfdfdZA3GS6ReQU10DcZLpF5BTXQGjtDF4Mn9pAzooyfbsD20Dl9uorwprbQA==",
          "dtype": "f8"
         },
         "yaxis": "y8"
        },
        {
         "hovertemplate": "<b>%{hovertext}</b><br><br>sex_weight=male / Overweight<br>smoker=no<br>region=southwest<br>age=%{x}<br>charges=%{y}<extra></extra>",
         "hovertext": [
          "male / Overweight",
          "male / Overweight",
          "male / Overweight",
          "male / Overweight",
          "male / Overweight",
          "male / Overweight",
          "male / Overweight",
          "male / Overweight",
          "male / Overweight",
          "male / Overweight",
          "male / Overweight",
          "male / Overweight",
          "male / Overweight",
          "male / Overweight",
          "male / Overweight",
          "male / Overweight",
          "male / Overweight",
          "male / Overweight",
          "male / Overweight",
          "male / Overweight",
          "male / Overweight",
          "male / Overweight",
          "male / Overweight",
          "male / Overweight",
          "male / Overweight",
          "male / Overweight",
          "male / Overweight",
          "male / Overweight",
          "male / Overweight",
          "male / Overweight",
          "male / Overweight",
          "male / Overweight"
         ],
         "legendgroup": "male / Overweight",
         "marker": {
          "color": "#FF6692",
          "symbol": "circle"
         },
         "mode": "markers",
         "name": "male / Overweight",
         "showlegend": false,
         "type": "scattergl",
         "x": {
          "bdata": "LBM2OxkyHS5AKiMnEy0YMTwiEzkzKCkuIxgwNSU3IS0=",
          "dtype": "i1"
         },
         "xaxis": "x",
         "y": {
          "bdata": "yXa+n9ouvkB/arx0E8qcQDVeukkMYsRAi2zn++kWyEAv3SQGQYSuQCcxCKw8fsBA30+Nly5kpkAHfH4YwwbYQPCnxks3Rs1AAiuHFrlRt0BqvHST2Ca3QAisHFpEWL1AObTIdr6Xk0CHFtnO91u/QPYoXI9C555AfT81Xrr/wEA1XrpJfLnHQMUDyqbs7MZA46WbxKCRk0ACK4cWuWrFQOkmMQg8J8FA2/l+alzIuUCPwvUoPIq4QI/C9Sh8uMNA001iEFiKskDNzMzMzNOeQNjYJaoLvNRAz/dT47X6xUDi6ZWyJvHTQCGwcmhR88NANV66SSyrt0BmZmZmptPAQA==",
          "dtype": "f8"
         },
         "yaxis": "y"
        },
        {
         "hovertemplate": "<b>OLS trendline</b><br>charges = 280.455 * age + -2861.94<br>R<sup>2</sup>=0.394581<br><br>sex_weight=male / Overweight<br>smoker=no<br>region=southwest<br>age=%{x}<br>charges=%{y} <b>(trend)</b><extra></extra>",
         "legendgroup": "male / Overweight",
         "marker": {
          "color": "#FF6692",
          "symbol": "circle"
         },
         "mode": "lines",
         "name": "male / Overweight",
         "showlegend": false,
         "type": "scattergl",
         "x": {
          "bdata": "ExMTGBgZHSEiIyMlJygpKiwtLS4uMDEyMzU2Nzk7PEA=",
          "dtype": "i1"
         },
         "xaxis": "x",
         "y": {
          "bdata": "vNmt3mdFo0C82a3eZ0WjQLzZrd5nRaNAdMFxSPQ5rkB0wXFI9DmuQE3eMpVuNbBAl9QaWUCXtEDgygIdEvm4QHLI/I2GEbpABsb2/vopu0AGxvb++im7QCrB6uDjWr1AULzewsyLv0DxXOyZIFLAQLpbadJa3sBAg1rmCpVqwUAWWOB7CYPCQN9WXbRDD8NA31ZdtEMPw0CoVdrsfZvDQKhV2ux9m8NAOlPUXfKzxEAEUlGWLEDFQM1Qzs5mzMVAlk9LB6FYxkApTUV4FXHHQPJLwrBP/cdAu0o/6YmJyEBNSDla/qHJQOBFM8tyuspAqkSwA61Gy0DOP6TllXfNQA==",
          "dtype": "f8"
         },
         "yaxis": "y"
        },
        {
         "hovertemplate": "<b>%{hovertext}</b><br><br>sex_weight=male / Overweight<br>smoker=no<br>region=southeast<br>age=%{x}<br>charges=%{y}<extra></extra>",
         "hovertext": [
          "male / Overweight",
          "male / Overweight",
          "male / Overweight",
          "male / Overweight",
          "male / Overweight",
          "male / Overweight",
          "male / Overweight",
          "male / Overweight",
          "male / Overweight",
          "male / Overweight",
          "male / Overweight",
          "male / Overweight",
          "male / Overweight",
          "male / Overweight",
          "male / Overweight",
          "male / Overweight",
          "male / Overweight",
          "male / Overweight",
          "male / Overweight",
          "male / Overweight",
          "male / Overweight"
         ],
         "legendgroup": "male / Overweight",
         "marker": {
          "color": "#FF6692",
          "symbol": "circle"
         },
         "mode": "markers",
         "name": "male / Overweight",
         "showlegend": false,
         "type": "scattergl",
         "x": {
          "bdata": "HTAZOxIuNDw7FiQXEjUaJjkoMisj",
          "dtype": "i1"
         },
         "xaxis": "x2",
         "y": {
          "bdata": "NBE2PD1mpkD2KFyPom2+QFXBqKROs6BAwcqhRabvxkD7XG3Fvt2aQBpR2hscPr5ALVvrizRi2UC8lpAPSrfHQCGwcmjxPslAVHQkl/8DmkBg5dAiuy+xQET67euAX5xAGsBbIAEAokALRiV10ofCQKabxCDQraZAbAn5oHdstUCxv+yeHJHGQB04Z0SpJ7VAN4lBYFV9wEBj7lpCKkfMQPW52ooNi7JA",
          "dtype": "f8"
         },
         "yaxis": "y2"
        },
        {
         "hovertemplate": "<b>OLS trendline</b><br>charges = 316.177 * age + -5089.63<br>R<sup>2</sup>=0.581608<br><br>sex_weight=male / Overweight<br>smoker=no<br>region=southeast<br>age=%{x}<br>charges=%{y} <b>(trend)</b><extra></extra>",
         "legendgroup": "male / Overweight",
         "marker": {
          "color": "#FF6692",
          "symbol": "circle"
         },
         "mode": "lines",
         "name": "male / Overweight",
         "showlegend": false,
         "type": "scattergl",
         "x": {
          "bdata": "EhIWFxkaHSMkJigrLjAyNDU5Ozs8",
          "dtype": "i1"
         },
         "xaxis": "x2",
         "y": {
          "bdata": "8MQnY37MgkDwxCdjfsyCQLjEFbwUKZ1ApB5bD+UMoUA2l/txmv2lQH7TSyP1dahAVog8NwXfr0AD+Y6vkli3QCcXNwjAlLhAb1OHuRoNu0C3j9dqdYW9QBL1Z7r+nMBASCJkv0J3wkBsQAwYcLPDQJBetHCd78RAtHxcycorxkDGi7B14cnGQA7IACc8QslAMuaof2l+ykAy5qh/aX7KQET1/CuAHMtA",
          "dtype": "f8"
         },
         "yaxis": "y2"
        },
        {
         "hovertemplate": "<b>%{hovertext}</b><br><br>sex_weight=male / Overweight<br>smoker=no<br>region=northwest<br>age=%{x}<br>charges=%{y}<extra></extra>",
         "hovertext": [
          "male / Overweight",
          "male / Overweight",
          "male / Overweight",
          "male / Overweight",
          "male / Overweight",
          "male / Overweight",
          "male / Overweight",
          "male / Overweight",
          "male / Overweight",
          "male / Overweight",
          "male / Overweight",
          "male / Overweight",
          "male / Overweight",
          "male / Overweight",
          "male / Overweight",
          "male / Overweight",
          "male / Overweight",
          "male / Overweight",
          "male / Overweight",
          "male / Overweight",
          "male / Overweight",
          "male / Overweight",
          "male / Overweight",
          "male / Overweight",
          "male / Overweight",
          "male / Overweight",
          "male / Overweight",
          "male / Overweight",
          "male / Overweight",
          "male / Overweight",
          "male / Overweight",
          "male / Overweight",
          "male / Overweight",
          "male / Overweight",
          "male / Overweight",
          "male / Overweight",
          "male / Overweight",
          "male / Overweight",
          "male / Overweight",
          "male / Overweight",
          "male / Overweight",
          "male / Overweight",
          "male / Overweight",
          "male / Overweight"
         ],
         "legendgroup": "male / Overweight",
         "marker": {
          "color": "#FF6692",
          "symbol": "circle"
         },
         "mode": "markers",
         "name": "male / Overweight",
         "showlegend": false,
         "type": "scattergl",
         "x": {
          "bdata": "ICU/KBMWHSUmOhgZIj4TLzIfFBM7JzEpMhU1FxkTFhgsOxM3JCAmKC4hKh8=",
          "dtype": "i1"
         },
         "xaxis": "x3",
         "y": {
          "bdata": "FD/G3LU1rkArhxbZ5ju4QCS5/IcM5cpAyxDHumD1uEDpSC7/QYKZQFYOLbK99p9A001iEHi70UCY3ZOHJaSzQOVhodbcN7lAxty1hPDrxkAtsp3vZ6OrQFg5tMhWtqNAFNBE2MAes0BkO99P1TjLQNcS8kHvjplAZapgVCrKwkBT0O0lKZPdQAFNhA2Xk7BArIvbaCCmm0DsUbgeJYCZQGuad5zOsMdA93XgnJHrt0DImLuWOAzEQLFQa5qvCLpAt9EA3po9wUArhxbZbsmdQJwzorTnRsNAlWWIYx3KpUC+wRcm+w2zQHQkl/8gW6FA/yH99hWepEBzEd+J8aDIQPRsVn0GXr1ARpT2Bn+ux0DJsIo3avfVQKhXyjJAscRAFvvL7jGUuUC8BRIUZ2axQHL5D+nXOblAxf6ye5r5uECsrdhf8irCQBsN4C14jbRARPrt6+gcu0DG3LWE5I+wQA==",
          "dtype": "f8"
         },
         "yaxis": "y3"
        },
        {
         "hovertemplate": "<b>OLS trendline</b><br>charges = 221.769 * age + -535.07<br>R<sup>2</sup>=0.261837<br><br>sex_weight=male / Overweight<br>smoker=no<br>region=northwest<br>age=%{x}<br>charges=%{y} <b>(trend)</b><extra></extra>",
         "legendgroup": "male / Overweight",
         "marker": {
          "color": "#FF6692",
          "symbol": "circle"
         },
         "mode": "lines",
         "name": "male / Overweight",
         "showlegend": false,
         "type": "scattergl",
         "x": {
          "bdata": "ExMTExMUFRYWFxgYGRkdHx8gICEiJCUlJiYnKCgpKiwuLzEyMjU3Ojs7Pj8=",
          "dtype": "i1"
         },
         "xaxis": "x3",
         "y": {
          "bdata": "rW3ukhW9rECtbe6SFb2sQK1t7pIVvaxArW3ukhW9rECtbe6SFb2sQMl2pFKfeK5A8j8tiRQasECARAhp2fewQIBECGnZ97BAEEnjSJ7VsUCeTb4oY7OyQJ5Nvihjs7JALFKZCCiRs0AsUpkIKJGzQGRkBYg7CLdAgG27R8XDuECAbbtHxcO4QA5ylieKoblADnKWJ4qhuUCcdnEHT3+6QCp7TOcTXbtASIQCp50YvUDWiN2GYva9QNaI3YZi9r1AZI24ZifUvkBkjbhmJ9S+QPKRk0bssb9AQEs3k9hHwEBASzeT2EfAQIfNJAO7tsBAzk8Sc50lwUBcVO1SYgPCQOtYyDIn4cJAMtu1oglQw0DA35CCzi3EQAdifvKwnMRAB2J+8rCcxEDc6EZCWOnFQGrtISIdx8ZAQHTqccQTyECH9tfhpoLIQIf21+GmgshAXH2gMU7PyUCj/42hMD7KQA==",
          "dtype": "f8"
         },
         "yaxis": "y3"
        },
        {
         "hovertemplate": "<b>%{hovertext}</b><br><br>sex_weight=male / Overweight<br>smoker=no<br>region=northeast<br>age=%{x}<br>charges=%{y}<extra></extra>",
         "hovertext": [
          "male / Overweight",
          "male / Overweight",
          "male / Overweight",
          "male / Overweight",
          "male / Overweight",
          "male / Overweight",
          "male / Overweight",
          "male / Overweight",
          "male / Overweight",
          "male / Overweight",
          "male / Overweight",
          "male / Overweight",
          "male / Overweight",
          "male / Overweight",
          "male / Overweight",
          "male / Overweight",
          "male / Overweight",
          "male / Overweight",
          "male / Overweight",
          "male / Overweight",
          "male / Overweight",
          "male / Overweight",
          "male / Overweight",
          "male / Overweight",
          "male / Overweight",
          "male / Overweight",
          "male / Overweight",
          "male / Overweight",
          "male / Overweight",
          "male / Overweight",
          "male / Overweight",
          "male / Overweight",
          "male / Overweight",
          "male / Overweight",
          "male / Overweight",
          "male / Overweight",
          "male / Overweight",
          "male / Overweight",
          "male / Overweight",
          "male / Overweight",
          "male / Overweight",
          "male / Overweight",
          "male / Overweight",
          "male / Overweight",
          "male / Overweight",
          "male / Overweight",
          "male / Overweight"
         ],
         "legendgroup": "male / Overweight",
         "marker": {
          "color": "#FF6692",
          "symbol": "circle"
         },
         "mode": "markers",
         "name": "male / Overweight",
         "showlegend": false,
         "type": "scattergl",
         "x": {
          "bdata": "JRkrHx8ePC8vHTEyHh0kGjw4FCsSJjscJBI1KhUfGxkaLBU2HDMWQDEVNyk6EhI=",
          "dtype": "i1"
         },
         "xaxis": "x4",
         "y": {
          "bdata": "eJyiI2kGuUAdyeU/pEKlQBNhw9Mbz8BAke18P3WPukAkl/+QNlmxQIY41sUteqxATUpBt/+M3UAu/yH9ilPEQFkXt9GgBMJA/Knx0h2Rr0A7AU2EPSHCQJ5eKcvUyMJAT6+UZSCNsEBMbD6uc83TQEjhehS+WrpAg8DKoaWipkCKjuTyf93IQJYhjnW1zsVAejarPhe8nkAJih9jXrW6QNxoAG8BsJpAxSCwciCzt0BGlPYG/zjJQEi/fR0YU7FAZRniWJdcukDFILBy6MCaQO5aQj4w9sVAZDvfT6UxvkC8lpAPOnCgQKOSOgFFp7NAjSjtDZ79p0CfzarPldupQDbNO05JNbJAyZOkaypb30Di6ZWyvJ+pQHbDtkVH69hAxLEubkNWsUBmiGNd3HLDQD2bVZ+rlaFAOGdEaUcdzEBn1edqAyTCQIEmwoaHbKBAtvP91CwWxUCvlGWIMwPCQOkmMQiQTcdAF9nO97OzmkAczvxqKgTGQA==",
          "dtype": "f8"
         },
         "yaxis": "y4"
        },
        {
         "hovertemplate": "<b>OLS trendline</b><br>charges = 322.25 * age + -3638.48<br>R<sup>2</sup>=0.417911<br><br>sex_weight=male / Overweight<br>smoker=no<br>region=northeast<br>age=%{x}<br>charges=%{y} <b>(trend)</b><extra></extra>",
         "legendgroup": "male / Overweight",
         "marker": {
          "color": "#FF6692",
          "symbol": "circle"
         },
         "mode": "lines",
         "name": "male / Overweight",
         "showlegend": false,
         "type": "scattergl",
         "x": {
          "bdata": "EhISEhQVFRUWGRkaGhscHB0dHh4fHx8kJCUmKSorKywvLzExMjM1Njc4Ojs8PEA=",
          "dtype": "i1"
         },
         "xaxis": "x4",
         "y": {
          "bdata": "pMRtAQjkoECkxG0BCOSgQKTEbQEI5KBApMRtAQjkoEBKTjPVB+2lQB4TFr+HcahAHhMWv4dxqEAeExa/h3GoQPDX+KgH9qpANZNQs8NBsUA1k1Czw0GxQJ/1QagDhLJAn/VBqAOEskAHWDOdQ8azQHG6JJKDCLVAcbokkoMItUDbHBaHw0q2QNscFofDSrZAQ38HfAONt0BDfwd8A423QK3h+HBDz7hAreH4cEPPuECt4fhwQ8+4QL3NrzmDGr9Avc2vOYMav0AUmFCXYS7AQEhJyZGBz8BA5lwzgeGywkAcDqx7AVTDQFC/JHYh9cNAUL8kdiH1w0CEcJ1wQZbEQCKEB2ChecZAIoQHYKF5xkCM5vhU4bvHQIzm+FThu8dAwpdxTwFdyED2SOpJIf7IQGCr2z5hQMpAlFxUOYHhykDKDc0zoYLLQP6+RS7BI8xAaCE3IwFmzUCc0q8dIQfOQNCDKBhBqM5A0IMoGEGozkBSpAWBYJbQQA==",
          "dtype": "f8"
         },
         "yaxis": "y4"
        },
        {
         "hovertemplate": "<b>%{hovertext}</b><br><br>sex_weight=male / Obese<br>smoker=yes<br>region=southwest<br>age=%{x}<br>charges=%{y}<extra></extra>",
         "hovertext": [
          "male / Obese",
          "male / Obese",
          "male / Obese",
          "male / Obese",
          "male / Obese",
          "male / Obese",
          "male / Obese",
          "male / Obese",
          "male / Obese",
          "male / Obese",
          "male / Obese",
          "male / Obese",
          "male / Obese",
          "male / Obese",
          "male / Obese",
          "male / Obese",
          "male / Obese",
          "male / Obese",
          "male / Obese",
          "male / Obese",
          "male / Obese",
          "male / Obese",
          "male / Obese"
         ],
         "legendgroup": "male / Obese",
         "marker": {
          "color": "#B6E880",
          "symbol": "circle"
         },
         "mode": "markers",
         "name": "male / Obese",
         "showlegend": true,
         "type": "scattergl",
         "x": {
          "bdata": "Hh8WHDwTMiIaKh0eJScdLBgxPCQ9FBM=",
          "dtype": "i1"
         },
         "xaxis": "x5",
         "y": {
          "bdata": "5/up8a784UAAAAAA4ObiQFCNl24yYOFAvJF55FH/6EA730+Nq4XnQOF6FK5z++BAQmDl0Brt5ECuR+F6dFThQLpJDAKnnuFAXrpJDAKg1UB9PzVetqzhQBsv3SQuKeNAWmQ738ee40CuR+F6/JTjQKeufJYuxeVA9P3UeNEK40D+1HjpGtXgQPhT46XzZeNAtOVcitqt6UBKDAIr78HiQI/C9Sh8JedAMQisHBK54kBzaJHtlAHhQA==",
          "dtype": "f8"
         },
         "yaxis": "y5"
        },
        {
         "hovertemplate": "<b>OLS trendline</b><br>charges = 241.582 * age + 30830.3<br>R<sup>2</sup>=0.240442<br><br>sex_weight=male / Obese<br>smoker=yes<br>region=southwest<br>age=%{x}<br>charges=%{y} <b>(trend)</b><extra></extra>",
         "legendgroup": "male / Obese",
         "marker": {
          "color": "#B6E880",
          "symbol": "circle"
         },
         "mode": "lines",
         "name": "male / Obese",
         "showlegend": false,
         "type": "scattergl",
         "x": {
          "bdata": "ExMUFhgaHB0dHh4fIiQlJyosMTI8PD0=",
          "dtype": "i1"
         },
         "xaxis": "x5",
         "y": {
          "bdata": "qnWwFYtL4UCqdbAVi0vhQPJHuLi9aeFAguzH/iKm4UARkddEiOLhQKE154rtHuJAMdr20FJb4kB5rP5zhXniQHms/nOFeeJAwX4GF7iX4kDBfgYXuJfiQAlRDrrqteJA4Mclo4IQ40BwbDXp50zjQLg+PYwaa+NASONM0n+n40AgWmS7FwLkQK/+cwF9PuRAFxqbMHrV5EBe7KLTrPPkQC4j8TGnIeZALiPxMach5kB19fjU2T/mQA==",
          "dtype": "f8"
         },
         "yaxis": "y5"
        },
        {
         "hovertemplate": "<b>%{hovertext}</b><br><br>sex_weight=male / Obese<br>smoker=yes<br>region=southeast<br>age=%{x}<br>charges=%{y}<extra></extra>",
         "hovertext": [
          "male / Obese",
          "male / Obese",
          "male / Obese",
          "male / Obese",
          "male / Obese",
          "male / Obese",
          "male / Obese",
          "male / Obese",
          "male / Obese",
          "male / Obese",
          "male / Obese",
          "male / Obese",
          "male / Obese",
          "male / Obese",
          "male / Obese",
          "male / Obese",
          "male / Obese",
          "male / Obese",
          "male / Obese",
          "male / Obese",
          "male / Obese",
          "male / Obese",
          "male / Obese",
          "male / Obese",
          "male / Obese",
          "male / Obese",
          "male / Obese",
          "male / Obese",
          "male / Obese",
          "male / Obese",
          "male / Obese",
          "male / Obese",
          "male / Obese",
          "male / Obese",
          "male / Obese",
          "male / Obese",
          "male / Obese",
          "male / Obese",
          "male / Obese"
         ],
         "legendgroup": "male / Obese",
         "marker": {
          "color": "#B6E880",
          "symbol": "circle"
         },
         "mode": "markers",
         "name": "male / Obese",
         "showlegend": false,
         "type": "scattergl",
         "x": {
          "bdata": "GyQkEhY/HjYuGSsYQD0TOSsbKRI4LzwzNi8WFjslHC8mGSETNEAt",
          "dtype": "i1"
         },
         "xaxis": "x6",
         "y": {
          "bdata": "BhIUP3hX40CDwMqhpebiQApoImzSbeJAfdCzWeW/4EBjf9k9pSXiQEaU9gbx+eZAHOviNsgK4kDpSC7/l5zlQIts5/vjiOZA3gIJigeQ5ED0bFZ9kJHkQM/3U+PHneJANxrAWyjl5kDcRgN448DmQBKDwMoVyd9AJJf/kHDE50CGONbFDcjkQIv9ZffO/uBAsp3vpzSq40ANcayLebrhQOJYF7e7ZOVAFYxK6lSV5UCgibDhMcTnQFTjpZvcLOdAPQrXo/CB5EAKaCJsZJzkQMNkqmCOTeJAKe0Nvqy65UDQ1VbsR+nnQFInoIn2d+NAP8bctQTu4ED3Bl+YglnkQJ/Nqs+ne+RANxrAW5Kj4UCLbOf7V7HiQInS3uBXZeNA2c73U7sU50AcfGEyNTXoQI9wWvAbkO5A",
          "dtype": "f8"
         },
         "yaxis": "y6"
        },
        {
         "hovertemplate": "<b>OLS trendline</b><br>charges = 276.72 * age + 31085.9<br>R<sup>2</sup>=0.521647<br><br>sex_weight=male / Obese<br>smoker=yes<br>region=southeast<br>age=%{x}<br>charges=%{y} <b>(trend)</b><extra></extra>",
         "legendgroup": "male / Obese",
         "marker": {
          "color": "#B6E880",
          "symbol": "circle"
         },
         "mode": "lines",
         "name": "male / Obese",
         "showlegend": false,
         "type": "scattergl",
         "x": {
          "bdata": "EhITExYWFhgZGRsbHB4hJCQlJikrKy0uLy8vMzQ2Njg5Ozw9P0BA",
          "dtype": "i1"
         },
         "xaxis": "x6",
         "y": {
          "bdata": "7hm8qFqc4UDuGbyoWpzhQE2mtLTxvuFATaa0tPG+4UBpS57YtibiQGlLnti2JuJAaUue2LYm4kAmZI/w5GviQIXwh/x7juJAhfCH/HuO4kBCCXkUqtPiQEIJeRSq0+JAoZVxIEH24kBermI4bzvjQHpTTFw0o+NAlvg1gPkK5ECW+DWA+QrkQPWELoyQLeRAVBEnmCdQ5EBwthC87LfkQC3PAdQa/eRALc8B1Br95EDq5/LrSELlQEl06/ffZOVApwDkA3eH5UCnAOQDd4flQKcA5AN3h+VAIjLGM9MR5kCAvr4/ajTmQD7Xr1eYeeZAPtevV5h55kD776Bvxr7mQFp8mXtd4eZAF5WKk4sm50B2IYOfIknnQNSte6u5a+dAksZsw+ew50DwUmXPftPnQPBSZc9+0+dA",
          "dtype": "f8"
         },
         "yaxis": "y6"
        },
        {
         "hovertemplate": "<b>%{hovertext}</b><br><br>sex_weight=male / Obese<br>smoker=yes<br>region=northwest<br>age=%{x}<br>charges=%{y}<extra></extra>",
         "hovertext": [
          "male / Obese",
          "male / Obese",
          "male / Obese",
          "male / Obese",
          "male / Obese",
          "male / Obese",
          "male / Obese",
          "male / Obese",
          "male / Obese",
          "male / Obese",
          "male / Obese",
          "male / Obese"
         ],
         "legendgroup": "male / Obese",
         "marker": {
          "color": "#B6E880",
          "symbol": "circle"
         },
         "mode": "markers",
         "name": "male / Obese",
         "showlegend": false,
         "type": "scattergl",
         "x": {
          "bdata": "Oi44ExMfLTA8FDQ+",
          "dtype": "i1"
         },
         "xaxis": "x7",
         "y": {
          "bdata": "cM6I0g8x50APnDOiEeLjQInS3uAlcuVAH/RsVsl64EBFR3L5bK/hQNqs+lxL6+JAArwFEhDh5EDiWBe3wFDmQCuHFtlQhuZAAAAAACtL4kDDu1zErE7tQGIQWDnFz+ZA",
          "dtype": "f8"
         },
         "yaxis": "y7"
        },
        {
         "hovertemplate": "<b>OLS trendline</b><br>charges = 309.819 * age + 29982.1<br>R<sup>2</sup>=0.545144<br><br>sex_weight=male / Obese<br>smoker=yes<br>region=northwest<br>age=%{x}<br>charges=%{y} <b>(trend)</b><extra></extra>",
         "legendgroup": "male / Obese",
         "marker": {
          "color": "#B6E880",
          "symbol": "circle"
         },
         "mode": "lines",
         "name": "male / Obese",
         "showlegend": false,
         "type": "scattergl",
         "x": {
          "bdata": "ExMUHy0uMDQ4Ojw+",
          "dtype": "i1"
         },
         "xaxis": "x7",
         "y": {
          "bdata": "JUJTBJaD4UAlQlMEloPhQIxytTxQquFA+IbtqFBU40CZLEy+f3LlQABdrvY5meVAzr1yZ67m5UBpf/tIl4HmQAVBhCqAHOdA06FIm/Rp50ChAg0MabfnQG5j0XzdBOhA",
          "dtype": "f8"
         },
         "yaxis": "y7"
        },
        {
         "hovertemplate": "<b>%{hovertext}</b><br><br>sex_weight=male / Obese<br>smoker=yes<br>region=northeast<br>age=%{x}<br>charges=%{y}<extra></extra>",
         "hovertext": [
          "male / Obese",
          "male / Obese",
          "male / Obese",
          "male / Obese",
          "male / Obese",
          "male / Obese",
          "male / Obese",
          "male / Obese",
          "male / Obese",
          "male / Obese",
          "male / Obese",
          "male / Obese",
          "male / Obese",
          "male / Obese",
          "male / Obese",
          "male / Obese",
          "male / Obese",
          "male / Obese",
          "male / Obese"
         ],
         "legendgroup": "male / Obese",
         "marker": {
          "color": "#B6E880",
          "symbol": "circle"
         },
         "mode": "markers",
         "name": "male / Obese",
         "showlegend": false,
         "type": "scattergl",
         "x": {
          "bdata": "IywkMjYyNygSPhc1KRIlKxQgGA==",
          "dtype": "i1"
         },
         "xaxis": "x8",
         "y": {
          "bdata": "/Bhz18hr40D8qfHSj1DjQOQUHckqXeVABFYOLSUR5EAoDwu1pbTnQHe+nxrjd+RAvsEXJvan5ECDwMqhqhrjQCzUmuY65+BADwu1psZR5kDAWyBBo6vhQKyt2F/NHuVAXkvIB61V40BFR3L5lXjgQOxRuB7pEONA63O1FUcJ5EC+wRcmeljgQEMc6+LwXOJAKA8LtcG54EA=",
          "dtype": "f8"
         },
         "yaxis": "y8"
        },
        {
         "hovertemplate": "<b>OLS trendline</b><br>charges = 272.536 * age + 29172.9<br>R<sup>2</sup>=0.798910<br><br>sex_weight=male / Obese<br>smoker=yes<br>region=northeast<br>age=%{x}<br>charges=%{y} <b>(trend)</b><extra></extra>",
         "legendgroup": "male / Obese",
         "marker": {
          "color": "#B6E880",
          "symbol": "circle"
         },
         "mode": "lines",
         "name": "male / Obese",
         "showlegend": false,
         "type": "scattergl",
         "x": {
          "bdata": "EhIUFxggIyQlKCkrLDIyNTY3Pg==",
          "dtype": "i1"
         },
         "xaxis": "x8",
         "y": {
          "bdata": "h8j4W9Gj4ECHyPhb0aPgQPTGVrHz5+BAlsRjMSdO4UDMwxJcOHDhQH69irHBgOJAILuXMfXm4kBWukZcBgnjQIy59YYXK+NAL7cCB0uR40BltrExXLPjQNG0D4d+9+NACLS+sY8Z5EBMr9ix9uXkQEyv2LH25eRA76zlMSpM5UAlrJRcO27lQFurQ4dMkOVA1qUMssR+5kA=",
          "dtype": "f8"
         },
         "yaxis": "y8"
        },
        {
         "hovertemplate": "<b>%{hovertext}</b><br><br>sex_weight=male / Obese<br>smoker=no<br>region=southwest<br>age=%{x}<br>charges=%{y}<extra></extra>",
         "hovertext": [
          "male / Obese",
          "male / Obese",
          "male / Obese",
          "male / Obese",
          "male / Obese",
          "male / Obese",
          "male / Obese",
          "male / Obese",
          "male / Obese",
          "male / Obese",
          "male / Obese",
          "male / Obese",
          "male / Obese",
          "male / Obese",
          "male / Obese",
          "male / Obese",
          "male / Obese",
          "male / Obese",
          "male / Obese",
          "male / Obese",
          "male / Obese",
          "male / Obese",
          "male / Obese",
          "male / Obese",
          "male / Obese",
          "male / Obese",
          "male / Obese",
          "male / Obese",
          "male / Obese",
          "male / Obese",
          "male / Obese",
          "male / Obese",
          "male / Obese",
          "male / Obese",
          "male / Obese",
          "male / Obese",
          "male / Obese",
          "male / Obese",
          "male / Obese",
          "male / Obese",
          "male / Obese",
          "male / Obese",
          "male / Obese",
          "male / Obese",
          "male / Obese",
          "male / Obese",
          "male / Obese",
          "male / Obese",
          "male / Obese",
          "male / Obese",
          "male / Obese",
          "male / Obese",
          "male / Obese",
          "male / Obese",
          "male / Obese",
          "male / Obese",
          "male / Obese",
          "male / Obese",
          "male / Obese",
          "male / Obese",
          "male / Obese",
          "male / Obese",
          "male / Obese",
          "male / Obese",
          "male / Obese",
          "male / Obese",
          "male / Obese",
          "male / Obese",
          "male / Obese",
          "male / Obese",
          "male / Obese",
          "male / Obese"
         ],
         "legendgroup": "male / Obese",
         "marker": {
          "color": "#B6E880",
          "symbol": "circle"
         },
         "mode": "markers",
         "name": "male / Obese",
         "showlegend": false,
         "type": "scattergl",
         "x": {
          "bdata": "Fzg3JSwmEzYxFCAoGy00QCMTMBMjOzgwPRM6Pxs0Kx46NTMhOC81PhMXLz0XLT8kFTkyKxYWPyYqMzYgFxoiGzIqIDscKSI0",
          "dtype": "i1"
         },
         "xaxis": "x",
         "y": {
          "bdata": "HVpkO1+LnEB7FK5HMbXEQIYgByWSJdRAqvHSTcImskDByqFFVjy+QOF6FK5nwrdAVOOlm8S1k0Cyne+nRmnEQEjhehSutL9A4XoUrkfwnkAbL90khoW0QKJFtvPdHLxAObTIdr6ksECwcmiRDRG9QB+F61FI3MFAWDm0yGb/ykC4HoXrEY+yQA4tsp1vt5NA16NwPSqEwUC5cCAkvYrWQGIQWDlUmrJAu7iNBkBJ1UD6fmq8tLTEQMuhRbaDrcJAwcqhRQaPyEAEVg4tMqGTQD0K16NgMcZAO99PjUcnykAGgZVDC3yjQHE9CtdD/sJATDeJQYARvUDVeOkmsZasQOXQItv5MsZANV66Seyyw0A1XrpJrFfCQO58PzU+CrpAdZMYBMYlyEDD9ShcL4S/QJHtfD9FAMZA/Knx0q1ZyUDRItv5/ryTQFyPwvXo4aJAJQaBlcN+v0C/8bVnUknbQNV46SYxG6xAukkMAusVvUDjpZvE4CjKQPhT46U7MrFAaJHtfD/Zl0A9CtejEJzGQBBYObTohMBAsp3vpwbBukDjpZvEIOaqQNnO91NjSppAtvP91AihzUCNl24SQ3C1QNNNYhAY+LtARIts50svwUDwp8ZLNz3DQDm0yHb+2K9AKVyPwvUOrEAZBFYOLbCmQNIYraMuC8xAYOXQItvarEBCYOXQMs/CQGDl0CK7W7dAcT0K16M+skB1kxgElh3IQFCNl25SmqlAdZMYBPbbukCq8dJNQrixQH0/NV6aKsRA",
          "dtype": "f8"
         },
         "yaxis": "y"
        },
        {
         "hovertemplate": "<b>OLS trendline</b><br>charges = 269.319 * age + -3108.76<br>R<sup>2</sup>=0.510216<br><br>sex_weight=male / Obese<br>smoker=no<br>region=southwest<br>age=%{x}<br>charges=%{y} <b>(trend)</b><extra></extra>",
         "legendgroup": "male / Obese",
         "marker": {
          "color": "#B6E880",
          "symbol": "circle"
         },
         "mode": "lines",
         "name": "male / Obese",
         "showlegend": false,
         "type": "scattergl",
         "x": {
          "bdata": "ExMTExMUFRYWFxcXFxobGxscHiAgICEiIiMjJCUmJigpKiorKywtLS8vMDAxMjIzMzQ0NDU1NjY3ODg4OTo6Ozs9PT4/Pz9A",
          "dtype": "i1"
         },
         "xaxis": "x",
         "y": {
          "bdata": "nF/C0jNhn0CcX8LSM2GfQJxfwtIzYZ9AnF/C0jNhn0CcX8LSM2GfQL4/ZCI9y6FArk9nW+Dlo0CeX2qUgwCmQJ5fapSDAKZAjm9tzSYbqECOb23NJhuoQI5vbc0mG6hAjm9tzSYbqEBen3Z4EGuuQKfXvNjZQrBAp9e82NlCsECn17zY2UKwQJ9fPnUrULFAj29Brs5qs0B/f0TncYW1QH9/ROdxhbVAf39E53GFtUB3B8aDw5K2QG+PRyAVoLdAb49HIBWgt0BnF8m8Zq24QGcXybxmrbhAX59KWbi6uUBXJ8z1Cci6QE+vTZJb1btAT69NklvVu0A/v1DL/u+9QDdH0mdQ/b5AmOcpAlEFwECY5ykCUQXAQJSratD5i8BAlKtq0PmLwECQb6ueohLBQIwz7GxLmcFAjDPsbEuZwUCEu20JnabCQIS7bQmdpsJAgH+u10Utw0CAf67XRS3DQHxD76Xus8NAeAcwdJc6xEB4BzB0lzrEQHTLcEJAwcRAdMtwQkDBxEBwj7EQ6UfFQHCPsRDpR8VAcI+xEOlHxUBsU/Lekc7FQGxT8t6RzsVAaBczrTpVxkBoFzOtOlXGQGTbc3vj28ZAYJ+0SYxix0Bgn7RJjGLHQGCftEmMYsdAXGP1FzXpx0BYJzbm3W/IQFgnNubdb8hAVOt2tIb2yEBU63a0hvbIQExz+FDYA8pATHP4UNgDykBINzkfgYrKQET7ee0pEctARPt57SkRy0BE+3ntKRHLQEC/urvSl8tA",
          "dtype": "f8"
         },
         "yaxis": "y"
        },
        {
         "hovertemplate": "<b>%{hovertext}</b><br><br>sex_weight=male / Obese<br>smoker=no<br>region=southeast<br>age=%{x}<br>charges=%{y}<extra></extra>",
         "hovertext": [
          "male / Obese",
          "male / Obese",
          "male / Obese",
          "male / Obese",
          "male / Obese",
          "male / Obese",
          "male / Obese",
          "male / Obese",
          "male / Obese",
          "male / Obese",
          "male / Obese",
          "male / Obese",
          "male / Obese",
          "male / Obese",
          "male / Obese",
          "male / Obese",
          "male / Obese",
          "male / Obese",
          "male / Obese",
          "male / Obese",
          "male / Obese",
          "male / Obese",
          "male / Obese",
          "male / Obese",
          "male / Obese",
          "male / Obese",
          "male / Obese",
          "male / Obese",
          "male / Obese",
          "male / Obese",
          "male / Obese",
          "male / Obese",
          "male / Obese",
          "male / Obese",
          "male / Obese",
          "male / Obese",
          "male / Obese",
          "male / Obese",
          "male / Obese",
          "male / Obese",
          "male / Obese",
          "male / Obese",
          "male / Obese",
          "male / Obese",
          "male / Obese",
          "male / Obese",
          "male / Obese",
          "male / Obese",
          "male / Obese",
          "male / Obese",
          "male / Obese",
          "male / Obese",
          "male / Obese",
          "male / Obese",
          "male / Obese",
          "male / Obese",
          "male / Obese",
          "male / Obese",
          "male / Obese",
          "male / Obese",
          "male / Obese",
          "male / Obese",
          "male / Obese",
          "male / Obese",
          "male / Obese",
          "male / Obese",
          "male / Obese",
          "male / Obese",
          "male / Obese",
          "male / Obese",
          "male / Obese",
          "male / Obese",
          "male / Obese",
          "male / Obese",
          "male / Obese",
          "male / Obese",
          "male / Obese",
          "male / Obese",
          "male / Obese",
          "male / Obese",
          "male / Obese",
          "male / Obese",
          "male / Obese",
          "male / Obese",
          "male / Obese",
          "male / Obese",
          "male / Obese",
          "male / Obese",
          "male / Obese",
          "male / Obese",
          "male / Obese",
          "male / Obese",
          "male / Obese",
          "male / Obese",
          "male / Obese",
          "male / Obese",
          "male / Obese",
          "male / Obese",
          "male / Obese",
          "male / Obese",
          "male / Obese"
         ],
         "legendgroup": "male / Obese",
         "marker": {
          "color": "#B6E880",
          "symbol": "circle"
         },
         "mode": "markers",
         "name": "male / Obese",
         "showlegend": false,
         "type": "scattergl",
         "x": {
          "bdata": "EhwSGToVNzo/LD0SNxwfLBg7MSEuFxQ+NxUvIDRAPBIgGxUXMRsUJUA1IjInFCkhOCslEh4oNRIzIxIzHhIkKhcSITEpGiA+HxowGDA/NBYdOjcuITInIh45KScdKjgSEiwSPjM=",
          "dtype": "i1"
         },
         "xaxis": "x2",
         "y": {
          "bdata": "U5YhjjX2mkDByqFFdmGxQAaBlUMLxJFA3+ALk6mYsUBIv30dUFXHQLprCfng8ZdAw2SqYCT5w0APC7WmqTrGQNCzWfWxLspAH/RsVm0zvkAibHh6zYbIQLprCfngxZFAmN2Th5Vpx0DgnBGl/QKlQGkAb4E0b7FAidLe4Kvwu0BYqDXNuwufQO/Jw0JlQMlAsAPnjGi8v0BaZDvf/xmzQOPHmLsOeMFA+MJkqiC1nECVZYhjHb6VQFn60AU/XtpAlxx3Sl9L1EA5C3vanzLQQNxGA3jrk79AZMxdS+jUr0A/NV66edrBQOauJeQjKcxA8IXJVOkvy0DyQc9mlfWRQPXb14FjTrJA4L4OnBOCo0CHFtnON/mXQB3J5T8kgZxAiPTb11kswkDtnjws1ISjQK5H4XoSE9tAFk1nJ63D0kBApN++jgPLQIleRrGCtNpAGlHaG1y+rkAibHh6XbHBQAdfmExF1LhAdCSX//AMpEB2Tx4WKk22QHIz3IBbH8ZA5q4l5JNKyUAjZ2FPiV3SQISezaqfI7lAF0hQ/JjBkUB24JwRleWyQG+BBMW/PrVA+Q/ptyeQwkBcj8L1KP6aQLmNBvA+oMRABaOSOmEut0D5D+m3L+uRQGx4eqUUVcJArWnecSqqsECdgCbCBq6RQGPuWkJO0LVA3nGKjlT4u0B6pSxDHAyjQMxdS8jH1ZFAoImw4cn9uUC28/3UyL2/QMBbIEHBkbhAGsBbICHepkB+HThnZEGyQOhqK/ZvW8lA/Yf023dHrkBO0ZFcPiWiQAIrhxYpfL5AK/aX3VP2nkA/V1uxF4nBQH4dOGfEnM1A3nGKjnQKw0ALtaZ5hyqaQOJYF7fRHqtAHcnlP6QxxkAGEhQ/vhvFQF5LyAeVTcBA3SQGgbXwrECX/5B+A6zBQJSHhVoTwrhAwaikTjAEtEBivrwAy4TSQL4wmSpAc8VAZmZmZtZDtkC21hcJwQLXQCKOdXE7tK9AAwmKHwP6u0Bb07zjHLHEQGRd3EbDv5FAYTJVMGrhmkCMuWsJeeu7QHBfB87ZLZJAHcnlP6xayUBYqDXN81DCQA==",
          "dtype": "f8"
         },
         "yaxis": "y2"
        },
        {
         "hovertemplate": "<b>OLS trendline</b><br>charges = 264.979 * age + -2382.93<br>R<sup>2</sup>=0.404182<br><br>sex_weight=male / Obese<br>smoker=no<br>region=southeast<br>age=%{x}<br>charges=%{y} <b>(trend)</b><extra></extra>",
         "legendgroup": "male / Obese",
         "marker": {
          "color": "#B6E880",
          "symbol": "circle"
         },
         "mode": "lines",
         "name": "male / Obese",
         "showlegend": false,
         "type": "scattergl",
         "x": {
          "bdata": "EhISEhISEhISEhISFBQUFRUVFhcXFxgYGRoaGxscHB0dHh4eHx8gICAhISEhIiIjJCUlJycnKCkpKSoqKywsLC4uLzAwMTExMjIzMzM0NDU1Nzc3Nzg4OTo6Ojs8PT4+Pj8/QEA=",
          "dtype": "i1"
         },
         "xaxis": "x2",
         "y": {
          "bdata": "xdpu02WlokDF2m7TZaWiQMXabtNlpaJAxdpu02WlokDF2m7TZaWiQMXabtNlpaJAxdpu02WlokDF2m7TZaWiQMXabtNlpaJAxdpu02WlokDF2m7TZaWiQMXabtNlpaJA3UNXtlDJpkDdQ1e2UMmmQN1DV7ZQyaZAZ3jLJ0bbqEBneMsnRtuoQGd4yydG26hA86w/mTvtqkB/4bMKMf+sQH/hswox/6xAf+GzCjH/rEALFih8JhGvQAsWKHwmEa9ATCXO9o2RsECSP4iviJqxQJI/iK+ImrFA2FlCaIOjskDYWUJog6OyQBx0/CB+rLNAHHT8IH6ss0BijrbZeLW0QGKOttl4tbRAqKhwknO+tUCoqHCSc761QKiocJJzvrVA7sIqS27HtkDuwipLbse2QDTd5ANp0LdANN3kA2nQt0A03eQDadC3QHr3nrxj2bhAeveevGPZuEB69568Y9m4QHr3nrxj2bhAwBFZdV7iuUDAEVl1XuK5QAYsEy5Z67pATEbN5lP0u0CSYIefTv28QJJgh59O/bxAHpX7EEQPv0AelfsQRA+/QB6V+xBED79AstfaZB8MwEDU5DfBnJDAQNTkN8GckMBA1OQ3wZyQwED38ZQdGhXBQPfxlB0aFcFAGv/xeZeZwUA9DE/WFB7CQD0MT9YUHsJAPQxP1hQewkCDJgmPDyfDQIMmCY8PJ8NApjNm64yrw0DJQMNHCjDEQMlAw0cKMMRA7E0gpIe0xEDsTSCkh7TEQOxNIKSHtMRAD1t9AAU5xUAPW30ABTnFQDJo2lyCvcVAMmjaXIK9xUAyaNpcgr3FQFV1N7n/QcZAVXU3uf9BxkB4gpQVfcbGQHiClBV9xsZAvpxOznfPx0C+nE7Od8/HQL6cTs53z8dAvpxOznfPx0Dgqasq9VPIQOCpqyr1U8hAA7cIh3LYyEAmxGXj71zJQCbEZePvXMlAJsRl4+9cyUBJ0cI/beHJQGzeH5zqZcpAj+t8+GfqykCy+NlU5W7LQLL42VTlbstAsvjZVOVuy0DWBTexYvPLQNYFN7Fi88tA+BKUDeB3zED4EpQN4HfMQA==",
          "dtype": "f8"
         },
         "yaxis": "y2"
        },
        {
         "hovertemplate": "<b>%{hovertext}</b><br><br>sex_weight=male / Obese<br>smoker=no<br>region=northwest<br>age=%{x}<br>charges=%{y}<extra></extra>",
         "hovertext": [
          "male / Obese",
          "male / Obese",
          "male / Obese",
          "male / Obese",
          "male / Obese",
          "male / Obese",
          "male / Obese",
          "male / Obese",
          "male / Obese",
          "male / Obese",
          "male / Obese",
          "male / Obese",
          "male / Obese",
          "male / Obese",
          "male / Obese",
          "male / Obese",
          "male / Obese",
          "male / Obese",
          "male / Obese",
          "male / Obese",
          "male / Obese",
          "male / Obese",
          "male / Obese",
          "male / Obese",
          "male / Obese",
          "male / Obese",
          "male / Obese",
          "male / Obese",
          "male / Obese",
          "male / Obese",
          "male / Obese",
          "male / Obese",
          "male / Obese",
          "male / Obese",
          "male / Obese",
          "male / Obese",
          "male / Obese",
          "male / Obese",
          "male / Obese",
          "male / Obese",
          "male / Obese",
          "male / Obese",
          "male / Obese",
          "male / Obese",
          "male / Obese",
          "male / Obese",
          "male / Obese",
          "male / Obese",
          "male / Obese",
          "male / Obese",
          "male / Obese",
          "male / Obese",
          "male / Obese",
          "male / Obese",
          "male / Obese",
          "male / Obese",
          "male / Obese",
          "male / Obese",
          "male / Obese"
         ],
         "legendgroup": "male / Obese",
         "marker": {
          "color": "#B6E880",
          "symbol": "circle"
         },
         "mode": "markers",
         "name": "male / Obese",
         "showlegend": false,
         "type": "scattergl",
         "x": {
          "bdata": "OSMaNiwTKDYpHTI+LDEZPzUlFi02EykzGxQ4HEApKBU6JDc9OSIqMDQrHTA9IBU5HDQdLhYkGjcaHzI=",
          "dtype": "i1"
         },
         "xaxis": "x3",
         "y": {
          "bdata": "9wZfmFQuxkCrPldbAWG2QJ7vp8abSq5Af9k9eaAkxUAJ+aBnsyS7QINRSZ1AnplAw/UoXLfiv0A0aOifHufXQHE9CtezYbxAyXa+n5b80kCKsOHpoUHBQBIUP8YMFMpAiIVa00S0v0AUrkfhug7EQJqZmZnJzKNAj8L1KJhhzkDarPpc/W7EQEa28/3cjLpA9P3UeImmpEA17zhFu27AQKMjufy/+8NAXdxGA7i5mUC94xQduVi8QNqs+lwR68FAEhQ/xmy1r0BMpgpGdXSiQH9qvHQfcMVAYhBYOQTtp0AldQKaRMHLQFYOLbK9XbxAUI2XbrJKu0AwTKYKRvWdQJm7lpD378ZAHHxhMnUBtUBzaJHt0LTEQMP1KFzPk8tAF0hQ/JBUx0CQMXctaeCwQPtcbcXG1rhArVEP0TrN20BnYU87xtjZQOlILv8FbcBAqaROQGNRsUBaZDvfnx7BQL3jFB0JS8lAQYLix7husUAaUdobHNadQEku/yGdLMZAkq6ZfFU200CLbOf7jQzGQGgibHjqUbFATmIQWJ0OwUDx9EpZpg6gQJHtfD9d/bRAXW3F/iIXpUDsL7sn5VvdQJLLf0gPualAXf5D+gUxtUAzxLEuRrTEQA==",
          "dtype": "f8"
         },
         "yaxis": "y3"
        },
        {
         "hovertemplate": "<b>OLS trendline</b><br>charges = 305.555 * age + -3495.16<br>R<sup>2</sup>=0.394304<br><br>sex_weight=male / Obese<br>smoker=no<br>region=northwest<br>age=%{x}<br>charges=%{y} <b>(trend)</b><extra></extra>",
         "legendgroup": "male / Obese",
         "marker": {
          "color": "#B6E880",
          "symbol": "circle"
         },
         "mode": "lines",
         "name": "male / Obese",
         "showlegend": false,
         "type": "scattergl",
         "x": {
          "bdata": "ExMUFRUWFhkaGhobHBwdHR0fICIjJCQlKCgpKSkqKywsLS4wMDEyMjM0NDU2NjY3Nzg5OTk6PT0+P0A=",
          "dtype": "i1"
         },
         "xaxis": "x3",
         "y": {
          "bdata": "ry53QccMokCvLndBxwyiQOOkV3vjb6RAFxs4tf/SpkAXGzi1/9KmQE2RGO8bNqlATZEY7xs2qUD0+VxOuC+wQA41TWtGYbFADjVNa0ZhsUAONU1rRmGxQChwPYjUkrJARKstpWLEs0BEqy2lYsSzQF7mHcLw9bRAXuYdwvD1tEBe5h3C8PW0QJJc/vsMWbdArJfuGJuKuEDgDc9St+26QPpIv29FH7xAFISvjNNQvUAUhK+M01C9QDC/n6lhgr5APzg4AIYLwUA/ODgAhgvBQMxVsA5NpMFAzFWwDk2kwUDMVbAOTaTBQFlzKB0UPcJA5pCgK9vVwkB0rhg6om7DQHSuGDqibsNAAcyQSGkHxECO6QhXMKDEQKgk+XO+0cVAqCT5c77RxUA1QnGChWrGQMJf6ZBMA8dAwl/pkEwDx0BPfWGfE5zHQNya2a3aNMhA3JrZrdo0yEBquFG8oc3IQPbVycpoZslA9tXJymhmyUD21cnKaGbJQITzQdkv/8lAhPNB2S//yUASEbrn9pfKQJ4uMva9MMtAni4y9r0wy0CeLjL2vTDLQCxMqgSFyctA0qQSMNqTzUDSpBIw2pPNQGDCij6hLM5A7N8CTWjFzkB6/XpbL17PQA==",
          "dtype": "f8"
         },
         "yaxis": "y3"
        },
        {
         "hovertemplate": "<b>%{hovertext}</b><br><br>sex_weight=male / Obese<br>smoker=no<br>region=northeast<br>age=%{x}<br>charges=%{y}<extra></extra>",
         "hovertext": [
          "male / Obese",
          "male / Obese",
          "male / Obese",
          "male / Obese",
          "male / Obese",
          "male / Obese",
          "male / Obese",
          "male / Obese",
          "male / Obese",
          "male / Obese",
          "male / Obese",
          "male / Obese",
          "male / Obese",
          "male / Obese",
          "male / Obese",
          "male / Obese",
          "male / Obese",
          "male / Obese",
          "male / Obese",
          "male / Obese",
          "male / Obese",
          "male / Obese",
          "male / Obese",
          "male / Obese",
          "male / Obese",
          "male / Obese",
          "male / Obese",
          "male / Obese",
          "male / Obese",
          "male / Obese",
          "male / Obese",
          "male / Obese",
          "male / Obese",
          "male / Obese",
          "male / Obese",
          "male / Obese",
          "male / Obese",
          "male / Obese",
          "male / Obese",
          "male / Obese",
          "male / Obese",
          "male / Obese",
          "male / Obese",
          "male / Obese",
          "male / Obese",
          "male / Obese",
          "male / Obese"
         ],
         "legendgroup": "male / Obese",
         "marker": {
          "color": "#B6E880",
          "symbol": "circle"
         },
         "mode": "markers",
         "name": "male / Obese",
         "showlegend": false,
         "type": "scattergl",
         "x": {
          "bdata": "JjQaKDo0NiA5KD8uIRIwMDEZFjgfLhwuQD0wFBgeLTw1PhsyFCI3Jz85MxI6Iz0=",
          "dtype": "i1"
         },
         "xaxis": "x4",
         "y": {
          "bdata": "RIts56u/t0A8TtGRKHDGQHicoiMZRatAX5hMFRzSuUAwKqkTTFTHQCPb+X5i/cJACKwcWohhxEBqTfOOmzuyQGgibHgml8ZAnKIjuTTIuUAU0ETY7E7LQCSX/5A6R8BA9UpZhnA6yEDb+X5qvDOrQH9qvHRv+MRA4zYawAeCwUDl0CLbESXCQE0VjErKTqVAcvkP6ZedoUBIv30dgPnGQPp+aryEI65AH4XrUXRLwEBR2ht8sYmpQNxGA3hLR8BATYQNT3clzED5oGez7qvJQNxoAG+RzsNAGw3gLdABn0BfDOVEG7rQQE0VjEq6NLVAOGdEaWcYvUDcaABvleLIQNPe4AsHrMNA4C2QoIB5ykBqTfOO6+6yQLMkQE1VvdhAqmBUUg8zs0BSuB6F06axQCBB8WMIQcZAiPTb12l9tkDZX3ZPOkvLQLMkQE1BOdRA4XoUrgd2w0BPQBNhBy3JQLU3+MIgUcdAkZvhBi4K00AZ4lgXq6vJQA==",
          "dtype": "f8"
         },
         "yaxis": "y4"
        },
        {
         "hovertemplate": "<b>OLS trendline</b><br>charges = 204.7 * age + 788.962<br>R<sup>2</sup>=0.334904<br><br>sex_weight=male / Obese<br>smoker=no<br>region=northeast<br>age=%{x}<br>charges=%{y} <b>(trend)</b><extra></extra>",
         "legendgroup": "male / Obese",
         "marker": {
          "color": "#B6E880",
          "symbol": "circle"
         },
         "mode": "lines",
         "name": "male / Obese",
         "showlegend": false,
         "type": "scattergl",
         "x": {
          "bdata": "EhIUFBYYGRobHB4fICEiIyYnKCgtLi4uMDAwMTIzNDQ1Njc4OTk6Ojw9PT4/P0A=",
          "dtype": "i1"
         },
         "xaxis": "x4",
         "y": {
          "bdata": "TIsUFpJ5sUBMixQWknmxQKSe1bz4ErNApJ7VvPgSs0D6sZZjX6y0QFDFVwrGRbZA/E64XXkSt0Co2BixLN+3QFRieQTgq7hA/uvZV5N4uUBW/5r++RG7QAKJ+1Gt3rtArBJcpWCrvEBYnLz4E3i9QAQmHUzHRL5Arq99n3oRv0BZps9MyrvAQC7rf/YjIsFABDAwoH2IwUAEMDCgfYjBQDCIofA9iMNABs1Rmpfuw0AGzVGal+7DQAbNUZqX7sNAsVay7Uq7xECxVrLtSrvEQLFWsu1Ku8RAh5til6QhxUBd4BJB/ofFQDMlw+pX7sVACGpzlLFUxkAIanOUsVTGQN6uIz4Lu8ZAtPPT52Qhx0CKOISRvofHQF99NDsY7sdANcLk5HFUyEA1wuTkcVTIQAsHlY7LushACweVjsu6yEC2kPXhfofJQIzVpYvY7clAjNWli9jtyUBiGlY1MlTKQDdfBt+LuspAN18G34u6ykANpLaI5SDLQA==",
          "dtype": "f8"
         },
         "yaxis": "y4"
        }
       ],
       "layout": {
        "annotations": [
         {
          "font": {},
          "showarrow": false,
          "text": "region=southwest",
          "x": 0.11499999999999999,
          "xanchor": "center",
          "xref": "paper",
          "y": 1,
          "yanchor": "bottom",
          "yref": "paper"
         },
         {
          "font": {},
          "showarrow": false,
          "text": "region=southeast",
          "x": 0.365,
          "xanchor": "center",
          "xref": "paper",
          "y": 1,
          "yanchor": "bottom",
          "yref": "paper"
         },
         {
          "font": {},
          "showarrow": false,
          "text": "region=northwest",
          "x": 0.615,
          "xanchor": "center",
          "xref": "paper",
          "y": 1,
          "yanchor": "bottom",
          "yref": "paper"
         },
         {
          "font": {},
          "showarrow": false,
          "text": "region=northeast",
          "x": 0.865,
          "xanchor": "center",
          "xref": "paper",
          "y": 1,
          "yanchor": "bottom",
          "yref": "paper"
         },
         {
          "font": {},
          "showarrow": false,
          "text": "smoker=no",
          "textangle": 90,
          "x": 0.98,
          "xanchor": "left",
          "xref": "paper",
          "y": 0.2425,
          "yanchor": "middle",
          "yref": "paper"
         },
         {
          "font": {},
          "showarrow": false,
          "text": "smoker=yes",
          "textangle": 90,
          "x": 0.98,
          "xanchor": "left",
          "xref": "paper",
          "y": 0.7575000000000001,
          "yanchor": "middle",
          "yref": "paper"
         }
        ],
        "height": 800,
        "legend": {
         "title": {
          "text": "sex_weight"
         },
         "tracegroupgap": 0
        },
        "template": {
         "data": {
          "bar": [
           {
            "error_x": {
             "color": "#2a3f5f"
            },
            "error_y": {
             "color": "#2a3f5f"
            },
            "marker": {
             "line": {
              "color": "#E5ECF6",
              "width": 0.5
             },
             "pattern": {
              "fillmode": "overlay",
              "size": 10,
              "solidity": 0.2
             }
            },
            "type": "bar"
           }
          ],
          "barpolar": [
           {
            "marker": {
             "line": {
              "color": "#E5ECF6",
              "width": 0.5
             },
             "pattern": {
              "fillmode": "overlay",
              "size": 10,
              "solidity": 0.2
             }
            },
            "type": "barpolar"
           }
          ],
          "carpet": [
           {
            "aaxis": {
             "endlinecolor": "#2a3f5f",
             "gridcolor": "white",
             "linecolor": "white",
             "minorgridcolor": "white",
             "startlinecolor": "#2a3f5f"
            },
            "baxis": {
             "endlinecolor": "#2a3f5f",
             "gridcolor": "white",
             "linecolor": "white",
             "minorgridcolor": "white",
             "startlinecolor": "#2a3f5f"
            },
            "type": "carpet"
           }
          ],
          "choropleth": [
           {
            "colorbar": {
             "outlinewidth": 0,
             "ticks": ""
            },
            "type": "choropleth"
           }
          ],
          "contour": [
           {
            "colorbar": {
             "outlinewidth": 0,
             "ticks": ""
            },
            "colorscale": [
             [
              0,
              "#0d0887"
             ],
             [
              0.1111111111111111,
              "#46039f"
             ],
             [
              0.2222222222222222,
              "#7201a8"
             ],
             [
              0.3333333333333333,
              "#9c179e"
             ],
             [
              0.4444444444444444,
              "#bd3786"
             ],
             [
              0.5555555555555556,
              "#d8576b"
             ],
             [
              0.6666666666666666,
              "#ed7953"
             ],
             [
              0.7777777777777778,
              "#fb9f3a"
             ],
             [
              0.8888888888888888,
              "#fdca26"
             ],
             [
              1,
              "#f0f921"
             ]
            ],
            "type": "contour"
           }
          ],
          "contourcarpet": [
           {
            "colorbar": {
             "outlinewidth": 0,
             "ticks": ""
            },
            "type": "contourcarpet"
           }
          ],
          "heatmap": [
           {
            "colorbar": {
             "outlinewidth": 0,
             "ticks": ""
            },
            "colorscale": [
             [
              0,
              "#0d0887"
             ],
             [
              0.1111111111111111,
              "#46039f"
             ],
             [
              0.2222222222222222,
              "#7201a8"
             ],
             [
              0.3333333333333333,
              "#9c179e"
             ],
             [
              0.4444444444444444,
              "#bd3786"
             ],
             [
              0.5555555555555556,
              "#d8576b"
             ],
             [
              0.6666666666666666,
              "#ed7953"
             ],
             [
              0.7777777777777778,
              "#fb9f3a"
             ],
             [
              0.8888888888888888,
              "#fdca26"
             ],
             [
              1,
              "#f0f921"
             ]
            ],
            "type": "heatmap"
           }
          ],
          "histogram": [
           {
            "marker": {
             "pattern": {
              "fillmode": "overlay",
              "size": 10,
              "solidity": 0.2
             }
            },
            "type": "histogram"
           }
          ],
          "histogram2d": [
           {
            "colorbar": {
             "outlinewidth": 0,
             "ticks": ""
            },
            "colorscale": [
             [
              0,
              "#0d0887"
             ],
             [
              0.1111111111111111,
              "#46039f"
             ],
             [
              0.2222222222222222,
              "#7201a8"
             ],
             [
              0.3333333333333333,
              "#9c179e"
             ],
             [
              0.4444444444444444,
              "#bd3786"
             ],
             [
              0.5555555555555556,
              "#d8576b"
             ],
             [
              0.6666666666666666,
              "#ed7953"
             ],
             [
              0.7777777777777778,
              "#fb9f3a"
             ],
             [
              0.8888888888888888,
              "#fdca26"
             ],
             [
              1,
              "#f0f921"
             ]
            ],
            "type": "histogram2d"
           }
          ],
          "histogram2dcontour": [
           {
            "colorbar": {
             "outlinewidth": 0,
             "ticks": ""
            },
            "colorscale": [
             [
              0,
              "#0d0887"
             ],
             [
              0.1111111111111111,
              "#46039f"
             ],
             [
              0.2222222222222222,
              "#7201a8"
             ],
             [
              0.3333333333333333,
              "#9c179e"
             ],
             [
              0.4444444444444444,
              "#bd3786"
             ],
             [
              0.5555555555555556,
              "#d8576b"
             ],
             [
              0.6666666666666666,
              "#ed7953"
             ],
             [
              0.7777777777777778,
              "#fb9f3a"
             ],
             [
              0.8888888888888888,
              "#fdca26"
             ],
             [
              1,
              "#f0f921"
             ]
            ],
            "type": "histogram2dcontour"
           }
          ],
          "mesh3d": [
           {
            "colorbar": {
             "outlinewidth": 0,
             "ticks": ""
            },
            "type": "mesh3d"
           }
          ],
          "parcoords": [
           {
            "line": {
             "colorbar": {
              "outlinewidth": 0,
              "ticks": ""
             }
            },
            "type": "parcoords"
           }
          ],
          "pie": [
           {
            "automargin": true,
            "type": "pie"
           }
          ],
          "scatter": [
           {
            "fillpattern": {
             "fillmode": "overlay",
             "size": 10,
             "solidity": 0.2
            },
            "type": "scatter"
           }
          ],
          "scatter3d": [
           {
            "line": {
             "colorbar": {
              "outlinewidth": 0,
              "ticks": ""
             }
            },
            "marker": {
             "colorbar": {
              "outlinewidth": 0,
              "ticks": ""
             }
            },
            "type": "scatter3d"
           }
          ],
          "scattercarpet": [
           {
            "marker": {
             "colorbar": {
              "outlinewidth": 0,
              "ticks": ""
             }
            },
            "type": "scattercarpet"
           }
          ],
          "scattergeo": [
           {
            "marker": {
             "colorbar": {
              "outlinewidth": 0,
              "ticks": ""
             }
            },
            "type": "scattergeo"
           }
          ],
          "scattergl": [
           {
            "marker": {
             "colorbar": {
              "outlinewidth": 0,
              "ticks": ""
             }
            },
            "type": "scattergl"
           }
          ],
          "scattermap": [
           {
            "marker": {
             "colorbar": {
              "outlinewidth": 0,
              "ticks": ""
             }
            },
            "type": "scattermap"
           }
          ],
          "scattermapbox": [
           {
            "marker": {
             "colorbar": {
              "outlinewidth": 0,
              "ticks": ""
             }
            },
            "type": "scattermapbox"
           }
          ],
          "scatterpolar": [
           {
            "marker": {
             "colorbar": {
              "outlinewidth": 0,
              "ticks": ""
             }
            },
            "type": "scatterpolar"
           }
          ],
          "scatterpolargl": [
           {
            "marker": {
             "colorbar": {
              "outlinewidth": 0,
              "ticks": ""
             }
            },
            "type": "scatterpolargl"
           }
          ],
          "scatterternary": [
           {
            "marker": {
             "colorbar": {
              "outlinewidth": 0,
              "ticks": ""
             }
            },
            "type": "scatterternary"
           }
          ],
          "surface": [
           {
            "colorbar": {
             "outlinewidth": 0,
             "ticks": ""
            },
            "colorscale": [
             [
              0,
              "#0d0887"
             ],
             [
              0.1111111111111111,
              "#46039f"
             ],
             [
              0.2222222222222222,
              "#7201a8"
             ],
             [
              0.3333333333333333,
              "#9c179e"
             ],
             [
              0.4444444444444444,
              "#bd3786"
             ],
             [
              0.5555555555555556,
              "#d8576b"
             ],
             [
              0.6666666666666666,
              "#ed7953"
             ],
             [
              0.7777777777777778,
              "#fb9f3a"
             ],
             [
              0.8888888888888888,
              "#fdca26"
             ],
             [
              1,
              "#f0f921"
             ]
            ],
            "type": "surface"
           }
          ],
          "table": [
           {
            "cells": {
             "fill": {
              "color": "#EBF0F8"
             },
             "line": {
              "color": "white"
             }
            },
            "header": {
             "fill": {
              "color": "#C8D4E3"
             },
             "line": {
              "color": "white"
             }
            },
            "type": "table"
           }
          ]
         },
         "layout": {
          "annotationdefaults": {
           "arrowcolor": "#2a3f5f",
           "arrowhead": 0,
           "arrowwidth": 1
          },
          "autotypenumbers": "strict",
          "coloraxis": {
           "colorbar": {
            "outlinewidth": 0,
            "ticks": ""
           }
          },
          "colorscale": {
           "diverging": [
            [
             0,
             "#8e0152"
            ],
            [
             0.1,
             "#c51b7d"
            ],
            [
             0.2,
             "#de77ae"
            ],
            [
             0.3,
             "#f1b6da"
            ],
            [
             0.4,
             "#fde0ef"
            ],
            [
             0.5,
             "#f7f7f7"
            ],
            [
             0.6,
             "#e6f5d0"
            ],
            [
             0.7,
             "#b8e186"
            ],
            [
             0.8,
             "#7fbc41"
            ],
            [
             0.9,
             "#4d9221"
            ],
            [
             1,
             "#276419"
            ]
           ],
           "sequential": [
            [
             0,
             "#0d0887"
            ],
            [
             0.1111111111111111,
             "#46039f"
            ],
            [
             0.2222222222222222,
             "#7201a8"
            ],
            [
             0.3333333333333333,
             "#9c179e"
            ],
            [
             0.4444444444444444,
             "#bd3786"
            ],
            [
             0.5555555555555556,
             "#d8576b"
            ],
            [
             0.6666666666666666,
             "#ed7953"
            ],
            [
             0.7777777777777778,
             "#fb9f3a"
            ],
            [
             0.8888888888888888,
             "#fdca26"
            ],
            [
             1,
             "#f0f921"
            ]
           ],
           "sequentialminus": [
            [
             0,
             "#0d0887"
            ],
            [
             0.1111111111111111,
             "#46039f"
            ],
            [
             0.2222222222222222,
             "#7201a8"
            ],
            [
             0.3333333333333333,
             "#9c179e"
            ],
            [
             0.4444444444444444,
             "#bd3786"
            ],
            [
             0.5555555555555556,
             "#d8576b"
            ],
            [
             0.6666666666666666,
             "#ed7953"
            ],
            [
             0.7777777777777778,
             "#fb9f3a"
            ],
            [
             0.8888888888888888,
             "#fdca26"
            ],
            [
             1,
             "#f0f921"
            ]
           ]
          },
          "colorway": [
           "#636efa",
           "#EF553B",
           "#00cc96",
           "#ab63fa",
           "#FFA15A",
           "#19d3f3",
           "#FF6692",
           "#B6E880",
           "#FF97FF",
           "#FECB52"
          ],
          "font": {
           "color": "#2a3f5f"
          },
          "geo": {
           "bgcolor": "white",
           "lakecolor": "white",
           "landcolor": "#E5ECF6",
           "showlakes": true,
           "showland": true,
           "subunitcolor": "white"
          },
          "hoverlabel": {
           "align": "left"
          },
          "hovermode": "closest",
          "mapbox": {
           "style": "light"
          },
          "paper_bgcolor": "white",
          "plot_bgcolor": "#E5ECF6",
          "polar": {
           "angularaxis": {
            "gridcolor": "white",
            "linecolor": "white",
            "ticks": ""
           },
           "bgcolor": "#E5ECF6",
           "radialaxis": {
            "gridcolor": "white",
            "linecolor": "white",
            "ticks": ""
           }
          },
          "scene": {
           "xaxis": {
            "backgroundcolor": "#E5ECF6",
            "gridcolor": "white",
            "gridwidth": 2,
            "linecolor": "white",
            "showbackground": true,
            "ticks": "",
            "zerolinecolor": "white"
           },
           "yaxis": {
            "backgroundcolor": "#E5ECF6",
            "gridcolor": "white",
            "gridwidth": 2,
            "linecolor": "white",
            "showbackground": true,
            "ticks": "",
            "zerolinecolor": "white"
           },
           "zaxis": {
            "backgroundcolor": "#E5ECF6",
            "gridcolor": "white",
            "gridwidth": 2,
            "linecolor": "white",
            "showbackground": true,
            "ticks": "",
            "zerolinecolor": "white"
           }
          },
          "shapedefaults": {
           "line": {
            "color": "#2a3f5f"
           }
          },
          "ternary": {
           "aaxis": {
            "gridcolor": "white",
            "linecolor": "white",
            "ticks": ""
           },
           "baxis": {
            "gridcolor": "white",
            "linecolor": "white",
            "ticks": ""
           },
           "bgcolor": "#E5ECF6",
           "caxis": {
            "gridcolor": "white",
            "linecolor": "white",
            "ticks": ""
           }
          },
          "title": {
           "x": 0.05
          },
          "xaxis": {
           "automargin": true,
           "gridcolor": "white",
           "linecolor": "white",
           "ticks": "",
           "title": {
            "standoff": 15
           },
           "zerolinecolor": "white",
           "zerolinewidth": 2
          },
          "yaxis": {
           "automargin": true,
           "gridcolor": "white",
           "linecolor": "white",
           "ticks": "",
           "title": {
            "standoff": 15
           },
           "zerolinecolor": "white",
           "zerolinewidth": 2
          }
         }
        },
        "title": {
         "text": "Charges by Age and Region"
        },
        "xaxis": {
         "anchor": "y",
         "domain": [
          0,
          0.22999999999999998
         ],
         "title": {
          "text": "age"
         }
        },
        "xaxis2": {
         "anchor": "y2",
         "domain": [
          0.24999999999999997,
          0.48
         ],
         "matches": "x",
         "title": {
          "text": "age"
         }
        },
        "xaxis3": {
         "anchor": "y3",
         "domain": [
          0.49999999999999994,
          0.73
         ],
         "matches": "x",
         "title": {
          "text": "age"
         }
        },
        "xaxis4": {
         "anchor": "y4",
         "domain": [
          0.75,
          0.98
         ],
         "matches": "x",
         "title": {
          "text": "age"
         }
        },
        "xaxis5": {
         "anchor": "y5",
         "domain": [
          0,
          0.22999999999999998
         ],
         "matches": "x",
         "showticklabels": false
        },
        "xaxis6": {
         "anchor": "y6",
         "domain": [
          0.24999999999999997,
          0.48
         ],
         "matches": "x",
         "showticklabels": false
        },
        "xaxis7": {
         "anchor": "y7",
         "domain": [
          0.49999999999999994,
          0.73
         ],
         "matches": "x",
         "showticklabels": false
        },
        "xaxis8": {
         "anchor": "y8",
         "domain": [
          0.75,
          0.98
         ],
         "matches": "x",
         "showticklabels": false
        },
        "yaxis": {
         "anchor": "x",
         "domain": [
          0,
          0.485
         ],
         "title": {
          "text": "charges"
         }
        },
        "yaxis2": {
         "anchor": "x2",
         "domain": [
          0,
          0.485
         ],
         "matches": "y",
         "showticklabels": false
        },
        "yaxis3": {
         "anchor": "x3",
         "domain": [
          0,
          0.485
         ],
         "matches": "y",
         "showticklabels": false
        },
        "yaxis4": {
         "anchor": "x4",
         "domain": [
          0,
          0.485
         ],
         "matches": "y",
         "showticklabels": false
        },
        "yaxis5": {
         "anchor": "x5",
         "domain": [
          0.515,
          1
         ],
         "matches": "y",
         "title": {
          "text": "charges"
         }
        },
        "yaxis6": {
         "anchor": "x6",
         "domain": [
          0.515,
          1
         ],
         "matches": "y",
         "showticklabels": false
        },
        "yaxis7": {
         "anchor": "x7",
         "domain": [
          0.515,
          1
         ],
         "matches": "y",
         "showticklabels": false
        },
        "yaxis8": {
         "anchor": "x8",
         "domain": [
          0.515,
          1
         ],
         "matches": "y",
         "showticklabels": false
        }
       }
      }
     },
     "metadata": {},
     "output_type": "display_data"
    }
   ],
   "source": [
    "visual_add = px.scatter(df, \n",
    "                 x=\"age\", \n",
    "                 y=\"charges\",   \n",
    "                 color=\"sex_weight\",\n",
    "                 category_orders={\"sex_weight\": [\"female / Underweight\",\"female / Normal_weight\",\"female / Overweight\",\"female / Obese\",\n",
    "                                                 \"male / Underweight\",\"male / Normal_weight\",\"male / Overweight\",\"male / Obese\"]}, #specify the order of the categories\n",
    "                 hover_name=\"sex_weight\", \n",
    "                 facet_row=\"smoker\",\n",
    "                 facet_col=\"region\",\n",
    "                 height=800, #change size to make the charts clearer\n",
    "                 trendline=\"ols\", #add ols trendline to aid visualisation\n",
    "                 title=\"Charges by Age and Region\",) #add chart title\n",
    "\n",
    "visual_add.show()"
   ]
  },
  {
   "cell_type": "markdown",
   "id": "417b2e2e",
   "metadata": {},
   "source": [
    "Observations:\n",
    "1) The trendlines in the second row, i.e. for the non-smokers, are clustered fairly closely together, for all gender/weight_group combinations.  This suggests that BMI (represented by weight_group) and gender are less material pricing attributes for the non-smokers.  Different regions exhibit similar trends.\n",
    "2) The trendlines in the first row, i.e. for the smokers, are in stark contrast however.  Obese group has a considerably higher premium than other weight groups for both male and female.\n",
    "3) A breif summary by comparing male and female charges individually across different weight groups:\n",
    "    a) underweight - there is not enough data points for meaningful analysis or comparison;\n",
    "    b) normal weight - results are quite mixed.  For exampl, female non-smoker charges look to be higher than male non-smoker for the Southeast region.  This seems to be caused by a couple of outliers for the female population with high charges.  Female smoker charges are broadly lower than male smoker for the Northeast region;\n",
    "    c) overweight - male and female charges are much closely aligned relative to the other weight groups observed.\n",
    "    d) obese - similar observation to the overweight group, though at higher values."
   ]
  },
  {
   "cell_type": "markdown",
   "id": "929cd87e",
   "metadata": {},
   "source": [
    "# Conclusions"
   ]
  },
  {
   "cell_type": "markdown",
   "id": "57b825ce",
   "metadata": {},
   "source": [
    "We have produced some analyses, utilising visualisations, to meet our business requirements.\n",
    "\n",
    "The results support our hypothesis that the insurance charges:\n",
    "\n",
    "1) increase with age;\n",
    "2) be higher for smoker; and\n",
    "3) vary with BMI, which was modelled by weight_group categorisation \n",
    "\n",
    "Difference between female and male pricing is less conclusive, and further analyses are required.\n",
    "\n",
    "Suggested next steps:\n",
    "\n",
    "1) Analyse impact of number of children/dependents on the insurance charges, in addition to the attributes considered so far.\n",
    "2) Drill down further into the obese group (instead of the simplified grouping categories used).\n",
    "3) More data points in general and especially for the underweight class.\n",
    "4) Examine some of the outliers identified in the last section, which may give greater insight of other contributing factors.\n"
   ]
  }
 ],
 "metadata": {
  "kernelspec": {
   "display_name": ".venv",
   "language": "python",
   "name": "python3"
  },
  "language_info": {
   "codemirror_mode": {
    "name": "ipython",
    "version": 3
   },
   "file_extension": ".py",
   "mimetype": "text/x-python",
   "name": "python",
   "nbconvert_exporter": "python",
   "pygments_lexer": "ipython3",
   "version": "3.12.8"
  }
 },
 "nbformat": 4,
 "nbformat_minor": 5
}
